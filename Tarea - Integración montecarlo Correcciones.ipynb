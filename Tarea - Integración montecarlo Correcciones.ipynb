{
 "cells": [
  {
   "cell_type": "markdown",
   "metadata": {},
   "source": [
    "# TAREA"
   ]
  },
  {
   "cell_type": "markdown",
   "metadata": {},
   "source": [
    "## Integración Montecarlo"
   ]
  },
  {
   "cell_type": "markdown",
   "metadata": {},
   "source": [
    "1. Realizar las siguientes integrales. Poner los resultados en una tabla cuyas filas correspondan a la cantidad de términos utilizados en la aproximación (usar 10, 100, 1000, 10000 y 100000 términos) y cuyas columnas correspondan a las funciones.\n",
    "    + $\\int_{1}^{3} e^{x}\\log(x)\\text{d}x$.\n",
    "    + $\\int_1^3 \\sin(x)\\ln(x) \\text{d}x$"
   ]
  },
  {
   "cell_type": "code",
   "execution_count": 1,
   "metadata": {},
   "outputs": [
    {
     "data": {
      "text/plain": [
       "17.37190137203096"
      ]
     },
     "execution_count": 1,
     "metadata": {},
     "output_type": "execute_result"
    }
   ],
   "source": [
    "import numpy as np\n",
    "import pandas as pd\n",
    "\n",
    "def f(x):\n",
    "    return(np.exp(x))\n",
    "N = 100000\n",
    "u = np.random.uniform(3, 1, N)\n",
    "np.mean(f(u))*(3-1)"
   ]
  },
  {
   "cell_type": "code",
   "execution_count": 5,
   "metadata": {},
   "outputs": [],
   "source": [
    "def montecarlo(f, N, a, b):\n",
    "    u = np.random.uniform(a, b, N)\n",
    "    return np.mean(f(u))*(b-a) "
   ]
  },
  {
   "cell_type": "code",
   "execution_count": 7,
   "metadata": {},
   "outputs": [
    {
     "data": {
      "text/html": [
       "<div>\n",
       "<style scoped>\n",
       "    .dataframe tbody tr th:only-of-type {\n",
       "        vertical-align: middle;\n",
       "    }\n",
       "\n",
       "    .dataframe tbody tr th {\n",
       "        vertical-align: top;\n",
       "    }\n",
       "\n",
       "    .dataframe thead th {\n",
       "        text-align: right;\n",
       "    }\n",
       "</style>\n",
       "<table border=\"1\" class=\"dataframe\">\n",
       "  <thead>\n",
       "    <tr style=\"text-align: right;\">\n",
       "      <th></th>\n",
       "      <th>Aproximación</th>\n",
       "      <th>Error</th>\n",
       "    </tr>\n",
       "  </thead>\n",
       "  <tbody>\n",
       "    <tr>\n",
       "      <th>10.0</th>\n",
       "      <td>NaN</td>\n",
       "      <td>NaN</td>\n",
       "    </tr>\n",
       "    <tr>\n",
       "      <th>100.0</th>\n",
       "      <td>NaN</td>\n",
       "      <td>NaN</td>\n",
       "    </tr>\n",
       "    <tr>\n",
       "      <th>1000.0</th>\n",
       "      <td>NaN</td>\n",
       "      <td>NaN</td>\n",
       "    </tr>\n",
       "    <tr>\n",
       "      <th>10000.0</th>\n",
       "      <td>NaN</td>\n",
       "      <td>NaN</td>\n",
       "    </tr>\n",
       "    <tr>\n",
       "      <th>100000.0</th>\n",
       "      <td>NaN</td>\n",
       "      <td>NaN</td>\n",
       "    </tr>\n",
       "  </tbody>\n",
       "</table>\n",
       "</div>"
      ],
      "text/plain": [
       "         Aproximación Error\n",
       "10.0              NaN   NaN\n",
       "100.0             NaN   NaN\n",
       "1000.0            NaN   NaN\n",
       "10000.0           NaN   NaN\n",
       "100000.0          NaN   NaN"
      ]
     },
     "execution_count": 7,
     "metadata": {},
     "output_type": "execute_result"
    }
   ],
   "source": [
    "table = pd.DataFrame(columns = [\"Aproximación\", \"Error\"], index = N)\n",
    "table"
   ]
  },
  {
   "cell_type": "code",
   "execution_count": 8,
   "metadata": {},
   "outputs": [
    {
     "name": "stdout",
     "output_type": "stream",
     "text": [
      "10.0\n",
      "100.0\n",
      "1000.0\n",
      "10000.0\n",
      "100000.0\n"
     ]
    },
    {
     "data": {
      "text/html": [
       "<div>\n",
       "<style scoped>\n",
       "    .dataframe tbody tr th:only-of-type {\n",
       "        vertical-align: middle;\n",
       "    }\n",
       "\n",
       "    .dataframe tbody tr th {\n",
       "        vertical-align: top;\n",
       "    }\n",
       "\n",
       "    .dataframe thead th {\n",
       "        text-align: right;\n",
       "    }\n",
       "</style>\n",
       "<table border=\"1\" class=\"dataframe\">\n",
       "  <thead>\n",
       "    <tr style=\"text-align: right;\">\n",
       "      <th></th>\n",
       "      <th>Aproximación</th>\n",
       "      <th>Error</th>\n",
       "    </tr>\n",
       "  </thead>\n",
       "  <tbody>\n",
       "    <tr>\n",
       "      <th>10.0</th>\n",
       "      <td>12.634712</td>\n",
       "      <td>4.703488</td>\n",
       "    </tr>\n",
       "    <tr>\n",
       "      <th>100.0</th>\n",
       "      <td>16.75705</td>\n",
       "      <td>0.58115</td>\n",
       "    </tr>\n",
       "    <tr>\n",
       "      <th>1000.0</th>\n",
       "      <td>17.237894</td>\n",
       "      <td>0.100306</td>\n",
       "    </tr>\n",
       "    <tr>\n",
       "      <th>10000.0</th>\n",
       "      <td>17.496501</td>\n",
       "      <td>-0.158301</td>\n",
       "    </tr>\n",
       "    <tr>\n",
       "      <th>100000.0</th>\n",
       "      <td>17.426328</td>\n",
       "      <td>-0.088128</td>\n",
       "    </tr>\n",
       "  </tbody>\n",
       "</table>\n",
       "</div>"
      ],
      "text/plain": [
       "         Aproximación     Error\n",
       "10.0        12.634712  4.703488\n",
       "100.0        16.75705   0.58115\n",
       "1000.0      17.237894  0.100306\n",
       "10000.0     17.496501 -0.158301\n",
       "100000.0    17.426328 -0.088128"
      ]
     },
     "execution_count": 8,
     "metadata": {},
     "output_type": "execute_result"
    }
   ],
   "source": [
    "N = np.logspace(1, 5, 5)\n",
    "for i in N : \n",
    "    print (i)\n",
    "a = 1\n",
    "b = 3\n",
    "\n",
    "for i in N : \n",
    "    aprox = montecarlo(f, int(i), a , b)\n",
    "    table.loc[i, \"Aproximación\"] = aprox\n",
    "    table.loc[i, \"Error\"] = (17.3382) - aprox\n",
    "table"
   ]
  },
  {
   "cell_type": "code",
   "execution_count": 10,
   "metadata": {},
   "outputs": [
    {
     "data": {
      "text/plain": [
       "0.37736173487703417"
      ]
     },
     "execution_count": 10,
     "metadata": {},
     "output_type": "execute_result"
    }
   ],
   "source": [
    "import sympy as sp\n",
    "def f(x):\n",
    "    return(np.sin(x)*np.log10(x))\n",
    "N = 100000\n",
    "u = np.random.uniform(3,1, N)\n",
    "np.mean(f(u))*(3-1)"
   ]
  },
  {
   "cell_type": "code",
   "execution_count": 11,
   "metadata": {},
   "outputs": [
    {
     "name": "stdout",
     "output_type": "stream",
     "text": [
      "10.0\n",
      "100.0\n",
      "1000.0\n",
      "10000.0\n",
      "100000.0\n"
     ]
    },
    {
     "data": {
      "text/html": [
       "<div>\n",
       "<style scoped>\n",
       "    .dataframe tbody tr th:only-of-type {\n",
       "        vertical-align: middle;\n",
       "    }\n",
       "\n",
       "    .dataframe tbody tr th {\n",
       "        vertical-align: top;\n",
       "    }\n",
       "\n",
       "    .dataframe thead th {\n",
       "        text-align: right;\n",
       "    }\n",
       "</style>\n",
       "<table border=\"1\" class=\"dataframe\">\n",
       "  <thead>\n",
       "    <tr style=\"text-align: right;\">\n",
       "      <th></th>\n",
       "      <th>Aproximación</th>\n",
       "      <th>Error</th>\n",
       "    </tr>\n",
       "  </thead>\n",
       "  <tbody>\n",
       "    <tr>\n",
       "      <th>10.0</th>\n",
       "      <td>0.406543</td>\n",
       "      <td>-0.029183</td>\n",
       "    </tr>\n",
       "    <tr>\n",
       "      <th>100.0</th>\n",
       "      <td>0.408538</td>\n",
       "      <td>-0.031178</td>\n",
       "    </tr>\n",
       "    <tr>\n",
       "      <th>1000.0</th>\n",
       "      <td>0.366871</td>\n",
       "      <td>0.010489</td>\n",
       "    </tr>\n",
       "    <tr>\n",
       "      <th>10000.0</th>\n",
       "      <td>0.377556</td>\n",
       "      <td>-0.000196</td>\n",
       "    </tr>\n",
       "    <tr>\n",
       "      <th>100000.0</th>\n",
       "      <td>0.378289</td>\n",
       "      <td>-0.000929</td>\n",
       "    </tr>\n",
       "  </tbody>\n",
       "</table>\n",
       "</div>"
      ],
      "text/plain": [
       "         Aproximación     Error\n",
       "10.0         0.406543 -0.029183\n",
       "100.0        0.408538 -0.031178\n",
       "1000.0       0.366871  0.010489\n",
       "10000.0      0.377556 -0.000196\n",
       "100000.0     0.378289 -0.000929"
      ]
     },
     "execution_count": 11,
     "metadata": {},
     "output_type": "execute_result"
    }
   ],
   "source": [
    "N = np.logspace(1, 5, 5)\n",
    "for i in N : \n",
    "    print (i)\n",
    "a = 1\n",
    "b = 3\n",
    "\n",
    "for i in N : \n",
    "    aprox = montecarlo(f, int(i), a , b)\n",
    "    table.loc[i, \"Aproximación\"] = aprox\n",
    "    table.loc[i, \"Error\"] = (0.37736) - aprox\n",
    "table"
   ]
  },
  {
   "cell_type": "markdown",
   "metadata": {},
   "source": [
    "2. Aproximar el área de la región descrita por\n",
    "\n",
    "$$x^2+2y^2\\leq-2x+8y-7$$\n",
    "\n",
    "Poner los resultados en una tabla cuyas filas correspondan a la cantidad de términos utilizados en la aproximación (usar 10, 100, 1000, 10000 y 100000 términos) y en las columnas el valor de aproximación y el error relativo.\n",
    "\n",
    "Definir unos límites adecuados $a_1$, $b_1$, $a_2$ y $b_2$, para la región $R=\\left[a_1,b_1\\right]\\times\\left[a_2,b_2\\right]$"
   ]
  },
  {
   "cell_type": "code",
   "execution_count": 2,
   "metadata": {},
   "outputs": [],
   "source": [
    "import random\n",
    "import numpy as np\n",
    "import sympy as sp\n",
    "import matplotlib.pyplot as plt\n",
    "%matplotlib inline\n",
    "import pandas as pd"
   ]
  },
  {
   "cell_type": "code",
   "execution_count": 3,
   "metadata": {},
   "outputs": [],
   "source": [
    "def f(x,y):\n",
    "    return ((x)**2 + 2*(y)**2) <= (-2*x + 8*y - 7)"
   ]
  },
  {
   "cell_type": "code",
   "execution_count": 4,
   "metadata": {},
   "outputs": [],
   "source": [
    "#CORREGÍ EL RANGO DEL 0 AL 3\n",
    "x = np.random.uniform(-3, 1, 100)\n",
    "y = np.random.uniform(0, 3, 100)\n",
    "X, Y = np.meshgrid(x, y)"
   ]
  },
  {
   "cell_type": "code",
   "execution_count": 5,
   "metadata": {},
   "outputs": [
    {
     "data": {
      "text/plain": [
       "<matplotlib.collections.PathCollection at 0x7f8b31b759a0>"
      ]
     },
     "execution_count": 5,
     "metadata": {},
     "output_type": "execute_result"
    },
    {
     "data": {
      "image/png": "[encoded data removed]",
      "text/plain": [
       "<Figure size 640x480 with 1 Axes>"
      ]
     },
     "metadata": {},
     "output_type": "display_data"
    }
   ],
   "source": [
    "plt.figure()\n",
    "plt.scatter(X,Y, c =~ f(X, Y))"
   ]
  },
  {
   "cell_type": "code",
   "execution_count": 6,
   "metadata": {},
   "outputs": [
    {
     "data": {
      "text/html": [
       "<div>\n",
       "<style scoped>\n",
       "    .dataframe tbody tr th:only-of-type {\n",
       "        vertical-align: middle;\n",
       "    }\n",
       "\n",
       "    .dataframe tbody tr th {\n",
       "        vertical-align: top;\n",
       "    }\n",
       "\n",
       "    .dataframe thead th {\n",
       "        text-align: right;\n",
       "    }\n",
       "</style>\n",
       "<table border=\"1\" class=\"dataframe\">\n",
       "  <thead>\n",
       "    <tr style=\"text-align: right;\">\n",
       "      <th></th>\n",
       "      <th>Aproximación</th>\n",
       "    </tr>\n",
       "  </thead>\n",
       "  <tbody>\n",
       "    <tr>\n",
       "      <th>10.0</th>\n",
       "      <td>NaN</td>\n",
       "    </tr>\n",
       "    <tr>\n",
       "      <th>100.0</th>\n",
       "      <td>NaN</td>\n",
       "    </tr>\n",
       "    <tr>\n",
       "      <th>1000.0</th>\n",
       "      <td>NaN</td>\n",
       "    </tr>\n",
       "    <tr>\n",
       "      <th>10000.0</th>\n",
       "      <td>NaN</td>\n",
       "    </tr>\n",
       "    <tr>\n",
       "      <th>100000.0</th>\n",
       "      <td>NaN</td>\n",
       "    </tr>\n",
       "  </tbody>\n",
       "</table>\n",
       "</div>"
      ],
      "text/plain": [
       "         Aproximación\n",
       "10.0              NaN\n",
       "100.0             NaN\n",
       "1000.0            NaN\n",
       "10000.0           NaN\n",
       "100000.0          NaN"
      ]
     },
     "execution_count": 6,
     "metadata": {},
     "output_type": "execute_result"
    }
   ],
   "source": [
    "N = np.logspace(1, 5, 5)\n",
    "table = pd.DataFrame(columns = [\"Aproximación\"], index = N)\n",
    "table"
   ]
  },
  {
   "cell_type": "code",
   "execution_count": 7,
   "metadata": {},
   "outputs": [],
   "source": [
    "def montecarlo2 (region, ax, bx, ay, by, N):\n",
    "    x = np.random.uniform(ax,bx, N)\n",
    "    y = np.random.uniform(ay,by, N)\n",
    "    B = region (x,y)\n",
    "    Ar = (bx-ax)*(by-ay)\n",
    "    return np.mean(B)*Ar"
   ]
  },
  {
   "cell_type": "code",
   "execution_count": 8,
   "metadata": {},
   "outputs": [
    {
     "data": {
      "text/plain": [
       "4.4376"
      ]
     },
     "execution_count": 8,
     "metadata": {},
     "output_type": "execute_result"
    }
   ],
   "source": [
    "montecarlo2 (f, -3, 1, 0, 3, 10000)"
   ]
  },
  {
   "cell_type": "code",
   "execution_count": 9,
   "metadata": {},
   "outputs": [
    {
     "data": {
      "text/html": [
       "<div>\n",
       "<style scoped>\n",
       "    .dataframe tbody tr th:only-of-type {\n",
       "        vertical-align: middle;\n",
       "    }\n",
       "\n",
       "    .dataframe tbody tr th {\n",
       "        vertical-align: top;\n",
       "    }\n",
       "\n",
       "    .dataframe thead th {\n",
       "        text-align: right;\n",
       "    }\n",
       "</style>\n",
       "<table border=\"1\" class=\"dataframe\">\n",
       "  <thead>\n",
       "    <tr style=\"text-align: right;\">\n",
       "      <th></th>\n",
       "      <th>Aproximación</th>\n",
       "      <th>Error</th>\n",
       "    </tr>\n",
       "  </thead>\n",
       "  <tbody>\n",
       "    <tr>\n",
       "      <th>10.0</th>\n",
       "      <td>4.8</td>\n",
       "      <td>-0.45360</td>\n",
       "    </tr>\n",
       "    <tr>\n",
       "      <th>100.0</th>\n",
       "      <td>4.44</td>\n",
       "      <td>-0.09360</td>\n",
       "    </tr>\n",
       "    <tr>\n",
       "      <th>1000.0</th>\n",
       "      <td>4.38</td>\n",
       "      <td>-0.03360</td>\n",
       "    </tr>\n",
       "    <tr>\n",
       "      <th>10000.0</th>\n",
       "      <td>4.4148</td>\n",
       "      <td>-0.06840</td>\n",
       "    </tr>\n",
       "    <tr>\n",
       "      <th>100000.0</th>\n",
       "      <td>4.45788</td>\n",
       "      <td>-0.11148</td>\n",
       "    </tr>\n",
       "  </tbody>\n",
       "</table>\n",
       "</div>"
      ],
      "text/plain": [
       "         Aproximación    Error\n",
       "10.0              4.8 -0.45360\n",
       "100.0            4.44 -0.09360\n",
       "1000.0           4.38 -0.03360\n",
       "10000.0        4.4148 -0.06840\n",
       "100000.0      4.45788 -0.11148"
      ]
     },
     "execution_count": 9,
     "metadata": {},
     "output_type": "execute_result"
    }
   ],
   "source": [
    "#hice el error relativo\n",
    "for i in N : \n",
    "    aprox = montecarlo2(f, -3, 1, 0, 3,int(i))\n",
    "    table.loc[i,\"Aproximación\"] =  aprox\n",
    "    table.loc[i,\"Error\"] =  (4.3464) - aprox\n",
    "table"
   ]
  },
  {
   "cell_type": "markdown",
   "metadata": {},
   "source": [
    "3. Describe 3 casos de uso de integración Montecarlo en tu ingeniería."
   ]
  },
  {
   "cell_type": "markdown",
   "metadata": {},
   "source": [
    "- Simulación de precios de activos: El método de integración Montecarlo nos puede ayudar a ver como va variando el precio de la acción y esto lo podemos obtener como un cambio porcentual día a día o tal cual en moneda. De esta manera puedes darte una idea si es conveniente o no invertir en ese activo. \n",
    "\n",
    "- Análisis de riesgo: El método de integración Montecarlo se puede utilizar para realizar análisis de riesgo en portafolios de inversión, ya que es posible obtener el riegso que existe en ellos al simular el comportamiento de los precios a futuro. \n",
    "\n",
    "- Valoración de opciones: El método de integración Montecarlo también podría servir para valorar opciones. Como mencioné en el ejemplo anterior, podemos simular los precios, en este caso se puede hacer lo mismo, pero con el precio de un activo en específico, de esta manera se puede calcular aproxiadamente el valor de la opción."
   ]
  }
 ],
 "metadata": {
  "kernelspec": {
   "display_name": "Python 3 (ipykernel)",
   "language": "python",
   "name": "python3"
  },
  "language_info": {
   "codemirror_mode": {
    "name": "ipython",
    "version": 3
   },
   "file_extension": ".py",
   "mimetype": "text/x-python",
   "name": "python",
   "nbconvert_exporter": "python",
   "pygments_lexer": "ipython3",
   "version": "3.9.13"
  }
 },
 "nbformat": 4,
 "nbformat_minor": 2
}
