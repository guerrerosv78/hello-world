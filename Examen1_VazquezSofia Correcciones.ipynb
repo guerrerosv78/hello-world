{
 "cells": [
  {
   "cell_type": "markdown",
   "metadata": {
    "colab_type": "text",
    "id": "GJV4HZf_7eDM"
   },
   "source": [
    "# Examen Módulo 2 - Montecarlo - 1.\n",
    "\n",
    "**Mantenga la calma y lea cuidadosamente las siguientes indicaciones antes de comenzar el examen:**\n",
    "- Para resolver el examen edite este mismo archivo y renómbrelo de la siguiente manera: *Examen2_ApellidoNombre*, donde *ApellidoNombre* corresponde a su apellido paterno con la inicial en mayúscula, seguido de su primer nombre con la inicial en mayúscula **sin acentos**. Por ejemplo, en mi caso el nombre del archivo sería *Examen2_ArellanoCarlos*.\n",
    "- Resuelva los puntos en el espacio provisto. Si requiere agregar más celdas para código o escritura, hágalo (`Esc`+`B`) o (`Esc`+`A`).\n",
    "- Recuerde que también se está evaluando su capacidad de interpretar los resultados. Escriba sus interpretaciones/conclusiones en celdas utilizando *Markdown*.\n",
    "- El formato de presentación de todo el examen en general debe ser adecuado. Use tamaños de letra, colores, etiquetas, etcétera.\n",
    "- No se resuelven dudas de ningún tipo por los profesores de la asignatura. Por favor absténgase de preguntar."
   ]
  },
  {
   "cell_type": "markdown",
   "metadata": {
    "colab_type": "text",
    "id": "E287s7IJfdG_"
   },
   "source": [
    "---\n",
    "### Integración Montecarlo tipo 1 <font size='1'>(25 puntos)</font>\n",
    "\n",
    "Encuentre los valores de $y(0.3)$, $y(0.5)$, $y(0.7)$, $y(0.9)$ y $y(1.1)$, conociendo $y(0.1)=0.1$ y su derivada\n",
    "$$\n",
    "\\frac{dy}{dx}=\\frac{\\ln(2+\\sin(2x^2))}{xe^{-x^3}},\\quad y(0.1)=0.1\n",
    "$$\n",
    "\n",
    "Para cada intervalo: $(0.1\\leq x\\leq0.3)$, $(0.3\\leq x\\leq0.5)$, $(0.5\\leq x\\leq0.7)$, $(0.7\\leq x\\leq0.9)$ y $(0.9\\leq x\\leq1.1)$ use integración Montecarlo de tipo 1 con $10^6$ puntos."
   ]
  },
  {
   "cell_type": "markdown",
   "metadata": {
    "colab_type": "text",
    "id": "fZdnlrZlD-IF"
   },
   "source": [
    "1. Escriba la función de integración Montecarlo de tipo 1, con argumentos de entrada $f$, $a$, $b$ y $N$. Donde $f$ es la función a integrar, $a$ y $b$ son los límites de integración y $N$ es el número de puntos utilizados para la integración. Y que regrese el valor de la integral."
   ]
  },
  {
   "cell_type": "code",
   "execution_count": 109,
   "metadata": {},
   "outputs": [],
   "source": [
    "import random\n",
    "import numpy as np\n",
    "import sympy as sp\n",
    "import matplotlib.pyplot as plt\n",
    "%matplotlib inline\n",
    "import pandas as pd "
   ]
  },
  {
   "cell_type": "code",
   "execution_count": 112,
   "metadata": {
    "colab": {},
    "colab_type": "code",
    "id": "JcPup8MFhoCs"
   },
   "outputs": [
    {
     "data": {
      "text/plain": [
       "0.8074524982219718"
      ]
     },
     "execution_count": 112,
     "metadata": {},
     "output_type": "execute_result"
    }
   ],
   "source": [
    "def f(x):\n",
    "    return (np.log(2+np.sin(2*x**2)))/(x*np.exp(-x**3))\n",
    "N = 1000000\n",
    "u = np.random.uniform(0.1,0.3, N)\n",
    "np.mean(f(u))*(0.3-0.1)"
   ]
  },
  {
   "cell_type": "markdown",
   "metadata": {
    "colab_type": "text",
    "id": "tLvr8o0bEiBs"
   },
   "source": [
    "2. Defina la función a integrar con argumentos de entrada $x$ y que regrese el valor de la derivada $\\frac{dy}{dx}$."
   ]
  },
  {
   "cell_type": "code",
   "execution_count": 113,
   "metadata": {
    "colab": {},
    "colab_type": "code",
    "id": "ndAUHX0pFQ_u"
   },
   "outputs": [
    {
     "data": {
      "text/plain": [
       "0.8072514174565252"
      ]
     },
     "execution_count": 113,
     "metadata": {},
     "output_type": "execute_result"
    }
   ],
   "source": [
    "def f(x):\n",
    "    return (np.log(2+np.sin(2*x**2)))/(x*np.exp(-x**3))\n",
    "N = 1000000\n",
    "u = np.random.uniform(0.1,0.3, N)\n",
    "np.mean(f(u))*(0.3-0.1)"
   ]
  },
  {
   "cell_type": "markdown",
   "metadata": {
    "colab_type": "text",
    "id": "sqVY8RMXFW5s"
   },
   "source": [
    "3. Encuentre la aproximación de las integrales con el método de Montecarlo de tipo 1. Escriba sus resultados en un _DataFrame_ de _pandas_."
   ]
  },
  {
   "cell_type": "code",
   "execution_count": 114,
   "metadata": {
    "colab": {},
    "colab_type": "code",
    "id": "y7cs-CQ-FsdB"
   },
   "outputs": [
    {
     "data": {
      "text/plain": [
       "array([1.e+01, 1.e+02, 1.e+03, 1.e+04, 1.e+05, 1.e+06])"
      ]
     },
     "execution_count": 114,
     "metadata": {},
     "output_type": "execute_result"
    }
   ],
   "source": [
    "N = np.logspace(1, 6, 6)\n",
    "N"
   ]
  },
  {
   "cell_type": "code",
   "execution_count": 115,
   "metadata": {},
   "outputs": [
    {
     "data": {
      "text/html": [
       "<div>\n",
       "<style scoped>\n",
       "    .dataframe tbody tr th:only-of-type {\n",
       "        vertical-align: middle;\n",
       "    }\n",
       "\n",
       "    .dataframe tbody tr th {\n",
       "        vertical-align: top;\n",
       "    }\n",
       "\n",
       "    .dataframe thead th {\n",
       "        text-align: right;\n",
       "    }\n",
       "</style>\n",
       "<table border=\"1\" class=\"dataframe\">\n",
       "  <thead>\n",
       "    <tr style=\"text-align: right;\">\n",
       "      <th></th>\n",
       "      <th>Aproximación</th>\n",
       "      <th>Error</th>\n",
       "    </tr>\n",
       "  </thead>\n",
       "  <tbody>\n",
       "    <tr>\n",
       "      <th>10.0</th>\n",
       "      <td>NaN</td>\n",
       "      <td>NaN</td>\n",
       "    </tr>\n",
       "    <tr>\n",
       "      <th>100.0</th>\n",
       "      <td>NaN</td>\n",
       "      <td>NaN</td>\n",
       "    </tr>\n",
       "    <tr>\n",
       "      <th>1000.0</th>\n",
       "      <td>NaN</td>\n",
       "      <td>NaN</td>\n",
       "    </tr>\n",
       "    <tr>\n",
       "      <th>10000.0</th>\n",
       "      <td>NaN</td>\n",
       "      <td>NaN</td>\n",
       "    </tr>\n",
       "    <tr>\n",
       "      <th>100000.0</th>\n",
       "      <td>NaN</td>\n",
       "      <td>NaN</td>\n",
       "    </tr>\n",
       "    <tr>\n",
       "      <th>1000000.0</th>\n",
       "      <td>NaN</td>\n",
       "      <td>NaN</td>\n",
       "    </tr>\n",
       "  </tbody>\n",
       "</table>\n",
       "</div>"
      ],
      "text/plain": [
       "          Aproximación Error\n",
       "10.0               NaN   NaN\n",
       "100.0              NaN   NaN\n",
       "1000.0             NaN   NaN\n",
       "10000.0            NaN   NaN\n",
       "100000.0           NaN   NaN\n",
       "1000000.0          NaN   NaN"
      ]
     },
     "execution_count": 115,
     "metadata": {},
     "output_type": "execute_result"
    }
   ],
   "source": [
    "table = pd.DataFrame(columns = [\"Aproximación\", \"Error\"], index = N)\n",
    "table"
   ]
  },
  {
   "cell_type": "code",
   "execution_count": 116,
   "metadata": {},
   "outputs": [],
   "source": [
    "def montecarlo(f, N, a, b):\n",
    "    u = np.random.uniform(a, b, N)\n",
    "    return np.mean(f(u))*(b-a) "
   ]
  },
  {
   "cell_type": "code",
   "execution_count": 117,
   "metadata": {},
   "outputs": [
    {
     "name": "stdout",
     "output_type": "stream",
     "text": [
      "10.0\n",
      "100.0\n",
      "1000.0\n",
      "10000.0\n",
      "100000.0\n",
      "1000000.0\n"
     ]
    }
   ],
   "source": [
    "for i in N : \n",
    "    print (i)"
   ]
  },
  {
   "cell_type": "code",
   "execution_count": 118,
   "metadata": {},
   "outputs": [
    {
     "data": {
      "text/html": [
       "<div>\n",
       "<style scoped>\n",
       "    .dataframe tbody tr th:only-of-type {\n",
       "        vertical-align: middle;\n",
       "    }\n",
       "\n",
       "    .dataframe tbody tr th {\n",
       "        vertical-align: top;\n",
       "    }\n",
       "\n",
       "    .dataframe thead th {\n",
       "        text-align: right;\n",
       "    }\n",
       "</style>\n",
       "<table border=\"1\" class=\"dataframe\">\n",
       "  <thead>\n",
       "    <tr style=\"text-align: right;\">\n",
       "      <th></th>\n",
       "      <th>Aproximación</th>\n",
       "      <th>Error</th>\n",
       "    </tr>\n",
       "  </thead>\n",
       "  <tbody>\n",
       "    <tr>\n",
       "      <th>10.0</th>\n",
       "      <td>0.911223</td>\n",
       "      <td>-0.103771</td>\n",
       "    </tr>\n",
       "    <tr>\n",
       "      <th>100.0</th>\n",
       "      <td>0.796475</td>\n",
       "      <td>0.010977</td>\n",
       "    </tr>\n",
       "    <tr>\n",
       "      <th>1000.0</th>\n",
       "      <td>0.805265</td>\n",
       "      <td>0.002187</td>\n",
       "    </tr>\n",
       "    <tr>\n",
       "      <th>10000.0</th>\n",
       "      <td>0.809368</td>\n",
       "      <td>-0.001916</td>\n",
       "    </tr>\n",
       "    <tr>\n",
       "      <th>100000.0</th>\n",
       "      <td>0.806717</td>\n",
       "      <td>0.000735</td>\n",
       "    </tr>\n",
       "    <tr>\n",
       "      <th>1000000.0</th>\n",
       "      <td>0.806595</td>\n",
       "      <td>0.000857</td>\n",
       "    </tr>\n",
       "  </tbody>\n",
       "</table>\n",
       "</div>"
      ],
      "text/plain": [
       "          Aproximación     Error\n",
       "10.0          0.911223 -0.103771\n",
       "100.0         0.796475  0.010977\n",
       "1000.0        0.805265  0.002187\n",
       "10000.0       0.809368 -0.001916\n",
       "100000.0      0.806717  0.000735\n",
       "1000000.0     0.806595  0.000857"
      ]
     },
     "execution_count": 118,
     "metadata": {},
     "output_type": "execute_result"
    }
   ],
   "source": [
    "a = 0.1\n",
    "b = 0.3\n",
    "\n",
    "for i in N : \n",
    "    aprox = montecarlo(f, int(i), a , b)\n",
    "    table.loc[i, \"Aproximación\"] = aprox\n",
    "    table.loc[i, \"Error\"] = (0.807452) - aprox\n",
    "table"
   ]
  },
  {
   "cell_type": "code",
   "execution_count": 120,
   "metadata": {},
   "outputs": [
    {
     "data": {
      "text/plain": [
       "0.4555884516051656"
      ]
     },
     "execution_count": 120,
     "metadata": {},
     "output_type": "execute_result"
    }
   ],
   "source": [
    "def f(x):\n",
    "    return (np.log(2+np.sin(2*x**2)))/(x*np.exp(-x**3))\n",
    "N = 1000000\n",
    "u = np.random.uniform(0.3,0.5, N)\n",
    "np.mean(f(u))*(0.5-0.3)"
   ]
  },
  {
   "cell_type": "code",
   "execution_count": 121,
   "metadata": {},
   "outputs": [
    {
     "name": "stdout",
     "output_type": "stream",
     "text": [
      "10.0\n",
      "100.0\n",
      "1000.0\n",
      "10000.0\n",
      "100000.0\n",
      "1000000.0\n"
     ]
    },
    {
     "data": {
      "text/html": [
       "<div>\n",
       "<style scoped>\n",
       "    .dataframe tbody tr th:only-of-type {\n",
       "        vertical-align: middle;\n",
       "    }\n",
       "\n",
       "    .dataframe tbody tr th {\n",
       "        vertical-align: top;\n",
       "    }\n",
       "\n",
       "    .dataframe thead th {\n",
       "        text-align: right;\n",
       "    }\n",
       "</style>\n",
       "<table border=\"1\" class=\"dataframe\">\n",
       "  <thead>\n",
       "    <tr style=\"text-align: right;\">\n",
       "      <th></th>\n",
       "      <th>Aproximación</th>\n",
       "      <th>Error</th>\n",
       "    </tr>\n",
       "  </thead>\n",
       "  <tbody>\n",
       "    <tr>\n",
       "      <th>10.0</th>\n",
       "      <td>0.459866</td>\n",
       "      <td>-0.004278</td>\n",
       "    </tr>\n",
       "    <tr>\n",
       "      <th>100.0</th>\n",
       "      <td>0.448502</td>\n",
       "      <td>0.007086</td>\n",
       "    </tr>\n",
       "    <tr>\n",
       "      <th>1000.0</th>\n",
       "      <td>0.454008</td>\n",
       "      <td>0.001581</td>\n",
       "    </tr>\n",
       "    <tr>\n",
       "      <th>10000.0</th>\n",
       "      <td>0.455384</td>\n",
       "      <td>0.000205</td>\n",
       "    </tr>\n",
       "    <tr>\n",
       "      <th>100000.0</th>\n",
       "      <td>0.455556</td>\n",
       "      <td>0.000033</td>\n",
       "    </tr>\n",
       "    <tr>\n",
       "      <th>1000000.0</th>\n",
       "      <td>0.455518</td>\n",
       "      <td>0.000071</td>\n",
       "    </tr>\n",
       "  </tbody>\n",
       "</table>\n",
       "</div>"
      ],
      "text/plain": [
       "          Aproximación     Error\n",
       "10.0          0.459866 -0.004278\n",
       "100.0         0.448502  0.007086\n",
       "1000.0        0.454008  0.001581\n",
       "10000.0       0.455384  0.000205\n",
       "100000.0      0.455556  0.000033\n",
       "1000000.0     0.455518  0.000071"
      ]
     },
     "execution_count": 121,
     "metadata": {},
     "output_type": "execute_result"
    }
   ],
   "source": [
    "N = np.logspace(1, 6, 6)\n",
    "for i in N : \n",
    "    print (i)\n",
    "a = 0.3\n",
    "b = 0.5\n",
    "\n",
    "for i in N : \n",
    "    aprox = montecarlo(f, int(i), a , b)\n",
    "    table.loc[i, \"Aproximación\"] = aprox\n",
    "    table.loc[i, \"Error\"] = (0.4555884) - aprox\n",
    "table"
   ]
  },
  {
   "cell_type": "code",
   "execution_count": 122,
   "metadata": {},
   "outputs": [
    {
     "data": {
      "text/plain": [
       "0.40813888135479975"
      ]
     },
     "execution_count": 122,
     "metadata": {},
     "output_type": "execute_result"
    }
   ],
   "source": [
    "def f(x):\n",
    "    return (np.log(2+np.sin(2*x**2)))/(x*np.exp(-x**3))\n",
    "N = 1000000\n",
    "u = np.random.uniform(0.5,0.7, N)\n",
    "np.mean(f(u))*(0.7-0.5)"
   ]
  },
  {
   "cell_type": "code",
   "execution_count": 123,
   "metadata": {},
   "outputs": [
    {
     "name": "stdout",
     "output_type": "stream",
     "text": [
      "10.0\n",
      "100.0\n",
      "1000.0\n",
      "10000.0\n",
      "100000.0\n",
      "1000000.0\n"
     ]
    },
    {
     "data": {
      "text/html": [
       "<div>\n",
       "<style scoped>\n",
       "    .dataframe tbody tr th:only-of-type {\n",
       "        vertical-align: middle;\n",
       "    }\n",
       "\n",
       "    .dataframe tbody tr th {\n",
       "        vertical-align: top;\n",
       "    }\n",
       "\n",
       "    .dataframe thead th {\n",
       "        text-align: right;\n",
       "    }\n",
       "</style>\n",
       "<table border=\"1\" class=\"dataframe\">\n",
       "  <thead>\n",
       "    <tr style=\"text-align: right;\">\n",
       "      <th></th>\n",
       "      <th>Aproximación</th>\n",
       "      <th>Error</th>\n",
       "    </tr>\n",
       "  </thead>\n",
       "  <tbody>\n",
       "    <tr>\n",
       "      <th>10.0</th>\n",
       "      <td>0.410576</td>\n",
       "      <td>-0.002437</td>\n",
       "    </tr>\n",
       "    <tr>\n",
       "      <th>100.0</th>\n",
       "      <td>0.407858</td>\n",
       "      <td>0.000281</td>\n",
       "    </tr>\n",
       "    <tr>\n",
       "      <th>1000.0</th>\n",
       "      <td>0.408024</td>\n",
       "      <td>0.000114</td>\n",
       "    </tr>\n",
       "    <tr>\n",
       "      <th>10000.0</th>\n",
       "      <td>0.408171</td>\n",
       "      <td>-0.000032</td>\n",
       "    </tr>\n",
       "    <tr>\n",
       "      <th>100000.0</th>\n",
       "      <td>0.40814</td>\n",
       "      <td>-0.000002</td>\n",
       "    </tr>\n",
       "    <tr>\n",
       "      <th>1000000.0</th>\n",
       "      <td>0.408143</td>\n",
       "      <td>-0.000004</td>\n",
       "    </tr>\n",
       "  </tbody>\n",
       "</table>\n",
       "</div>"
      ],
      "text/plain": [
       "          Aproximación     Error\n",
       "10.0          0.410576 -0.002437\n",
       "100.0         0.407858  0.000281\n",
       "1000.0        0.408024  0.000114\n",
       "10000.0       0.408171 -0.000032\n",
       "100000.0       0.40814 -0.000002\n",
       "1000000.0     0.408143 -0.000004"
      ]
     },
     "execution_count": 123,
     "metadata": {},
     "output_type": "execute_result"
    }
   ],
   "source": [
    "N = np.logspace(1, 6, 6)\n",
    "for i in N : \n",
    "    print (i)\n",
    "a = 0.5\n",
    "b = 0.7\n",
    "\n",
    "for i in N : \n",
    "    aprox = montecarlo(f, int(i), a , b)\n",
    "    table.loc[i, \"Aproximación\"] = aprox\n",
    "    table.loc[i, \"Error\"] = (0.4081388) - aprox\n",
    "table"
   ]
  },
  {
   "cell_type": "code",
   "execution_count": 124,
   "metadata": {},
   "outputs": [
    {
     "data": {
      "text/plain": [
       "0.45573114272679405"
      ]
     },
     "execution_count": 124,
     "metadata": {},
     "output_type": "execute_result"
    }
   ],
   "source": [
    "def f(x):\n",
    "    return (np.log(2+np.sin(2*x**2)))/(x*np.exp(-x**3))\n",
    "N = 1000000\n",
    "u = np.random.uniform(0.7,0.9, N)\n",
    "np.mean(f(u))*(0.9-0.7)"
   ]
  },
  {
   "cell_type": "code",
   "execution_count": 125,
   "metadata": {
    "scrolled": true
   },
   "outputs": [
    {
     "name": "stdout",
     "output_type": "stream",
     "text": [
      "10.0\n",
      "100.0\n",
      "1000.0\n",
      "10000.0\n",
      "100000.0\n",
      "1000000.0\n"
     ]
    },
    {
     "data": {
      "text/html": [
       "<div>\n",
       "<style scoped>\n",
       "    .dataframe tbody tr th:only-of-type {\n",
       "        vertical-align: middle;\n",
       "    }\n",
       "\n",
       "    .dataframe tbody tr th {\n",
       "        vertical-align: top;\n",
       "    }\n",
       "\n",
       "    .dataframe thead th {\n",
       "        text-align: right;\n",
       "    }\n",
       "</style>\n",
       "<table border=\"1\" class=\"dataframe\">\n",
       "  <thead>\n",
       "    <tr style=\"text-align: right;\">\n",
       "      <th></th>\n",
       "      <th>Aproximación</th>\n",
       "      <th>Error</th>\n",
       "    </tr>\n",
       "  </thead>\n",
       "  <tbody>\n",
       "    <tr>\n",
       "      <th>10.0</th>\n",
       "      <td>0.456736</td>\n",
       "      <td>-0.001005</td>\n",
       "    </tr>\n",
       "    <tr>\n",
       "      <th>100.0</th>\n",
       "      <td>0.453404</td>\n",
       "      <td>0.002327</td>\n",
       "    </tr>\n",
       "    <tr>\n",
       "      <th>1000.0</th>\n",
       "      <td>0.455068</td>\n",
       "      <td>0.000663</td>\n",
       "    </tr>\n",
       "    <tr>\n",
       "      <th>10000.0</th>\n",
       "      <td>0.455877</td>\n",
       "      <td>-0.000146</td>\n",
       "    </tr>\n",
       "    <tr>\n",
       "      <th>100000.0</th>\n",
       "      <td>0.455632</td>\n",
       "      <td>0.0001</td>\n",
       "    </tr>\n",
       "    <tr>\n",
       "      <th>1000000.0</th>\n",
       "      <td>0.455707</td>\n",
       "      <td>0.000024</td>\n",
       "    </tr>\n",
       "  </tbody>\n",
       "</table>\n",
       "</div>"
      ],
      "text/plain": [
       "          Aproximación     Error\n",
       "10.0          0.456736 -0.001005\n",
       "100.0         0.453404  0.002327\n",
       "1000.0        0.455068  0.000663\n",
       "10000.0       0.455877 -0.000146\n",
       "100000.0      0.455632    0.0001\n",
       "1000000.0     0.455707  0.000024"
      ]
     },
     "execution_count": 125,
     "metadata": {},
     "output_type": "execute_result"
    }
   ],
   "source": [
    "N = np.logspace(1, 6, 6)\n",
    "for i in N : \n",
    "    print (i)\n",
    "a = 0.7\n",
    "b = 0.9\n",
    "\n",
    "for i in N : \n",
    "    aprox = montecarlo(f, int(i), a , b)\n",
    "    table.loc[i, \"Aproximación\"] = aprox\n",
    "    table.loc[i, \"Error\"] = (0.455731142) - aprox\n",
    "table"
   ]
  },
  {
   "cell_type": "code",
   "execution_count": 126,
   "metadata": {},
   "outputs": [
    {
     "data": {
      "text/plain": [
       "0.5837448411883871"
      ]
     },
     "execution_count": 126,
     "metadata": {},
     "output_type": "execute_result"
    }
   ],
   "source": [
    "def f(x):\n",
    "    return (np.log(2+np.sin(2*x**2)))/(x*np.exp(-x**3))\n",
    "N = 1000000\n",
    "u = np.random.uniform(0.9,1.1, N)\n",
    "np.mean(f(u))*(1.1-0.9)"
   ]
  },
  {
   "cell_type": "code",
   "execution_count": 127,
   "metadata": {},
   "outputs": [
    {
     "name": "stdout",
     "output_type": "stream",
     "text": [
      "10.0\n",
      "100.0\n",
      "1000.0\n",
      "10000.0\n",
      "100000.0\n",
      "1000000.0\n"
     ]
    },
    {
     "data": {
      "text/html": [
       "<div>\n",
       "<style scoped>\n",
       "    .dataframe tbody tr th:only-of-type {\n",
       "        vertical-align: middle;\n",
       "    }\n",
       "\n",
       "    .dataframe tbody tr th {\n",
       "        vertical-align: top;\n",
       "    }\n",
       "\n",
       "    .dataframe thead th {\n",
       "        text-align: right;\n",
       "    }\n",
       "</style>\n",
       "<table border=\"1\" class=\"dataframe\">\n",
       "  <thead>\n",
       "    <tr style=\"text-align: right;\">\n",
       "      <th></th>\n",
       "      <th>Aproximación</th>\n",
       "      <th>Error</th>\n",
       "    </tr>\n",
       "  </thead>\n",
       "  <tbody>\n",
       "    <tr>\n",
       "      <th>10.0</th>\n",
       "      <td>0.571681</td>\n",
       "      <td>0.012064</td>\n",
       "    </tr>\n",
       "    <tr>\n",
       "      <th>100.0</th>\n",
       "      <td>0.581004</td>\n",
       "      <td>0.002741</td>\n",
       "    </tr>\n",
       "    <tr>\n",
       "      <th>1000.0</th>\n",
       "      <td>0.585503</td>\n",
       "      <td>-0.001758</td>\n",
       "    </tr>\n",
       "    <tr>\n",
       "      <th>10000.0</th>\n",
       "      <td>0.58418</td>\n",
       "      <td>-0.000435</td>\n",
       "    </tr>\n",
       "    <tr>\n",
       "      <th>100000.0</th>\n",
       "      <td>0.583612</td>\n",
       "      <td>0.000133</td>\n",
       "    </tr>\n",
       "    <tr>\n",
       "      <th>1000000.0</th>\n",
       "      <td>0.583613</td>\n",
       "      <td>0.000131</td>\n",
       "    </tr>\n",
       "  </tbody>\n",
       "</table>\n",
       "</div>"
      ],
      "text/plain": [
       "          Aproximación     Error\n",
       "10.0          0.571681  0.012064\n",
       "100.0         0.581004  0.002741\n",
       "1000.0        0.585503 -0.001758\n",
       "10000.0        0.58418 -0.000435\n",
       "100000.0      0.583612  0.000133\n",
       "1000000.0     0.583613  0.000131"
      ]
     },
     "execution_count": 127,
     "metadata": {},
     "output_type": "execute_result"
    }
   ],
   "source": [
    "N = np.logspace(1, 6, 6)\n",
    "for i in N : \n",
    "    print (i)\n",
    "a = 0.9\n",
    "b = 1.1\n",
    "\n",
    "for i in N : \n",
    "    aprox = montecarlo(f, int(i), a , b)\n",
    "    table.loc[i, \"Aproximación\"] = aprox\n",
    "    table.loc[i, \"Error\"] = (0.583744841) - aprox\n",
    "table"
   ]
  },
  {
   "cell_type": "markdown",
   "metadata": {
    "colab_type": "text",
    "id": "u81S5RcRFtpA"
   },
   "source": [
    "4. Use el teorema fundamental del cálculo (visto en cálculo integral) para escribir la secuencia de valores para la solución $y(x)$, esto es $[y(0.1), y(0.3), y(0.5), y(0.7), y(0.9), y(1.1)]$.\n",
    "\n",
    "Note que $y(0.3)=y(0.1)+\\int_{0.1}^{0.3}\\frac{dy}{dx}dx$, $y(0.5)=y(0.3)+\\int_{0.3}^{0.5}\\frac{dy}{dx}dx$, etc."
   ]
  },
  {
   "cell_type": "code",
   "execution_count": 2,
   "metadata": {
    "colab": {},
    "colab_type": "code",
    "id": "mjdK2KfyF9Lz"
   },
   "outputs": [],
   "source": [
    "#Correcciones\n",
    "#Acumulativo, el valor de la y pasada + el valor de la integral pasada.\n",
    "y01 = 0.1\n",
    "y03 = y01 + 0.807452\n",
    "y05 = y03 + 0.4555884\n",
    "y07 = y05 + 0.4081388\n",
    "y09 = y07 + 0.455731\n",
    "y11 = y09 + 0.583744"
   ]
  },
  {
   "cell_type": "markdown",
   "metadata": {
    "colab_type": "text",
    "id": "IUn6WvoMGV7Z"
   },
   "source": [
    "---\n",
    "### Integración Montecarlo tipo 2 <font size='1'>(25 puntos)</font>\n",
    "Encuentre el área que cumpla $f(x,y)>v$, donde \n",
    "$$\n",
    "f(x,y)=e^{-0.05(x^2+y^2)}\\sin(x^2+y^2),\n",
    "$$\n",
    "y $v=0.5$."
   ]
  },
  {
   "cell_type": "markdown",
   "metadata": {
    "colab_type": "text",
    "id": "aKvXQflPIweM"
   },
   "source": [
    "1. Escriba la función que discrimine los puntos que satisfacen la restricción $f(x,y)>v$, con argumentos de entrada $x$ y $y$ y que regrese Verdadero o Falso."
   ]
  },
  {
   "cell_type": "code",
   "execution_count": 4,
   "metadata": {
    "colab": {},
    "colab_type": "code",
    "id": "lnOHGKL3JLlm"
   },
   "outputs": [],
   "source": [
    "import random\n",
    "import numpy as np\n",
    "import sympy as sp\n",
    "import matplotlib.pyplot as plt\n",
    "%matplotlib inline\n",
    "import pandas as pd\n",
    "import math"
   ]
  },
  {
   "cell_type": "code",
   "execution_count": 5,
   "metadata": {},
   "outputs": [],
   "source": [
    "def montecarlo2 (region, ax, bx, ay, by, N):\n",
    "    x = np.random.uniform(ax,bx, N)\n",
    "    y = np.random.uniform(ay,by, N)\n",
    "    B = region (x,y)\n",
    "    Ar = (bx-ax)*(by-ay)\n",
    "    return np.mean(B)*Ar"
   ]
  },
  {
   "cell_type": "code",
   "execution_count": 6,
   "metadata": {
    "scrolled": true
   },
   "outputs": [],
   "source": [
    "def f(x,y):\n",
    "    return (np.exp(-0.05*(x**2+y**2))*np.sin(x**2+y**2)) > 0.5"
   ]
  },
  {
   "cell_type": "markdown",
   "metadata": {
    "colab_type": "text",
    "id": "vYHLYKC5JMor"
   },
   "source": [
    "2. Encuentre los límites de integración para $x$ y para $y$ que encierren el área deseada y grafique."
   ]
  },
  {
   "cell_type": "code",
   "execution_count": 19,
   "metadata": {
    "colab": {},
    "colab_type": "code",
    "id": "bZlKKTFrJplS"
   },
   "outputs": [],
   "source": [
    "x = np.random.uniform(-5, 5, 100)\n",
    "y = np.random.uniform(-5, 5, 100)\n",
    "X, Y = np.meshgrid(x, y)"
   ]
  },
  {
   "cell_type": "code",
   "execution_count": 20,
   "metadata": {
    "scrolled": true
   },
   "outputs": [
    {
     "data": {
      "text/html": [
       "<div>\n",
       "<style scoped>\n",
       "    .dataframe tbody tr th:only-of-type {\n",
       "        vertical-align: middle;\n",
       "    }\n",
       "\n",
       "    .dataframe tbody tr th {\n",
       "        vertical-align: top;\n",
       "    }\n",
       "\n",
       "    .dataframe thead th {\n",
       "        text-align: right;\n",
       "    }\n",
       "</style>\n",
       "<table border=\"1\" class=\"dataframe\">\n",
       "  <thead>\n",
       "    <tr style=\"text-align: right;\">\n",
       "      <th></th>\n",
       "      <th>Aproximación</th>\n",
       "    </tr>\n",
       "  </thead>\n",
       "  <tbody>\n",
       "    <tr>\n",
       "      <th>10.0</th>\n",
       "      <td>NaN</td>\n",
       "    </tr>\n",
       "    <tr>\n",
       "      <th>100.0</th>\n",
       "      <td>NaN</td>\n",
       "    </tr>\n",
       "    <tr>\n",
       "      <th>1000.0</th>\n",
       "      <td>NaN</td>\n",
       "    </tr>\n",
       "    <tr>\n",
       "      <th>10000.0</th>\n",
       "      <td>NaN</td>\n",
       "    </tr>\n",
       "    <tr>\n",
       "      <th>100000.0</th>\n",
       "      <td>NaN</td>\n",
       "    </tr>\n",
       "  </tbody>\n",
       "</table>\n",
       "</div>"
      ],
      "text/plain": [
       "         Aproximación\n",
       "10.0              NaN\n",
       "100.0             NaN\n",
       "1000.0            NaN\n",
       "10000.0           NaN\n",
       "100000.0          NaN"
      ]
     },
     "execution_count": 20,
     "metadata": {},
     "output_type": "execute_result"
    }
   ],
   "source": [
    "N = np.logspace(1, 5, 5)\n",
    "table = pd.DataFrame(columns = [\"Aproximación\"], index = N)\n",
    "table"
   ]
  },
  {
   "cell_type": "code",
   "execution_count": 21,
   "metadata": {},
   "outputs": [],
   "source": [
    "def montecarlo2 (region, ax, bx, ay, by, N):\n",
    "    x = np.random.uniform(ax,bx, N)\n",
    "    y = np.random.uniform(ay,by, N)\n",
    "    B = region (x,y)\n",
    "    Ar = (bx-ax)*(by-ay)\n",
    "    return np.mean(B)*Ar"
   ]
  },
  {
   "cell_type": "code",
   "execution_count": 22,
   "metadata": {
    "scrolled": true
   },
   "outputs": [
    {
     "data": {
      "text/plain": [
       "10.56"
      ]
     },
     "execution_count": 22,
     "metadata": {},
     "output_type": "execute_result"
    }
   ],
   "source": [
    "montecarlo2 (f, -10, 10, -10, 10, 10000)"
   ]
  },
  {
   "cell_type": "code",
   "execution_count": 23,
   "metadata": {},
   "outputs": [
    {
     "data": {
      "text/html": [
       "<div>\n",
       "<style scoped>\n",
       "    .dataframe tbody tr th:only-of-type {\n",
       "        vertical-align: middle;\n",
       "    }\n",
       "\n",
       "    .dataframe tbody tr th {\n",
       "        vertical-align: top;\n",
       "    }\n",
       "\n",
       "    .dataframe thead th {\n",
       "        text-align: right;\n",
       "    }\n",
       "</style>\n",
       "<table border=\"1\" class=\"dataframe\">\n",
       "  <thead>\n",
       "    <tr style=\"text-align: right;\">\n",
       "      <th></th>\n",
       "      <th>Aproximación</th>\n",
       "    </tr>\n",
       "  </thead>\n",
       "  <tbody>\n",
       "    <tr>\n",
       "      <th>10.0</th>\n",
       "      <td>0.0</td>\n",
       "    </tr>\n",
       "    <tr>\n",
       "      <th>100.0</th>\n",
       "      <td>8.0</td>\n",
       "    </tr>\n",
       "    <tr>\n",
       "      <th>1000.0</th>\n",
       "      <td>12.8</td>\n",
       "    </tr>\n",
       "    <tr>\n",
       "      <th>10000.0</th>\n",
       "      <td>12.24</td>\n",
       "    </tr>\n",
       "    <tr>\n",
       "      <th>100000.0</th>\n",
       "      <td>10.468</td>\n",
       "    </tr>\n",
       "  </tbody>\n",
       "</table>\n",
       "</div>"
      ],
      "text/plain": [
       "         Aproximación\n",
       "10.0              0.0\n",
       "100.0             8.0\n",
       "1000.0           12.8\n",
       "10000.0         12.24\n",
       "100000.0       10.468"
      ]
     },
     "execution_count": 23,
     "metadata": {},
     "output_type": "execute_result"
    }
   ],
   "source": [
    "for i in N : \n",
    "    aprox = montecarlo2(f, -10, 10,-10, 10,int(i))\n",
    "    table.loc[i,\"Aproximación\"] =  aprox\n",
    "table"
   ]
  },
  {
   "cell_type": "code",
   "execution_count": 24,
   "metadata": {
    "scrolled": true
   },
   "outputs": [
    {
     "data": {
      "text/plain": [
       "<matplotlib.collections.PathCollection at 0x7fe06e0194c0>"
      ]
     },
     "execution_count": 24,
     "metadata": {},
     "output_type": "execute_result"
    },
    {
     "data": {
      "image/png": "[encoded data removed]",
      "text/plain": [
       "<Figure size 640x480 with 1 Axes>"
      ]
     },
     "metadata": {},
     "output_type": "display_data"
    }
   ],
   "source": [
    "plt.figure()\n",
    "plt.scatter(X,Y, c =~ f(X, Y))"
   ]
  },
  {
   "cell_type": "markdown",
   "metadata": {
    "colab_type": "text",
    "id": "SNMVh09zJrhu"
   },
   "source": [
    "3. Escriba la función para integrar con el método de Montecaralo de tipo 2 con argumentos de entrada $f$, $xmin$, $xmax$, $ymin$, $ymax$, y $N$. Donde $f$ es una función que define la región de integración; $xmin$, $xmax$, $ymin$ y $ymax$ definen los límites de integración y $N$ el número de puntos en $x$ y $y$ para usar en el método. Esta función debe regresar el valor de la integral."
   ]
  },
  {
   "cell_type": "code",
   "execution_count": 15,
   "metadata": {
    "colab": {},
    "colab_type": "code",
    "id": "9lx_xP1nKwuH"
   },
   "outputs": [],
   "source": [
    "#Correcciones\n",
    "#Ya lo tenía arriba, pero lo acomode en su lugar\n",
    "def montecarlo (region,ax,bx,ay,by,N):\n",
    "    x = np.random.uniform(ax, bx ,N)\n",
    "    y = np.random.uniform(ax, bx ,N)\n",
    "    B = region(x,y)\n",
    "    Ar = (bx-ax)*(by-ay)\n",
    "    return np.mean(B)*Ar"
   ]
  },
  {
   "cell_type": "code",
   "execution_count": 14,
   "metadata": {},
   "outputs": [
    {
     "data": {
      "text/plain": [
       "10.9"
      ]
     },
     "execution_count": 14,
     "metadata": {},
     "output_type": "execute_result"
    }
   ],
   "source": [
    "montecarlo(f,-5, 5, -5, 5, 1000)"
   ]
  },
  {
   "cell_type": "markdown",
   "metadata": {
    "colab_type": "text",
    "id": "recZkMzsMWbc"
   },
   "source": [
    "4. En un _DataFrame_ de _pandas_ escriba el valor de **las integrales** y la **estimación del error relativo** para $N=10^4,\\, 10^5,\\, 10^6$."
   ]
  },
  {
   "cell_type": "code",
   "execution_count": 27,
   "metadata": {
    "colab": {},
    "colab_type": "code",
    "id": "Yxiw2ilFNPn9"
   },
   "outputs": [
    {
     "data": {
      "text/html": [
       "<div>\n",
       "<style scoped>\n",
       "    .dataframe tbody tr th:only-of-type {\n",
       "        vertical-align: middle;\n",
       "    }\n",
       "\n",
       "    .dataframe tbody tr th {\n",
       "        vertical-align: top;\n",
       "    }\n",
       "\n",
       "    .dataframe thead th {\n",
       "        text-align: right;\n",
       "    }\n",
       "</style>\n",
       "<table border=\"1\" class=\"dataframe\">\n",
       "  <thead>\n",
       "    <tr style=\"text-align: right;\">\n",
       "      <th></th>\n",
       "      <th>Aproximación</th>\n",
       "      <th>Error</th>\n",
       "    </tr>\n",
       "  </thead>\n",
       "  <tbody>\n",
       "    <tr>\n",
       "      <th>100000</th>\n",
       "      <td>NaN</td>\n",
       "      <td>NaN</td>\n",
       "    </tr>\n",
       "    <tr>\n",
       "      <th>1000000</th>\n",
       "      <td>NaN</td>\n",
       "      <td>NaN</td>\n",
       "    </tr>\n",
       "    <tr>\n",
       "      <th>10000000</th>\n",
       "      <td>NaN</td>\n",
       "      <td>NaN</td>\n",
       "    </tr>\n",
       "  </tbody>\n",
       "</table>\n",
       "</div>"
      ],
      "text/plain": [
       "         Aproximación Error\n",
       "100000            NaN   NaN\n",
       "1000000           NaN   NaN\n",
       "10000000          NaN   NaN"
      ]
     },
     "execution_count": 27,
     "metadata": {},
     "output_type": "execute_result"
    }
   ],
   "source": [
    "#Correcciones\n",
    "\n",
    "N = (100000, 1000000, 10000000) \n",
    "table = pd.DataFrame(columns = [\"Aproximación\", \"Error\"], index = N)\n",
    "table"
   ]
  },
  {
   "cell_type": "code",
   "execution_count": 28,
   "metadata": {},
   "outputs": [],
   "source": [
    "#Definí los límites de integración.\n",
    "ax= -5\n",
    "bx=5\n",
    "ay=-5\n",
    "by=5\n",
    "Ar= (bx-ax)*(by-ay)"
   ]
  },
  {
   "cell_type": "code",
   "execution_count": 30,
   "metadata": {},
   "outputs": [
    {
     "data": {
      "text/html": [
       "<div>\n",
       "<style scoped>\n",
       "    .dataframe tbody tr th:only-of-type {\n",
       "        vertical-align: middle;\n",
       "    }\n",
       "\n",
       "    .dataframe tbody tr th {\n",
       "        vertical-align: top;\n",
       "    }\n",
       "\n",
       "    .dataframe thead th {\n",
       "        text-align: right;\n",
       "    }\n",
       "</style>\n",
       "<table border=\"1\" class=\"dataframe\">\n",
       "  <thead>\n",
       "    <tr style=\"text-align: right;\">\n",
       "      <th></th>\n",
       "      <th>Aproximación</th>\n",
       "      <th>Error</th>\n",
       "    </tr>\n",
       "  </thead>\n",
       "  <tbody>\n",
       "    <tr>\n",
       "      <th>100000</th>\n",
       "      <td>10.868</td>\n",
       "      <td>NaN</td>\n",
       "    </tr>\n",
       "    <tr>\n",
       "      <th>1000000</th>\n",
       "      <td>10.8804</td>\n",
       "      <td>NaN</td>\n",
       "    </tr>\n",
       "    <tr>\n",
       "      <th>10000000</th>\n",
       "      <td>10.90373</td>\n",
       "      <td>NaN</td>\n",
       "    </tr>\n",
       "  </tbody>\n",
       "</table>\n",
       "</div>"
      ],
      "text/plain": [
       "         Aproximación Error\n",
       "100000         10.868   NaN\n",
       "1000000       10.8804   NaN\n",
       "10000000     10.90373   NaN"
      ]
     },
     "execution_count": 30,
     "metadata": {},
     "output_type": "execute_result"
    }
   ],
   "source": [
    "for i in N : \n",
    "    table.loc[i, \"Aproximación\"] = montecarlo(f, ax, bx, ay, by, int(i))\n",
    "table"
   ]
  },
  {
   "cell_type": "code",
   "execution_count": 35,
   "metadata": {},
   "outputs": [
    {
     "data": {
      "text/html": [
       "<div>\n",
       "<style scoped>\n",
       "    .dataframe tbody tr th:only-of-type {\n",
       "        vertical-align: middle;\n",
       "    }\n",
       "\n",
       "    .dataframe tbody tr th {\n",
       "        vertical-align: top;\n",
       "    }\n",
       "\n",
       "    .dataframe thead th {\n",
       "        text-align: right;\n",
       "    }\n",
       "</style>\n",
       "<table border=\"1\" class=\"dataframe\">\n",
       "  <thead>\n",
       "    <tr style=\"text-align: right;\">\n",
       "      <th></th>\n",
       "      <th>Aproximación</th>\n",
       "      <th>Error</th>\n",
       "    </tr>\n",
       "  </thead>\n",
       "  <tbody>\n",
       "    <tr>\n",
       "      <th>100000</th>\n",
       "      <td>10.911</td>\n",
       "      <td>-0.0073</td>\n",
       "    </tr>\n",
       "    <tr>\n",
       "      <th>1000000</th>\n",
       "      <td>10.883</td>\n",
       "      <td>0.0207</td>\n",
       "    </tr>\n",
       "    <tr>\n",
       "      <th>10000000</th>\n",
       "      <td>10.90687</td>\n",
       "      <td>-0.00317</td>\n",
       "    </tr>\n",
       "  </tbody>\n",
       "</table>\n",
       "</div>"
      ],
      "text/plain": [
       "         Aproximación    Error\n",
       "100000         10.911  -0.0073\n",
       "1000000        10.883   0.0207\n",
       "10000000     10.90687 -0.00317"
      ]
     },
     "execution_count": 35,
     "metadata": {},
     "output_type": "execute_result"
    }
   ],
   "source": [
    "for i in N : \n",
    "    aprox = montecarlo(f, ax, bx, ay, by, int(i))\n",
    "    table.loc[i, \"Aproximación\"] = aprox\n",
    "    table.loc[i, \"Error\"] = (10.9037) - aprox\n",
    "table"
   ]
  },
  {
   "cell_type": "markdown",
   "metadata": {
    "colab_type": "text",
    "id": "_5RB82p5Nhur"
   },
   "source": [
    "---\n",
    "### Generación de fractales <font size='1'>(25 puntos)</font>\n",
    "\n",
    "Los fractales de tipo Barnsley se generan con transformaciones afines con cierta probabilidad.\n",
    "\n",
    "Genere un helecho tridimensional con la ecuación:\n",
    "$$\n",
    "\\begin{bmatrix}x_{k+1}\\\\y_{k+1}\\\\z_{k+1}\n",
    "\\end{bmatrix}=A_i\\begin{bmatrix}x_k\\\\y_k\\\\z_k\\end{bmatrix}+b_i\n",
    "$$\n",
    "Y sus respectivas matrices:"
   ]
  },
  {
   "cell_type": "code",
   "execution_count": 52,
   "metadata": {},
   "outputs": [],
   "source": [
    "import numpy as np\n",
    "\n",
    "A0 = np.array([[0,0,0],[0,0.18,0],[0,0,0]])\n",
    "b0 = np.array([0,0,0])\n",
    "\n",
    "A1 = np.array([[0.85,0,0],[0,0.85,0.1],[0,-0.1,0.85]])\n",
    "b1 = np.array([0,1.6,0])\n",
    "\n",
    "A2 = np.array([[0.2,-0.2,0],[0.2,0.2,0],[0,0,0.3]])\n",
    "b2 = np.array([0,0.8,0])\n",
    "\n",
    "A3 = np.array([[-0.2,0.2,0],[0.2,0.2,0],[0,0,0.3]])\n",
    "b3 = np.array([0,0.8,0])"
   ]
  },
  {
   "cell_type": "markdown",
   "metadata": {},
   "source": [
    "cuya probabilidad es la misma para cada $i=\\{0,1,2,3\\}$. Use la función scatter de una proyección 3D sobre los ejes:\n",
    "```\n",
    "import matplotlib.pyplot as plt\n",
    "from mpl_toolkits.mplot3d import Axes3D\n",
    "\n",
    "fig=plt.figure()\n",
    "ax=fig.gca(projection='3d')\n",
    "ax.scatter(x,y,z)\n",
    "```"
   ]
  },
  {
   "cell_type": "code",
   "execution_count": 167,
   "metadata": {},
   "outputs": [
    {
     "ename": "TypeError",
     "evalue": "Index(...) must be called with a collection of some kind, 100000.0 was passed",
     "output_type": "error",
     "traceback": [
      "\u001b[0;31m---------------------------------------------------------------------------\u001b[0m",
      "\u001b[0;31mTypeError\u001b[0m                                 Traceback (most recent call last)",
      "\u001b[0;32m/var/folders/4t/x5csmzxd5cv_53zvdjdzhwnw0000gn/T/ipykernel_3515/2044440039.py\u001b[0m in \u001b[0;36m<module>\u001b[0;34m\u001b[0m\n\u001b[0;32m----> 1\u001b[0;31m \u001b[0mdf\u001b[0m \u001b[0;34m=\u001b[0m \u001b[0mpd\u001b[0m\u001b[0;34m.\u001b[0m\u001b[0mDataFrame\u001b[0m\u001b[0;34m(\u001b[0m\u001b[0mindex\u001b[0m\u001b[0;34m=\u001b[0m\u001b[0mi\u001b[0m\u001b[0;34m,\u001b[0m\u001b[0mcolumns\u001b[0m\u001b[0;34m=\u001b[0m\u001b[0;34m[\u001b[0m\u001b[0;34m'A0i'\u001b[0m\u001b[0;34m,\u001b[0m \u001b[0;34m'b0i'\u001b[0m\u001b[0;34m,\u001b[0m \u001b[0;34m'A1i'\u001b[0m\u001b[0;34m,\u001b[0m \u001b[0;34m'b1i'\u001b[0m\u001b[0;34m,\u001b[0m \u001b[0;34m'A2i'\u001b[0m\u001b[0;34m,\u001b[0m \u001b[0;34m'b2i'\u001b[0m\u001b[0;34m,\u001b[0m \u001b[0;34m'A3i'\u001b[0m\u001b[0;34m]\u001b[0m\u001b[0;34m,\u001b[0m \u001b[0mdtype\u001b[0m\u001b[0;34m=\u001b[0m\u001b[0;34m'float'\u001b[0m\u001b[0;34m)\u001b[0m\u001b[0;34m\u001b[0m\u001b[0;34m\u001b[0m\u001b[0m\n\u001b[0m\u001b[1;32m      2\u001b[0m \u001b[0mdf\u001b[0m\u001b[0;34m[\u001b[0m\u001b[0;34m\"A0i\"\u001b[0m\u001b[0;34m]\u001b[0m \u001b[0;34m=\u001b[0m \u001b[0mnp\u001b[0m\u001b[0;34m.\u001b[0m\u001b[0marray\u001b[0m\u001b[0;34m(\u001b[0m\u001b[0;34m[\u001b[0m\u001b[0;34m[\u001b[0m\u001b[0;36m0\u001b[0m\u001b[0;34m,\u001b[0m\u001b[0;36m0\u001b[0m\u001b[0;34m,\u001b[0m\u001b[0;36m0\u001b[0m\u001b[0;34m]\u001b[0m\u001b[0;34m,\u001b[0m\u001b[0;34m[\u001b[0m\u001b[0;36m0\u001b[0m\u001b[0;34m,\u001b[0m\u001b[0;36m0.18\u001b[0m\u001b[0;34m,\u001b[0m\u001b[0;36m0\u001b[0m\u001b[0;34m]\u001b[0m\u001b[0;34m,\u001b[0m\u001b[0;34m[\u001b[0m\u001b[0;36m0\u001b[0m\u001b[0;34m,\u001b[0m\u001b[0;36m0\u001b[0m\u001b[0;34m,\u001b[0m\u001b[0;36m0\u001b[0m\u001b[0;34m]\u001b[0m\u001b[0;34m]\u001b[0m\u001b[0;34m)\u001b[0m\u001b[0;34m\u001b[0m\u001b[0;34m\u001b[0m\u001b[0m\n\u001b[1;32m      3\u001b[0m \u001b[0mdf\u001b[0m\u001b[0;34m[\u001b[0m\u001b[0;34m\"b0i\"\u001b[0m\u001b[0;34m]\u001b[0m \u001b[0;34m=\u001b[0m \u001b[0mnp\u001b[0m\u001b[0;34m.\u001b[0m\u001b[0marray\u001b[0m\u001b[0;34m(\u001b[0m\u001b[0;34m[\u001b[0m\u001b[0;36m0\u001b[0m\u001b[0;34m,\u001b[0m \u001b[0;36m0\u001b[0m\u001b[0;34m,\u001b[0m \u001b[0;36m0\u001b[0m\u001b[0;34m]\u001b[0m\u001b[0;34m)\u001b[0m\u001b[0;34m\u001b[0m\u001b[0;34m\u001b[0m\u001b[0m\n\u001b[1;32m      4\u001b[0m \u001b[0;34m\u001b[0m\u001b[0m\n\u001b[1;32m      5\u001b[0m \u001b[0mdf\u001b[0m\u001b[0;34m[\u001b[0m\u001b[0;34m\"A1i\"\u001b[0m\u001b[0;34m]\u001b[0m \u001b[0;34m=\u001b[0m \u001b[0mnp\u001b[0m\u001b[0;34m.\u001b[0m\u001b[0marray\u001b[0m\u001b[0;34m(\u001b[0m\u001b[0;34m[\u001b[0m\u001b[0;34m[\u001b[0m\u001b[0;36m0.85\u001b[0m\u001b[0;34m,\u001b[0m\u001b[0;36m0\u001b[0m\u001b[0;34m,\u001b[0m\u001b[0;36m0\u001b[0m\u001b[0;34m]\u001b[0m\u001b[0;34m,\u001b[0m\u001b[0;34m[\u001b[0m\u001b[0;36m0\u001b[0m\u001b[0;34m,\u001b[0m\u001b[0;36m0.85\u001b[0m\u001b[0;34m,\u001b[0m\u001b[0;36m0.1\u001b[0m\u001b[0;34m]\u001b[0m\u001b[0;34m,\u001b[0m\u001b[0;34m[\u001b[0m\u001b[0;36m0\u001b[0m\u001b[0;34m,\u001b[0m\u001b[0;34m-\u001b[0m\u001b[0;36m0.1\u001b[0m\u001b[0;34m,\u001b[0m\u001b[0;36m0.85\u001b[0m\u001b[0;34m]\u001b[0m\u001b[0;34m]\u001b[0m\u001b[0;34m)\u001b[0m\u001b[0;34m\u001b[0m\u001b[0;34m\u001b[0m\u001b[0m\n",
      "\u001b[0;32m~/opt/anaconda3/lib/python3.9/site-packages/pandas/core/frame.py\u001b[0m in \u001b[0;36m__init__\u001b[0;34m(self, data, index, columns, dtype, copy)\u001b[0m\n\u001b[1;32m    634\u001b[0m         \u001b[0;32melif\u001b[0m \u001b[0misinstance\u001b[0m\u001b[0;34m(\u001b[0m\u001b[0mdata\u001b[0m\u001b[0;34m,\u001b[0m \u001b[0mdict\u001b[0m\u001b[0;34m)\u001b[0m\u001b[0;34m:\u001b[0m\u001b[0;34m\u001b[0m\u001b[0;34m\u001b[0m\u001b[0m\n\u001b[1;32m    635\u001b[0m             \u001b[0;31m# GH#38939 de facto copy defaults to False only in non-dict cases\u001b[0m\u001b[0;34m\u001b[0m\u001b[0;34m\u001b[0m\u001b[0m\n\u001b[0;32m--> 636\u001b[0;31m             \u001b[0mmgr\u001b[0m \u001b[0;34m=\u001b[0m \u001b[0mdict_to_mgr\u001b[0m\u001b[0;34m(\u001b[0m\u001b[0mdata\u001b[0m\u001b[0;34m,\u001b[0m \u001b[0mindex\u001b[0m\u001b[0;34m,\u001b[0m \u001b[0mcolumns\u001b[0m\u001b[0;34m,\u001b[0m \u001b[0mdtype\u001b[0m\u001b[0;34m=\u001b[0m\u001b[0mdtype\u001b[0m\u001b[0;34m,\u001b[0m \u001b[0mcopy\u001b[0m\u001b[0;34m=\u001b[0m\u001b[0mcopy\u001b[0m\u001b[0;34m,\u001b[0m \u001b[0mtyp\u001b[0m\u001b[0;34m=\u001b[0m\u001b[0mmanager\u001b[0m\u001b[0;34m)\u001b[0m\u001b[0;34m\u001b[0m\u001b[0;34m\u001b[0m\u001b[0m\n\u001b[0m\u001b[1;32m    637\u001b[0m         \u001b[0;32melif\u001b[0m \u001b[0misinstance\u001b[0m\u001b[0;34m(\u001b[0m\u001b[0mdata\u001b[0m\u001b[0;34m,\u001b[0m \u001b[0mma\u001b[0m\u001b[0;34m.\u001b[0m\u001b[0mMaskedArray\u001b[0m\u001b[0;34m)\u001b[0m\u001b[0;34m:\u001b[0m\u001b[0;34m\u001b[0m\u001b[0;34m\u001b[0m\u001b[0m\n\u001b[1;32m    638\u001b[0m             \u001b[0;32mimport\u001b[0m \u001b[0mnumpy\u001b[0m\u001b[0;34m.\u001b[0m\u001b[0mma\u001b[0m\u001b[0;34m.\u001b[0m\u001b[0mmrecords\u001b[0m \u001b[0;32mas\u001b[0m \u001b[0mmrecords\u001b[0m\u001b[0;34m\u001b[0m\u001b[0;34m\u001b[0m\u001b[0m\n",
      "\u001b[0;32m~/opt/anaconda3/lib/python3.9/site-packages/pandas/core/internals/construction.py\u001b[0m in \u001b[0;36mdict_to_mgr\u001b[0;34m(data, index, columns, dtype, typ, copy)\u001b[0m\n\u001b[1;32m    450\u001b[0m             \u001b[0mindex\u001b[0m \u001b[0;34m=\u001b[0m \u001b[0m_extract_index\u001b[0m\u001b[0;34m(\u001b[0m\u001b[0marrays\u001b[0m\u001b[0;34m[\u001b[0m\u001b[0;34m~\u001b[0m\u001b[0mmissing\u001b[0m\u001b[0;34m]\u001b[0m\u001b[0;34m)\u001b[0m\u001b[0;34m\u001b[0m\u001b[0;34m\u001b[0m\u001b[0m\n\u001b[1;32m    451\u001b[0m         \u001b[0;32melse\u001b[0m\u001b[0;34m:\u001b[0m\u001b[0;34m\u001b[0m\u001b[0;34m\u001b[0m\u001b[0m\n\u001b[0;32m--> 452\u001b[0;31m             \u001b[0mindex\u001b[0m \u001b[0;34m=\u001b[0m \u001b[0mensure_index\u001b[0m\u001b[0;34m(\u001b[0m\u001b[0mindex\u001b[0m\u001b[0;34m)\u001b[0m\u001b[0;34m\u001b[0m\u001b[0;34m\u001b[0m\u001b[0m\n\u001b[0m\u001b[1;32m    453\u001b[0m \u001b[0;34m\u001b[0m\u001b[0m\n\u001b[1;32m    454\u001b[0m         \u001b[0;31m# no obvious \"empty\" int column\u001b[0m\u001b[0;34m\u001b[0m\u001b[0;34m\u001b[0m\u001b[0m\n",
      "\u001b[0;32m~/opt/anaconda3/lib/python3.9/site-packages/pandas/core/indexes/base.py\u001b[0m in \u001b[0;36mensure_index\u001b[0;34m(index_like, copy)\u001b[0m\n\u001b[1;32m   7058\u001b[0m             \u001b[0;32mreturn\u001b[0m \u001b[0mIndex\u001b[0m\u001b[0;34m.\u001b[0m\u001b[0m_with_infer\u001b[0m\u001b[0;34m(\u001b[0m\u001b[0mindex_like\u001b[0m\u001b[0;34m,\u001b[0m \u001b[0mcopy\u001b[0m\u001b[0;34m=\u001b[0m\u001b[0mcopy\u001b[0m\u001b[0;34m,\u001b[0m \u001b[0mtupleize_cols\u001b[0m\u001b[0;34m=\u001b[0m\u001b[0;32mFalse\u001b[0m\u001b[0;34m)\u001b[0m\u001b[0;34m\u001b[0m\u001b[0;34m\u001b[0m\u001b[0m\n\u001b[1;32m   7059\u001b[0m     \u001b[0;32melse\u001b[0m\u001b[0;34m:\u001b[0m\u001b[0;34m\u001b[0m\u001b[0;34m\u001b[0m\u001b[0m\n\u001b[0;32m-> 7060\u001b[0;31m         \u001b[0;32mreturn\u001b[0m \u001b[0mIndex\u001b[0m\u001b[0;34m.\u001b[0m\u001b[0m_with_infer\u001b[0m\u001b[0;34m(\u001b[0m\u001b[0mindex_like\u001b[0m\u001b[0;34m,\u001b[0m \u001b[0mcopy\u001b[0m\u001b[0;34m=\u001b[0m\u001b[0mcopy\u001b[0m\u001b[0;34m)\u001b[0m\u001b[0;34m\u001b[0m\u001b[0;34m\u001b[0m\u001b[0m\n\u001b[0m\u001b[1;32m   7061\u001b[0m \u001b[0;34m\u001b[0m\u001b[0m\n\u001b[1;32m   7062\u001b[0m \u001b[0;34m\u001b[0m\u001b[0m\n",
      "\u001b[0;32m~/opt/anaconda3/lib/python3.9/site-packages/pandas/core/indexes/base.py\u001b[0m in \u001b[0;36m_with_infer\u001b[0;34m(cls, *args, **kwargs)\u001b[0m\n\u001b[1;32m    678\u001b[0m         \u001b[0;32mwith\u001b[0m \u001b[0mwarnings\u001b[0m\u001b[0;34m.\u001b[0m\u001b[0mcatch_warnings\u001b[0m\u001b[0;34m(\u001b[0m\u001b[0;34m)\u001b[0m\u001b[0;34m:\u001b[0m\u001b[0;34m\u001b[0m\u001b[0;34m\u001b[0m\u001b[0m\n\u001b[1;32m    679\u001b[0m             \u001b[0mwarnings\u001b[0m\u001b[0;34m.\u001b[0m\u001b[0mfilterwarnings\u001b[0m\u001b[0;34m(\u001b[0m\u001b[0;34m\"ignore\"\u001b[0m\u001b[0;34m,\u001b[0m \u001b[0;34m\".*the Index constructor\"\u001b[0m\u001b[0;34m,\u001b[0m \u001b[0mFutureWarning\u001b[0m\u001b[0;34m)\u001b[0m\u001b[0;34m\u001b[0m\u001b[0;34m\u001b[0m\u001b[0m\n\u001b[0;32m--> 680\u001b[0;31m             \u001b[0mresult\u001b[0m \u001b[0;34m=\u001b[0m \u001b[0mcls\u001b[0m\u001b[0;34m(\u001b[0m\u001b[0;34m*\u001b[0m\u001b[0margs\u001b[0m\u001b[0;34m,\u001b[0m \u001b[0;34m**\u001b[0m\u001b[0mkwargs\u001b[0m\u001b[0;34m)\u001b[0m\u001b[0;34m\u001b[0m\u001b[0;34m\u001b[0m\u001b[0m\n\u001b[0m\u001b[1;32m    681\u001b[0m \u001b[0;34m\u001b[0m\u001b[0m\n\u001b[1;32m    682\u001b[0m         \u001b[0;32mif\u001b[0m \u001b[0mresult\u001b[0m\u001b[0;34m.\u001b[0m\u001b[0mdtype\u001b[0m \u001b[0;34m==\u001b[0m \u001b[0m_dtype_obj\u001b[0m \u001b[0;32mand\u001b[0m \u001b[0;32mnot\u001b[0m \u001b[0mresult\u001b[0m\u001b[0;34m.\u001b[0m\u001b[0m_is_multi\u001b[0m\u001b[0;34m:\u001b[0m\u001b[0;34m\u001b[0m\u001b[0;34m\u001b[0m\u001b[0m\n",
      "\u001b[0;32m~/opt/anaconda3/lib/python3.9/site-packages/pandas/core/indexes/base.py\u001b[0m in \u001b[0;36m__new__\u001b[0;34m(cls, data, dtype, copy, name, tupleize_cols, **kwargs)\u001b[0m\n\u001b[1;32m    506\u001b[0m \u001b[0;34m\u001b[0m\u001b[0m\n\u001b[1;32m    507\u001b[0m         \u001b[0;32melif\u001b[0m \u001b[0mis_scalar\u001b[0m\u001b[0;34m(\u001b[0m\u001b[0mdata\u001b[0m\u001b[0;34m)\u001b[0m\u001b[0;34m:\u001b[0m\u001b[0;34m\u001b[0m\u001b[0;34m\u001b[0m\u001b[0m\n\u001b[0;32m--> 508\u001b[0;31m             \u001b[0;32mraise\u001b[0m \u001b[0mcls\u001b[0m\u001b[0;34m.\u001b[0m\u001b[0m_scalar_data_error\u001b[0m\u001b[0;34m(\u001b[0m\u001b[0mdata\u001b[0m\u001b[0;34m)\u001b[0m\u001b[0;34m\u001b[0m\u001b[0;34m\u001b[0m\u001b[0m\n\u001b[0m\u001b[1;32m    509\u001b[0m         \u001b[0;32melif\u001b[0m \u001b[0mhasattr\u001b[0m\u001b[0;34m(\u001b[0m\u001b[0mdata\u001b[0m\u001b[0;34m,\u001b[0m \u001b[0;34m\"__array__\"\u001b[0m\u001b[0;34m)\u001b[0m\u001b[0;34m:\u001b[0m\u001b[0;34m\u001b[0m\u001b[0;34m\u001b[0m\u001b[0m\n\u001b[1;32m    510\u001b[0m             \u001b[0;32mreturn\u001b[0m \u001b[0mIndex\u001b[0m\u001b[0;34m(\u001b[0m\u001b[0mnp\u001b[0m\u001b[0;34m.\u001b[0m\u001b[0masarray\u001b[0m\u001b[0;34m(\u001b[0m\u001b[0mdata\u001b[0m\u001b[0;34m)\u001b[0m\u001b[0;34m,\u001b[0m \u001b[0mdtype\u001b[0m\u001b[0;34m=\u001b[0m\u001b[0mdtype\u001b[0m\u001b[0;34m,\u001b[0m \u001b[0mcopy\u001b[0m\u001b[0;34m=\u001b[0m\u001b[0mcopy\u001b[0m\u001b[0;34m,\u001b[0m \u001b[0mname\u001b[0m\u001b[0;34m=\u001b[0m\u001b[0mname\u001b[0m\u001b[0;34m,\u001b[0m \u001b[0;34m**\u001b[0m\u001b[0mkwargs\u001b[0m\u001b[0;34m)\u001b[0m\u001b[0;34m\u001b[0m\u001b[0;34m\u001b[0m\u001b[0m\n",
      "\u001b[0;31mTypeError\u001b[0m: Index(...) must be called with a collection of some kind, 100000.0 was passed"
     ]
    }
   ],
   "source": [
    "df = pd.DataFrame(index=i,columns=['A0i', 'b0i', 'A1i', 'b1i', 'A2i', 'b2i', 'A3i'], dtype='float')\n",
    "df[\"A0i\"] = np.array([[0,0,0],[0,0.18,0],[0,0,0]])\n",
    "df[\"b0i\"] = np.array([0, 0, 0])\n",
    "               \n",
    "df[\"A1i\"] = np.array([[0.85,0,0],[0,0.85,0.1],[0,-0.1,0.85]])\n",
    "\n",
    "df[\"b1i\"]= np.array([0,1.6,0])\n",
    "\n",
    "df[\"A2i\"] = np.array([[0.2,-0.2,0],[0.2,0.2,0],[0,0,0.3]])\n",
    "\n",
    "df[\"b2i\"]= np.array([0,0.8,0])\n",
    "\n",
    "df[\"A3i\"] = np.array([[-0.2,0.2,0],[0.2,0.2,0],[0,0,0.3]])\n",
    "df[\"b3i\"]= np.array([0,0.8,0])\n",
    "df"
   ]
  },
  {
   "cell_type": "code",
   "execution_count": 96,
   "metadata": {},
   "outputs": [
    {
     "data": {
      "text/plain": [
       "array([0, 1, 2, 3])"
      ]
     },
     "execution_count": 96,
     "metadata": {},
     "output_type": "execute_result"
    }
   ],
   "source": [
    "i"
   ]
  },
  {
   "cell_type": "code",
   "execution_count": 171,
   "metadata": {
    "scrolled": true
   },
   "outputs": [
    {
     "ename": "KeyError",
     "evalue": "'b3i'",
     "output_type": "error",
     "traceback": [
      "\u001b[0;31m---------------------------------------------------------------------------\u001b[0m",
      "\u001b[0;31mKeyError\u001b[0m                                  Traceback (most recent call last)",
      "\u001b[0;32m~/opt/anaconda3/lib/python3.9/site-packages/pandas/core/indexes/base.py\u001b[0m in \u001b[0;36mget_loc\u001b[0;34m(self, key, method, tolerance)\u001b[0m\n\u001b[1;32m   3628\u001b[0m             \u001b[0;32mtry\u001b[0m\u001b[0;34m:\u001b[0m\u001b[0;34m\u001b[0m\u001b[0;34m\u001b[0m\u001b[0m\n\u001b[0;32m-> 3629\u001b[0;31m                 \u001b[0;32mreturn\u001b[0m \u001b[0mself\u001b[0m\u001b[0;34m.\u001b[0m\u001b[0m_engine\u001b[0m\u001b[0;34m.\u001b[0m\u001b[0mget_loc\u001b[0m\u001b[0;34m(\u001b[0m\u001b[0mcasted_key\u001b[0m\u001b[0;34m)\u001b[0m\u001b[0;34m\u001b[0m\u001b[0;34m\u001b[0m\u001b[0m\n\u001b[0m\u001b[1;32m   3630\u001b[0m             \u001b[0;32mexcept\u001b[0m \u001b[0mKeyError\u001b[0m \u001b[0;32mas\u001b[0m \u001b[0merr\u001b[0m\u001b[0;34m:\u001b[0m\u001b[0;34m\u001b[0m\u001b[0;34m\u001b[0m\u001b[0m\n",
      "\u001b[0;32m~/opt/anaconda3/lib/python3.9/site-packages/pandas/_libs/index.pyx\u001b[0m in \u001b[0;36mpandas._libs.index.IndexEngine.get_loc\u001b[0;34m()\u001b[0m\n",
      "\u001b[0;32m~/opt/anaconda3/lib/python3.9/site-packages/pandas/_libs/index.pyx\u001b[0m in \u001b[0;36mpandas._libs.index.IndexEngine.get_loc\u001b[0;34m()\u001b[0m\n",
      "\u001b[0;32mpandas/_libs/hashtable_class_helper.pxi\u001b[0m in \u001b[0;36mpandas._libs.hashtable.PyObjectHashTable.get_item\u001b[0;34m()\u001b[0m\n",
      "\u001b[0;32mpandas/_libs/hashtable_class_helper.pxi\u001b[0m in \u001b[0;36mpandas._libs.hashtable.PyObjectHashTable.get_item\u001b[0;34m()\u001b[0m\n",
      "\u001b[0;31mKeyError\u001b[0m: 'b3i'",
      "\nThe above exception was the direct cause of the following exception:\n",
      "\u001b[0;31mKeyError\u001b[0m                                  Traceback (most recent call last)",
      "\u001b[0;32m/var/folders/4t/x5csmzxd5cv_53zvdjdzhwnw0000gn/T/ipykernel_3515/2054285901.py\u001b[0m in \u001b[0;36m<module>\u001b[0;34m\u001b[0m\n\u001b[1;32m     12\u001b[0m \u001b[0mb2\u001b[0m \u001b[0;34m=\u001b[0m \u001b[0mfloat\u001b[0m\u001b[0;34m(\u001b[0m\u001b[0mdf\u001b[0m\u001b[0;34m[\u001b[0m\u001b[0;34m\"b2i\"\u001b[0m\u001b[0;34m]\u001b[0m\u001b[0;34m[\u001b[0m\u001b[0mi_actual\u001b[0m\u001b[0;34m]\u001b[0m\u001b[0;34m)\u001b[0m\u001b[0;34m\u001b[0m\u001b[0;34m\u001b[0m\u001b[0m\n\u001b[1;32m     13\u001b[0m \u001b[0mA3\u001b[0m \u001b[0;34m=\u001b[0m \u001b[0mfloat\u001b[0m\u001b[0;34m(\u001b[0m\u001b[0mdf\u001b[0m\u001b[0;34m[\u001b[0m\u001b[0;34m\"A3i\"\u001b[0m\u001b[0;34m]\u001b[0m\u001b[0;34m[\u001b[0m\u001b[0mi_actual\u001b[0m\u001b[0;34m]\u001b[0m\u001b[0;34m)\u001b[0m\u001b[0;34m\u001b[0m\u001b[0;34m\u001b[0m\u001b[0m\n\u001b[0;32m---> 14\u001b[0;31m \u001b[0mb3\u001b[0m \u001b[0;34m=\u001b[0m \u001b[0mfloat\u001b[0m\u001b[0;34m(\u001b[0m\u001b[0mdf\u001b[0m\u001b[0;34m[\u001b[0m\u001b[0;34m\"b3i\"\u001b[0m\u001b[0;34m]\u001b[0m\u001b[0;34m[\u001b[0m\u001b[0mi_actual\u001b[0m\u001b[0;34m]\u001b[0m\u001b[0;34m)\u001b[0m\u001b[0;34m\u001b[0m\u001b[0;34m\u001b[0m\u001b[0m\n\u001b[0m\u001b[1;32m     15\u001b[0m \u001b[0;34m\u001b[0m\u001b[0m\n\u001b[1;32m     16\u001b[0m \u001b[0mxkm1\u001b[0m \u001b[0;34m=\u001b[0m \u001b[0mA0\u001b[0m\u001b[0;34m*\u001b[0m\u001b[0mx\u001b[0m\u001b[0;34m[\u001b[0m\u001b[0;34m-\u001b[0m\u001b[0;36m1\u001b[0m\u001b[0;34m]\u001b[0m \u001b[0;34m+\u001b[0m \u001b[0mb0\u001b[0m\u001b[0;34m*\u001b[0m\u001b[0my\u001b[0m\u001b[0;34m[\u001b[0m\u001b[0;34m-\u001b[0m\u001b[0;36m1\u001b[0m\u001b[0;34m]\u001b[0m \u001b[0;34m+\u001b[0m \u001b[0mb2\u001b[0m\u001b[0;34m*\u001b[0m\u001b[0mZ\u001b[0m\u001b[0;34m\u001b[0m\u001b[0;34m\u001b[0m\u001b[0m\n",
      "\u001b[0;32m~/opt/anaconda3/lib/python3.9/site-packages/pandas/core/frame.py\u001b[0m in \u001b[0;36m__getitem__\u001b[0;34m(self, key)\u001b[0m\n\u001b[1;32m   3503\u001b[0m             \u001b[0;32mif\u001b[0m \u001b[0mself\u001b[0m\u001b[0;34m.\u001b[0m\u001b[0mcolumns\u001b[0m\u001b[0;34m.\u001b[0m\u001b[0mnlevels\u001b[0m \u001b[0;34m>\u001b[0m \u001b[0;36m1\u001b[0m\u001b[0;34m:\u001b[0m\u001b[0;34m\u001b[0m\u001b[0;34m\u001b[0m\u001b[0m\n\u001b[1;32m   3504\u001b[0m                 \u001b[0;32mreturn\u001b[0m \u001b[0mself\u001b[0m\u001b[0;34m.\u001b[0m\u001b[0m_getitem_multilevel\u001b[0m\u001b[0;34m(\u001b[0m\u001b[0mkey\u001b[0m\u001b[0;34m)\u001b[0m\u001b[0;34m\u001b[0m\u001b[0;34m\u001b[0m\u001b[0m\n\u001b[0;32m-> 3505\u001b[0;31m             \u001b[0mindexer\u001b[0m \u001b[0;34m=\u001b[0m \u001b[0mself\u001b[0m\u001b[0;34m.\u001b[0m\u001b[0mcolumns\u001b[0m\u001b[0;34m.\u001b[0m\u001b[0mget_loc\u001b[0m\u001b[0;34m(\u001b[0m\u001b[0mkey\u001b[0m\u001b[0;34m)\u001b[0m\u001b[0;34m\u001b[0m\u001b[0;34m\u001b[0m\u001b[0m\n\u001b[0m\u001b[1;32m   3506\u001b[0m             \u001b[0;32mif\u001b[0m \u001b[0mis_integer\u001b[0m\u001b[0;34m(\u001b[0m\u001b[0mindexer\u001b[0m\u001b[0;34m)\u001b[0m\u001b[0;34m:\u001b[0m\u001b[0;34m\u001b[0m\u001b[0;34m\u001b[0m\u001b[0m\n\u001b[1;32m   3507\u001b[0m                 \u001b[0mindexer\u001b[0m \u001b[0;34m=\u001b[0m \u001b[0;34m[\u001b[0m\u001b[0mindexer\u001b[0m\u001b[0;34m]\u001b[0m\u001b[0;34m\u001b[0m\u001b[0;34m\u001b[0m\u001b[0m\n",
      "\u001b[0;32m~/opt/anaconda3/lib/python3.9/site-packages/pandas/core/indexes/base.py\u001b[0m in \u001b[0;36mget_loc\u001b[0;34m(self, key, method, tolerance)\u001b[0m\n\u001b[1;32m   3629\u001b[0m                 \u001b[0;32mreturn\u001b[0m \u001b[0mself\u001b[0m\u001b[0;34m.\u001b[0m\u001b[0m_engine\u001b[0m\u001b[0;34m.\u001b[0m\u001b[0mget_loc\u001b[0m\u001b[0;34m(\u001b[0m\u001b[0mcasted_key\u001b[0m\u001b[0;34m)\u001b[0m\u001b[0;34m\u001b[0m\u001b[0;34m\u001b[0m\u001b[0m\n\u001b[1;32m   3630\u001b[0m             \u001b[0;32mexcept\u001b[0m \u001b[0mKeyError\u001b[0m \u001b[0;32mas\u001b[0m \u001b[0merr\u001b[0m\u001b[0;34m:\u001b[0m\u001b[0;34m\u001b[0m\u001b[0;34m\u001b[0m\u001b[0m\n\u001b[0;32m-> 3631\u001b[0;31m                 \u001b[0;32mraise\u001b[0m \u001b[0mKeyError\u001b[0m\u001b[0;34m(\u001b[0m\u001b[0mkey\u001b[0m\u001b[0;34m)\u001b[0m \u001b[0;32mfrom\u001b[0m \u001b[0merr\u001b[0m\u001b[0;34m\u001b[0m\u001b[0;34m\u001b[0m\u001b[0m\n\u001b[0m\u001b[1;32m   3632\u001b[0m             \u001b[0;32mexcept\u001b[0m \u001b[0mTypeError\u001b[0m\u001b[0;34m:\u001b[0m\u001b[0;34m\u001b[0m\u001b[0;34m\u001b[0m\u001b[0m\n\u001b[1;32m   3633\u001b[0m                 \u001b[0;31m# If we have a listlike key, _check_indexing_error will raise\u001b[0m\u001b[0;34m\u001b[0m\u001b[0;34m\u001b[0m\u001b[0m\n",
      "\u001b[0;31mKeyError\u001b[0m: 'b3i'"
     ]
    }
   ],
   "source": [
    "x = [0]\n",
    "y = [0]\n",
    "z = [0]\n",
    "\n",
    "N = 1000\n",
    "\n",
    "A0 = float(df[\"A0i\"][i_actual])\n",
    "b0 = float(df[\"b0i\"][i_actual])\n",
    "A1 = float(df[\"A1i\"][i_actual])\n",
    "b1 = float(df[\"b1i\"][i_actual])\n",
    "A2 = float(df[\"A2i\"][i_actual])\n",
    "b2 = float(df[\"b2i\"][i_actual])\n",
    "A3 = float(df[\"A3i\"][i_actual])\n",
    "b3 = float(df[\"b3i\"][i_actual])\n",
    "\n",
    "xkm1 = A0*x[-1] + b0*y[-1] + b2*Z\n",
    "ykm1 = A1*x[-1] + b1*y[-1] + A3*z\n",
    "zkm1 = A2*x[-1] + b2*y[-1] + b3*z\n",
    "    \n",
    "x.append(xkm1)\n",
    "y.append(ykm1)\n",
    "z.append(zkm1)"
   ]
  },
  {
   "cell_type": "code",
   "execution_count": null,
   "metadata": {},
   "outputs": [],
   "source": [
    "import matplotlib.pyplot as plt\n",
    "from mpl_toolkits.mplot3d import Axes3D\n",
    "\n",
    "fig=plt.figure()\n",
    "ax=fig.gca(projection='3d')\n",
    "ax.scatter(x,y,z)"
   ]
  },
  {
   "cell_type": "markdown",
   "metadata": {},
   "source": [
    "# Correcciones"
   ]
  },
  {
   "cell_type": "code",
   "execution_count": 56,
   "metadata": {},
   "outputs": [],
   "source": [
    "import random\n",
    "import numpy as np\n",
    "import sympy as sp\n",
    "import matplotlib.pyplot as plt\n",
    "%matplotlib inline\n",
    "import pandas as pd\n",
    "from mpl_toolkits.mplot3d import Axes3D"
   ]
  },
  {
   "cell_type": "code",
   "execution_count": 78,
   "metadata": {},
   "outputs": [],
   "source": [
    "A0 = np.array([[0,0,0],[0,0.18,0],[0,0,0]])\n",
    "b0 = np.array([0,0,0])\n",
    "\n",
    "A1 = np.array([[0.85,0,0],[0,0.85,0.1],[0,-0.1,0.85]])\n",
    "b1 = np.array([0,1.6,0])\n",
    "\n",
    "A2 = np.array([[0.2,-0.2,0],[0.2,0.2,0],[0,0,0.3]])\n",
    "b2 = np.array([0,0.8,0])\n",
    "\n",
    "A3 = np.array([[-0.2,0.2,0],[0.2,0.2,0],[0,0,0.3]])\n",
    "b3 = np.array([0,0.8,0])"
   ]
  },
  {
   "cell_type": "code",
   "execution_count": 79,
   "metadata": {},
   "outputs": [],
   "source": [
    "#Definí el número de muestras e i(0, 1, 2, 3)\n",
    "N = 1000\n",
    "i = np.arange(4)"
   ]
  },
  {
   "cell_type": "code",
   "execution_count": 96,
   "metadata": {},
   "outputs": [],
   "source": [
    "#Definí el número de partidas y el vector\n",
    "x=np.array([0,0,0])\n",
    "x_1 = [0]\n",
    "y = [0]\n",
    "z = [0]"
   ]
  },
  {
   "cell_type": "code",
   "execution_count": 88,
   "metadata": {},
   "outputs": [],
   "source": [
    "A= [A0, A1, A2, A3]\n",
    "B= [b0, b1, b2, b3]"
   ]
  },
  {
   "cell_type": "code",
   "execution_count": 91,
   "metadata": {
    "scrolled": true
   },
   "outputs": [],
   "source": [
    "#Generar el helecho\n",
    "for k in range(N):\n",
    "    i_actual = random.choices(i)[0]\n",
    "#En la columna Ai el iactual va a ser el que encontro    \n",
    "    Ai=A[i_actual]\n",
    "    bi=B[i_actual]"
   ]
  },
  {
   "cell_type": "code",
   "execution_count": 98,
   "metadata": {},
   "outputs": [],
   "source": [
    "#Ecuación\n",
    "x = Ai@x + bi"
   ]
  },
  {
   "cell_type": "code",
   "execution_count": 100,
   "metadata": {
    "scrolled": true
   },
   "outputs": [],
   "source": [
    "x_1.append(x[0])\n",
    "y.append(x[1])\n",
    "z.append(x[2])"
   ]
  },
  {
   "cell_type": "code",
   "execution_count": 102,
   "metadata": {
    "scrolled": false
   },
   "outputs": [
    {
     "name": "stdout",
     "output_type": "stream",
     "text": [
      "Requirement already satisfied: matplotlib in /Users/sofi/opt/anaconda3/lib/python3.9/site-packages (3.7.1)\n",
      "Requirement already satisfied: packaging>=20.0 in /Users/sofi/opt/anaconda3/lib/python3.9/site-packages (from matplotlib) (23.0)\n",
      "Requirement already satisfied: pyparsing>=2.3.1 in /Users/sofi/opt/anaconda3/lib/python3.9/site-packages (from matplotlib) (3.0.9)\n",
      "Requirement already satisfied: kiwisolver>=1.0.1 in /Users/sofi/opt/anaconda3/lib/python3.9/site-packages (from matplotlib) (1.4.4)\n",
      "Requirement already satisfied: numpy>=1.20 in /Users/sofi/opt/anaconda3/lib/python3.9/site-packages (from matplotlib) (1.23.5)\n",
      "Requirement already satisfied: fonttools>=4.22.0 in /Users/sofi/opt/anaconda3/lib/python3.9/site-packages (from matplotlib) (4.25.0)\n",
      "Requirement already satisfied: contourpy>=1.0.1 in /Users/sofi/opt/anaconda3/lib/python3.9/site-packages (from matplotlib) (1.0.5)\n",
      "Requirement already satisfied: pillow>=6.2.0 in /Users/sofi/opt/anaconda3/lib/python3.9/site-packages (from matplotlib) (9.4.0)\n",
      "Requirement already satisfied: python-dateutil>=2.7 in /Users/sofi/opt/anaconda3/lib/python3.9/site-packages (from matplotlib) (2.8.2)\n",
      "Requirement already satisfied: importlib-resources>=3.2.0 in /Users/sofi/opt/anaconda3/lib/python3.9/site-packages (from matplotlib) (5.2.0)\n",
      "Requirement already satisfied: cycler>=0.10 in /Users/sofi/opt/anaconda3/lib/python3.9/site-packages (from matplotlib) (0.11.0)\n",
      "Requirement already satisfied: zipp>=3.1.0 in /Users/sofi/opt/anaconda3/lib/python3.9/site-packages (from importlib-resources>=3.2.0->matplotlib) (3.11.0)\n",
      "Requirement already satisfied: six>=1.5 in /Users/sofi/opt/anaconda3/lib/python3.9/site-packages (from python-dateutil>=2.7->matplotlib) (1.16.0)\n",
      "Note: you may need to restart the kernel to use updated packages.\n"
     ]
    }
   ],
   "source": [
    "pip install --upgrade matplotlib"
   ]
  },
  {
   "cell_type": "code",
   "execution_count": 114,
   "metadata": {},
   "outputs": [
    {
     "data": {
      "image/png": "[encoded data removed]",
      "text/plain": [
       "<Figure size 640x480 with 1 Axes>"
      ]
     },
     "metadata": {},
     "output_type": "display_data"
    }
   ],
   "source": [
    "#Gráfica\n",
    "fig = plt.figure()\n",
    "ax1 = fig.add_subplot(111,projection='3d')"
   ]
  },
  {
   "cell_type": "code",
   "execution_count": 121,
   "metadata": {},
   "outputs": [
    {
     "ename": "TypeError",
     "evalue": "gca() got an unexpected keyword argument 'projection'",
     "output_type": "error",
     "traceback": [
      "\u001b[0;31m---------------------------------------------------------------------------\u001b[0m",
      "\u001b[0;31mTypeError\u001b[0m                                 Traceback (most recent call last)",
      "\u001b[0;32m/var/folders/4t/x5csmzxd5cv_53zvdjdzhwnw0000gn/T/ipykernel_3105/3674454292.py\u001b[0m in \u001b[0;36m<module>\u001b[0;34m\u001b[0m\n\u001b[0;32m----> 1\u001b[0;31m \u001b[0max\u001b[0m\u001b[0;34m=\u001b[0m\u001b[0mfig\u001b[0m\u001b[0;34m.\u001b[0m\u001b[0mgca\u001b[0m\u001b[0;34m(\u001b[0m\u001b[0mprojection\u001b[0m\u001b[0;34m=\u001b[0m\u001b[0;34m'3d'\u001b[0m\u001b[0;34m)\u001b[0m\u001b[0;34m\u001b[0m\u001b[0;34m\u001b[0m\u001b[0m\n\u001b[0m\u001b[1;32m      2\u001b[0m \u001b[0max\u001b[0m\u001b[0;34m.\u001b[0m\u001b[0mscatter\u001b[0m\u001b[0;34m(\u001b[0m\u001b[0mx_1\u001b[0m\u001b[0;34m,\u001b[0m\u001b[0my\u001b[0m\u001b[0;34m,\u001b[0m\u001b[0mz\u001b[0m\u001b[0;34m)\u001b[0m\u001b[0;34m\u001b[0m\u001b[0;34m\u001b[0m\u001b[0m\n\u001b[1;32m      3\u001b[0m \u001b[0max\u001b[0m\u001b[0;34m.\u001b[0m\u001b[0mset_x_1label\u001b[0m\u001b[0;34m(\u001b[0m\u001b[0;34m'X'\u001b[0m\u001b[0;34m)\u001b[0m\u001b[0;34m\u001b[0m\u001b[0;34m\u001b[0m\u001b[0m\n\u001b[1;32m      4\u001b[0m \u001b[0max\u001b[0m\u001b[0;34m.\u001b[0m\u001b[0mset_ylabel\u001b[0m\u001b[0;34m(\u001b[0m\u001b[0;34m'Y'\u001b[0m\u001b[0;34m)\u001b[0m\u001b[0;34m\u001b[0m\u001b[0;34m\u001b[0m\u001b[0m\n\u001b[1;32m      5\u001b[0m \u001b[0max\u001b[0m\u001b[0;34m.\u001b[0m\u001b[0mset_zlabel\u001b[0m\u001b[0;34m(\u001b[0m\u001b[0;34m'Z'\u001b[0m\u001b[0;34m)\u001b[0m\u001b[0;34m\u001b[0m\u001b[0;34m\u001b[0m\u001b[0m\n",
      "\u001b[0;31mTypeError\u001b[0m: gca() got an unexpected keyword argument 'projection'"
     ]
    }
   ],
   "source": [
    "ax=fig.gca(projection='3d')\n",
    "ax.scatter(x_1,y,z)\n",
    "ax.set_x_1label('X')\n",
    "ax.set_ylabel('Y')\n",
    "ax.set_zlabel('Z')"
   ]
  },
  {
   "cell_type": "markdown",
   "metadata": {
    "colab_type": "text",
    "id": "RfYMRwkTVNue"
   },
   "source": [
    "---\n",
    "### Probabilidad Precio-Umbral <font size='1'>(25 puntos)</font>\n",
    "\n",
    "Suponga que desea invertir en **Spotify** o **Mercado Libre**. Evalúe la probabilidad de obtener un retorno del 10% en tres meses a partir del 31 de marzo del presente año."
   ]
  },
  {
   "cell_type": "markdown",
   "metadata": {},
   "source": [
    "1. Describa una función para obtener los precios de cierre ajustados para dividendos y divisiones desde *YAHOO finance*, usando el paquete de *yfinance*, donde los argumentos de entrada sean los nombres de las empresas y las fechas de inicio y fin a los cuales se obtendrán los datos."
   ]
  },
  {
   "cell_type": "code",
   "execution_count": 38,
   "metadata": {},
   "outputs": [],
   "source": [
    "import yfinance as yf\n",
    "import pandas as pd\n",
    "import numpy as np\n",
    "import matplotlib.pyplot as plt\n",
    "import yfinance as yf\n",
    "%matplotlib inline"
   ]
  },
  {
   "cell_type": "code",
   "execution_count": 39,
   "metadata": {},
   "outputs": [
    {
     "name": "stdout",
     "output_type": "stream",
     "text": [
      "Requirement already satisfied: yfinance in /Users/sofi/opt/anaconda3/lib/python3.9/site-packages (0.2.14)\n",
      "Requirement already satisfied: html5lib>=1.1 in /Users/sofi/opt/anaconda3/lib/python3.9/site-packages (from yfinance) (1.1)\n",
      "Requirement already satisfied: beautifulsoup4>=4.11.1 in /Users/sofi/opt/anaconda3/lib/python3.9/site-packages (from yfinance) (4.11.1)\n",
      "Requirement already satisfied: numpy>=1.16.5 in /Users/sofi/opt/anaconda3/lib/python3.9/site-packages (from yfinance) (1.23.5)\n",
      "Requirement already satisfied: multitasking>=0.0.7 in /Users/sofi/opt/anaconda3/lib/python3.9/site-packages (from yfinance) (0.0.9)\n",
      "Requirement already satisfied: appdirs>=1.4.4 in /Users/sofi/opt/anaconda3/lib/python3.9/site-packages (from yfinance) (1.4.4)\n",
      "Requirement already satisfied: pandas>=1.3.0 in /Users/sofi/opt/anaconda3/lib/python3.9/site-packages (from yfinance) (1.4.4)\n",
      "Requirement already satisfied: frozendict>=2.3.4 in /Users/sofi/opt/anaconda3/lib/python3.9/site-packages (from yfinance) (2.3.6)\n",
      "Requirement already satisfied: cryptography>=3.3.2 in /Users/sofi/opt/anaconda3/lib/python3.9/site-packages (from yfinance) (39.0.1)\n",
      "Requirement already satisfied: requests>=2.26 in /Users/sofi/opt/anaconda3/lib/python3.9/site-packages (from yfinance) (2.28.1)\n",
      "Requirement already satisfied: pytz>=2022.5 in /Users/sofi/opt/anaconda3/lib/python3.9/site-packages (from yfinance) (2023.2)\n",
      "Requirement already satisfied: lxml>=4.9.1 in /Users/sofi/opt/anaconda3/lib/python3.9/site-packages (from yfinance) (4.9.1)\n",
      "Requirement already satisfied: soupsieve>1.2 in /Users/sofi/opt/anaconda3/lib/python3.9/site-packages (from beautifulsoup4>=4.11.1->yfinance) (2.3.2.post1)\n",
      "Requirement already satisfied: cffi>=1.12 in /Users/sofi/opt/anaconda3/lib/python3.9/site-packages (from cryptography>=3.3.2->yfinance) (1.15.1)\n",
      "Requirement already satisfied: six>=1.9 in /Users/sofi/opt/anaconda3/lib/python3.9/site-packages (from html5lib>=1.1->yfinance) (1.16.0)\n",
      "Requirement already satisfied: webencodings in /Users/sofi/opt/anaconda3/lib/python3.9/site-packages (from html5lib>=1.1->yfinance) (0.5.1)\n",
      "Requirement already satisfied: python-dateutil>=2.8.1 in /Users/sofi/opt/anaconda3/lib/python3.9/site-packages (from pandas>=1.3.0->yfinance) (2.8.2)\n",
      "Requirement already satisfied: urllib3<1.27,>=1.21.1 in /Users/sofi/opt/anaconda3/lib/python3.9/site-packages (from requests>=2.26->yfinance) (1.26.15)\n",
      "Requirement already satisfied: idna<4,>=2.5 in /Users/sofi/opt/anaconda3/lib/python3.9/site-packages (from requests>=2.26->yfinance) (3.4)\n",
      "Requirement already satisfied: charset-normalizer<3,>=2 in /Users/sofi/opt/anaconda3/lib/python3.9/site-packages (from requests>=2.26->yfinance) (2.0.4)\n",
      "Requirement already satisfied: certifi>=2017.4.17 in /Users/sofi/opt/anaconda3/lib/python3.9/site-packages (from requests>=2.26->yfinance) (2022.12.7)\n",
      "Requirement already satisfied: pycparser in /Users/sofi/opt/anaconda3/lib/python3.9/site-packages (from cffi>=1.12->cryptography>=3.3.2->yfinance) (2.21)\n"
     ]
    }
   ],
   "source": [
    "!pip install yfinance"
   ]
  },
  {
   "cell_type": "markdown",
   "metadata": {},
   "source": [
    "2. Obtenga los precios de cierre ajustados para Spotify y Mercado Libre desde el 31 de octubre de 2020 al 31 de octubre de 2022."
   ]
  },
  {
   "cell_type": "code",
   "execution_count": 47,
   "metadata": {},
   "outputs": [
    {
     "name": "stdout",
     "output_type": "stream",
     "text": [
      "[*********************100%***********************]  1 of 1 completed\n"
     ]
    },
    {
     "data": {
      "text/html": [
       "<div>\n",
       "<style scoped>\n",
       "    .dataframe tbody tr th:only-of-type {\n",
       "        vertical-align: middle;\n",
       "    }\n",
       "\n",
       "    .dataframe tbody tr th {\n",
       "        vertical-align: top;\n",
       "    }\n",
       "\n",
       "    .dataframe thead th {\n",
       "        text-align: right;\n",
       "    }\n",
       "</style>\n",
       "<table border=\"1\" class=\"dataframe\">\n",
       "  <thead>\n",
       "    <tr style=\"text-align: right;\">\n",
       "      <th></th>\n",
       "      <th>Open</th>\n",
       "      <th>High</th>\n",
       "      <th>Low</th>\n",
       "      <th>Close</th>\n",
       "      <th>Adj Close</th>\n",
       "      <th>Volume</th>\n",
       "    </tr>\n",
       "    <tr>\n",
       "      <th>Date</th>\n",
       "      <th></th>\n",
       "      <th></th>\n",
       "      <th></th>\n",
       "      <th></th>\n",
       "      <th></th>\n",
       "      <th></th>\n",
       "    </tr>\n",
       "  </thead>\n",
       "  <tbody>\n",
       "    <tr>\n",
       "      <th>2020-11-02</th>\n",
       "      <td>240.009995</td>\n",
       "      <td>240.789993</td>\n",
       "      <td>228.110001</td>\n",
       "      <td>231.600006</td>\n",
       "      <td>231.600006</td>\n",
       "      <td>2282200</td>\n",
       "    </tr>\n",
       "    <tr>\n",
       "      <th>2020-11-03</th>\n",
       "      <td>236.000000</td>\n",
       "      <td>241.350006</td>\n",
       "      <td>232.865997</td>\n",
       "      <td>236.529999</td>\n",
       "      <td>236.529999</td>\n",
       "      <td>1418500</td>\n",
       "    </tr>\n",
       "    <tr>\n",
       "      <th>2020-11-04</th>\n",
       "      <td>245.000000</td>\n",
       "      <td>246.949997</td>\n",
       "      <td>238.000000</td>\n",
       "      <td>239.279999</td>\n",
       "      <td>239.279999</td>\n",
       "      <td>1907000</td>\n",
       "    </tr>\n",
       "    <tr>\n",
       "      <th>2020-11-05</th>\n",
       "      <td>247.720001</td>\n",
       "      <td>257.769989</td>\n",
       "      <td>239.600006</td>\n",
       "      <td>256.380005</td>\n",
       "      <td>256.380005</td>\n",
       "      <td>2180600</td>\n",
       "    </tr>\n",
       "    <tr>\n",
       "      <th>2020-11-06</th>\n",
       "      <td>257.500000</td>\n",
       "      <td>276.489990</td>\n",
       "      <td>255.740005</td>\n",
       "      <td>276.100006</td>\n",
       "      <td>276.100006</td>\n",
       "      <td>2161200</td>\n",
       "    </tr>\n",
       "    <tr>\n",
       "      <th>...</th>\n",
       "      <td>...</td>\n",
       "      <td>...</td>\n",
       "      <td>...</td>\n",
       "      <td>...</td>\n",
       "      <td>...</td>\n",
       "      <td>...</td>\n",
       "    </tr>\n",
       "    <tr>\n",
       "      <th>2022-10-24</th>\n",
       "      <td>88.959999</td>\n",
       "      <td>97.070000</td>\n",
       "      <td>84.080002</td>\n",
       "      <td>94.660004</td>\n",
       "      <td>94.660004</td>\n",
       "      <td>6219400</td>\n",
       "    </tr>\n",
       "    <tr>\n",
       "      <th>2022-10-25</th>\n",
       "      <td>95.570000</td>\n",
       "      <td>98.639999</td>\n",
       "      <td>95.080002</td>\n",
       "      <td>97.050003</td>\n",
       "      <td>97.050003</td>\n",
       "      <td>3226200</td>\n",
       "    </tr>\n",
       "    <tr>\n",
       "      <th>2022-10-26</th>\n",
       "      <td>91.529999</td>\n",
       "      <td>91.980003</td>\n",
       "      <td>84.000000</td>\n",
       "      <td>84.419998</td>\n",
       "      <td>84.419998</td>\n",
       "      <td>8005500</td>\n",
       "    </tr>\n",
       "    <tr>\n",
       "      <th>2022-10-27</th>\n",
       "      <td>84.230003</td>\n",
       "      <td>84.519997</td>\n",
       "      <td>80.019997</td>\n",
       "      <td>81.739998</td>\n",
       "      <td>81.739998</td>\n",
       "      <td>3597200</td>\n",
       "    </tr>\n",
       "    <tr>\n",
       "      <th>2022-10-28</th>\n",
       "      <td>81.419998</td>\n",
       "      <td>83.360001</td>\n",
       "      <td>80.529999</td>\n",
       "      <td>83.360001</td>\n",
       "      <td>83.360001</td>\n",
       "      <td>2460700</td>\n",
       "    </tr>\n",
       "  </tbody>\n",
       "</table>\n",
       "<p>502 rows × 6 columns</p>\n",
       "</div>"
      ],
      "text/plain": [
       "                  Open        High         Low       Close   Adj Close  \\\n",
       "Date                                                                     \n",
       "2020-11-02  240.009995  240.789993  228.110001  231.600006  231.600006   \n",
       "2020-11-03  236.000000  241.350006  232.865997  236.529999  236.529999   \n",
       "2020-11-04  245.000000  246.949997  238.000000  239.279999  239.279999   \n",
       "2020-11-05  247.720001  257.769989  239.600006  256.380005  256.380005   \n",
       "2020-11-06  257.500000  276.489990  255.740005  276.100006  276.100006   \n",
       "...                ...         ...         ...         ...         ...   \n",
       "2022-10-24   88.959999   97.070000   84.080002   94.660004   94.660004   \n",
       "2022-10-25   95.570000   98.639999   95.080002   97.050003   97.050003   \n",
       "2022-10-26   91.529999   91.980003   84.000000   84.419998   84.419998   \n",
       "2022-10-27   84.230003   84.519997   80.019997   81.739998   81.739998   \n",
       "2022-10-28   81.419998   83.360001   80.529999   83.360001   83.360001   \n",
       "\n",
       "             Volume  \n",
       "Date                 \n",
       "2020-11-02  2282200  \n",
       "2020-11-03  1418500  \n",
       "2020-11-04  1907000  \n",
       "2020-11-05  2180600  \n",
       "2020-11-06  2161200  \n",
       "...             ...  \n",
       "2022-10-24  6219400  \n",
       "2022-10-25  3226200  \n",
       "2022-10-26  8005500  \n",
       "2022-10-27  3597200  \n",
       "2022-10-28  2460700  \n",
       "\n",
       "[502 rows x 6 columns]"
      ]
     },
     "execution_count": 47,
     "metadata": {},
     "output_type": "execute_result"
    }
   ],
   "source": [
    "SPOT = yf.download(\"SPOT\", \"2020-10-31\", \"2022-10-31\")\n",
    "SPOT"
   ]
  },
  {
   "cell_type": "code",
   "execution_count": 46,
   "metadata": {},
   "outputs": [
    {
     "name": "stdout",
     "output_type": "stream",
     "text": [
      "[*********************100%***********************]  1 of 1 completed\n"
     ]
    },
    {
     "data": {
      "text/html": [
       "<div>\n",
       "<style scoped>\n",
       "    .dataframe tbody tr th:only-of-type {\n",
       "        vertical-align: middle;\n",
       "    }\n",
       "\n",
       "    .dataframe tbody tr th {\n",
       "        vertical-align: top;\n",
       "    }\n",
       "\n",
       "    .dataframe thead th {\n",
       "        text-align: right;\n",
       "    }\n",
       "</style>\n",
       "<table border=\"1\" class=\"dataframe\">\n",
       "  <thead>\n",
       "    <tr style=\"text-align: right;\">\n",
       "      <th></th>\n",
       "      <th>Open</th>\n",
       "      <th>High</th>\n",
       "      <th>Low</th>\n",
       "      <th>Close</th>\n",
       "      <th>Adj Close</th>\n",
       "      <th>Volume</th>\n",
       "    </tr>\n",
       "    <tr>\n",
       "      <th>Date</th>\n",
       "      <th></th>\n",
       "      <th></th>\n",
       "      <th></th>\n",
       "      <th></th>\n",
       "      <th></th>\n",
       "      <th></th>\n",
       "    </tr>\n",
       "  </thead>\n",
       "  <tbody>\n",
       "    <tr>\n",
       "      <th>2020-11-02</th>\n",
       "      <td>1229.449951</td>\n",
       "      <td>1252.000000</td>\n",
       "      <td>1192.140015</td>\n",
       "      <td>1215.859985</td>\n",
       "      <td>1215.859985</td>\n",
       "      <td>406600</td>\n",
       "    </tr>\n",
       "    <tr>\n",
       "      <th>2020-11-03</th>\n",
       "      <td>1220.000000</td>\n",
       "      <td>1242.770020</td>\n",
       "      <td>1196.630005</td>\n",
       "      <td>1233.969971</td>\n",
       "      <td>1233.969971</td>\n",
       "      <td>334800</td>\n",
       "    </tr>\n",
       "    <tr>\n",
       "      <th>2020-11-04</th>\n",
       "      <td>1282.000000</td>\n",
       "      <td>1321.160034</td>\n",
       "      <td>1275.000000</td>\n",
       "      <td>1315.689941</td>\n",
       "      <td>1315.689941</td>\n",
       "      <td>610100</td>\n",
       "    </tr>\n",
       "    <tr>\n",
       "      <th>2020-11-05</th>\n",
       "      <td>1405.099976</td>\n",
       "      <td>1460.000000</td>\n",
       "      <td>1372.760010</td>\n",
       "      <td>1437.800049</td>\n",
       "      <td>1437.800049</td>\n",
       "      <td>902200</td>\n",
       "    </tr>\n",
       "    <tr>\n",
       "      <th>2020-11-06</th>\n",
       "      <td>1433.979980</td>\n",
       "      <td>1490.670044</td>\n",
       "      <td>1395.680054</td>\n",
       "      <td>1485.859985</td>\n",
       "      <td>1485.859985</td>\n",
       "      <td>567700</td>\n",
       "    </tr>\n",
       "    <tr>\n",
       "      <th>...</th>\n",
       "      <td>...</td>\n",
       "      <td>...</td>\n",
       "      <td>...</td>\n",
       "      <td>...</td>\n",
       "      <td>...</td>\n",
       "      <td>...</td>\n",
       "    </tr>\n",
       "    <tr>\n",
       "      <th>2022-10-24</th>\n",
       "      <td>838.739990</td>\n",
       "      <td>839.210022</td>\n",
       "      <td>792.460022</td>\n",
       "      <td>827.159973</td>\n",
       "      <td>827.159973</td>\n",
       "      <td>536100</td>\n",
       "    </tr>\n",
       "    <tr>\n",
       "      <th>2022-10-25</th>\n",
       "      <td>832.380005</td>\n",
       "      <td>878.820007</td>\n",
       "      <td>832.380005</td>\n",
       "      <td>862.969971</td>\n",
       "      <td>862.969971</td>\n",
       "      <td>609900</td>\n",
       "    </tr>\n",
       "    <tr>\n",
       "      <th>2022-10-26</th>\n",
       "      <td>855.599976</td>\n",
       "      <td>880.669983</td>\n",
       "      <td>830.000000</td>\n",
       "      <td>833.359985</td>\n",
       "      <td>833.359985</td>\n",
       "      <td>548000</td>\n",
       "    </tr>\n",
       "    <tr>\n",
       "      <th>2022-10-27</th>\n",
       "      <td>836.950012</td>\n",
       "      <td>858.390015</td>\n",
       "      <td>829.609985</td>\n",
       "      <td>836.820007</td>\n",
       "      <td>836.820007</td>\n",
       "      <td>552300</td>\n",
       "    </tr>\n",
       "    <tr>\n",
       "      <th>2022-10-28</th>\n",
       "      <td>825.030029</td>\n",
       "      <td>881.929993</td>\n",
       "      <td>820.309998</td>\n",
       "      <td>881.750000</td>\n",
       "      <td>881.750000</td>\n",
       "      <td>644300</td>\n",
       "    </tr>\n",
       "  </tbody>\n",
       "</table>\n",
       "<p>502 rows × 6 columns</p>\n",
       "</div>"
      ],
      "text/plain": [
       "                   Open         High          Low        Close    Adj Close  \\\n",
       "Date                                                                          \n",
       "2020-11-02  1229.449951  1252.000000  1192.140015  1215.859985  1215.859985   \n",
       "2020-11-03  1220.000000  1242.770020  1196.630005  1233.969971  1233.969971   \n",
       "2020-11-04  1282.000000  1321.160034  1275.000000  1315.689941  1315.689941   \n",
       "2020-11-05  1405.099976  1460.000000  1372.760010  1437.800049  1437.800049   \n",
       "2020-11-06  1433.979980  1490.670044  1395.680054  1485.859985  1485.859985   \n",
       "...                 ...          ...          ...          ...          ...   \n",
       "2022-10-24   838.739990   839.210022   792.460022   827.159973   827.159973   \n",
       "2022-10-25   832.380005   878.820007   832.380005   862.969971   862.969971   \n",
       "2022-10-26   855.599976   880.669983   830.000000   833.359985   833.359985   \n",
       "2022-10-27   836.950012   858.390015   829.609985   836.820007   836.820007   \n",
       "2022-10-28   825.030029   881.929993   820.309998   881.750000   881.750000   \n",
       "\n",
       "            Volume  \n",
       "Date                \n",
       "2020-11-02  406600  \n",
       "2020-11-03  334800  \n",
       "2020-11-04  610100  \n",
       "2020-11-05  902200  \n",
       "2020-11-06  567700  \n",
       "...            ...  \n",
       "2022-10-24  536100  \n",
       "2022-10-25  609900  \n",
       "2022-10-26  548000  \n",
       "2022-10-27  552300  \n",
       "2022-10-28  644300  \n",
       "\n",
       "[502 rows x 6 columns]"
      ]
     },
     "execution_count": 46,
     "metadata": {},
     "output_type": "execute_result"
    }
   ],
   "source": [
    "MELIMX = yf.download(\"MELI\", \"2020-10-31\", \"2022-10-31\")\n",
    "MELIMX"
   ]
  },
  {
   "cell_type": "markdown",
   "metadata": {},
   "source": [
    "3. Calcule el rendimiento **simple** para ambas empresas."
   ]
  },
  {
   "cell_type": "code",
   "execution_count": 48,
   "metadata": {},
   "outputs": [],
   "source": [
    "def getClose(name,start,end):\n",
    "    return yf.download(name,start=start,end=end)[\"Adj Close\"]"
   ]
  },
  {
   "cell_type": "code",
   "execution_count": 49,
   "metadata": {},
   "outputs": [
    {
     "name": "stdout",
     "output_type": "stream",
     "text": [
      "[*********************100%***********************]  1 of 1 completed\n",
      "[*********************100%***********************]  1 of 1 completed\n"
     ]
    }
   ],
   "source": [
    "data_spot= getClose([\"SPOT\"], \"2020-10-31\", \"2022-10-31\")\n",
    "data_meli= getClose([\"MELI\"], \"2020-10-31\", \"2022-10-31\")"
   ]
  },
  {
   "cell_type": "code",
   "execution_count": 52,
   "metadata": {},
   "outputs": [
    {
     "data": {
      "text/plain": [
       "Date\n",
       "2020-11-02         NaN\n",
       "2020-11-03    0.021287\n",
       "2020-11-04    0.011626\n",
       "2020-11-05    0.071464\n",
       "2020-11-06    0.076917\n",
       "                ...   \n",
       "2022-10-24    0.067193\n",
       "2022-10-25    0.025248\n",
       "2022-10-26   -0.130139\n",
       "2022-10-27   -0.031746\n",
       "2022-10-28    0.019819\n",
       "Name: Adj Close, Length: 502, dtype: float64"
      ]
     },
     "execution_count": 52,
     "metadata": {},
     "output_type": "execute_result"
    }
   ],
   "source": [
    "RS = (data_spot - data_spot.shift())/data_spot.shift()\n",
    "RS"
   ]
  },
  {
   "cell_type": "code",
   "execution_count": 53,
   "metadata": {},
   "outputs": [
    {
     "data": {
      "text/plain": [
       "Date\n",
       "2020-11-02         NaN\n",
       "2020-11-03    0.014895\n",
       "2020-11-04    0.066225\n",
       "2020-11-05    0.092811\n",
       "2020-11-06    0.033426\n",
       "                ...   \n",
       "2022-10-24   -0.020997\n",
       "2022-10-25    0.043293\n",
       "2022-10-26   -0.034312\n",
       "2022-10-27    0.004152\n",
       "2022-10-28    0.053691\n",
       "Name: Adj Close, Length: 502, dtype: float64"
      ]
     },
     "execution_count": 53,
     "metadata": {},
     "output_type": "execute_result"
    }
   ],
   "source": [
    "RM = (data_meli - data_meli.shift())/data_meli.shift()\n",
    "RM"
   ]
  },
  {
   "cell_type": "code",
   "execution_count": 54,
   "metadata": {},
   "outputs": [
    {
     "data": {
      "text/plain": [
       "count    501.000000\n",
       "mean      -0.001382\n",
       "std        0.036095\n",
       "min       -0.167570\n",
       "25%       -0.021011\n",
       "50%       -0.002211\n",
       "75%        0.019446\n",
       "max        0.134582\n",
       "Name: Adj Close, dtype: float64"
      ]
     },
     "execution_count": 54,
     "metadata": {},
     "output_type": "execute_result"
    }
   ],
   "source": [
    "RS.describe()"
   ]
  },
  {
   "cell_type": "code",
   "execution_count": 55,
   "metadata": {},
   "outputs": [
    {
     "data": {
      "text/plain": [
       "count    501.000000\n",
       "mean       0.000176\n",
       "std        0.040439\n",
       "min       -0.168789\n",
       "25%       -0.022021\n",
       "50%        0.002013\n",
       "75%        0.022245\n",
       "max        0.161595\n",
       "Name: Adj Close, dtype: float64"
      ]
     },
     "execution_count": 55,
     "metadata": {},
     "output_type": "execute_result"
    }
   ],
   "source": [
    "RM.describe()"
   ]
  },
  {
   "cell_type": "markdown",
   "metadata": {},
   "source": [
    "4. Escriba una función que, dando como argumentos:\n",
    "* la media,\n",
    "* la desviación estandar,\n",
    "* la fecha de inicio,\n",
    "* **la fecha del fin de simulación** (**NO el número de días**) y\n",
    "* número de escenarios a simular;\n",
    "\n",
    "regrese en un _DataFrame_ de _pandas_ cuyo índice sea el rango de fechas dadas como argumentos."
   ]
  },
  {
   "cell_type": "code",
   "execution_count": 56,
   "metadata": {},
   "outputs": [],
   "source": [
    "RS_mean = RS.mean()\n",
    "RS_std = RS.std()\n",
    "\n",
    "RM_mean = RM.mean()\n",
    "RM_std = RM.std()"
   ]
  },
  {
   "cell_type": "code",
   "execution_count": 67,
   "metadata": {},
   "outputs": [],
   "source": [
    "def sim_r(media, std, inicio, dias, N):\n",
    "    r = np.random.normal(media, std, size = (dias, N))\n",
    "    fechas = pd.date_range(inicio, periods=dias)\n",
    "    return pd.DataFrame(index=fechas, data=r)"
   ]
  },
  {
   "cell_type": "code",
   "execution_count": 72,
   "metadata": {},
   "outputs": [],
   "source": [
    "rM_simulados = sim_r (RM_mean, RM_std, \"2020-10-31\", 365, 100000)"
   ]
  },
  {
   "cell_type": "code",
   "execution_count": 73,
   "metadata": {
    "scrolled": true
   },
   "outputs": [
    {
     "data": {
      "text/html": [
       "<div>\n",
       "<style scoped>\n",
       "    .dataframe tbody tr th:only-of-type {\n",
       "        vertical-align: middle;\n",
       "    }\n",
       "\n",
       "    .dataframe tbody tr th {\n",
       "        vertical-align: top;\n",
       "    }\n",
       "\n",
       "    .dataframe thead th {\n",
       "        text-align: right;\n",
       "    }\n",
       "</style>\n",
       "<table border=\"1\" class=\"dataframe\">\n",
       "  <thead>\n",
       "    <tr style=\"text-align: right;\">\n",
       "      <th></th>\n",
       "      <th>0</th>\n",
       "      <th>1</th>\n",
       "      <th>2</th>\n",
       "      <th>3</th>\n",
       "      <th>4</th>\n",
       "      <th>5</th>\n",
       "      <th>6</th>\n",
       "      <th>7</th>\n",
       "      <th>8</th>\n",
       "      <th>9</th>\n",
       "      <th>...</th>\n",
       "      <th>99990</th>\n",
       "      <th>99991</th>\n",
       "      <th>99992</th>\n",
       "      <th>99993</th>\n",
       "      <th>99994</th>\n",
       "      <th>99995</th>\n",
       "      <th>99996</th>\n",
       "      <th>99997</th>\n",
       "      <th>99998</th>\n",
       "      <th>99999</th>\n",
       "    </tr>\n",
       "  </thead>\n",
       "  <tbody>\n",
       "    <tr>\n",
       "      <th>2020-10-31</th>\n",
       "      <td>0.015202</td>\n",
       "      <td>-0.003510</td>\n",
       "      <td>-0.001950</td>\n",
       "      <td>0.004968</td>\n",
       "      <td>0.003215</td>\n",
       "      <td>-0.046205</td>\n",
       "      <td>0.018642</td>\n",
       "      <td>0.036421</td>\n",
       "      <td>-0.097629</td>\n",
       "      <td>-0.008048</td>\n",
       "      <td>...</td>\n",
       "      <td>-0.040432</td>\n",
       "      <td>0.019476</td>\n",
       "      <td>-0.026047</td>\n",
       "      <td>0.023618</td>\n",
       "      <td>0.029941</td>\n",
       "      <td>0.031203</td>\n",
       "      <td>-0.026202</td>\n",
       "      <td>0.040231</td>\n",
       "      <td>0.023711</td>\n",
       "      <td>-0.060261</td>\n",
       "    </tr>\n",
       "    <tr>\n",
       "      <th>2020-11-01</th>\n",
       "      <td>-0.044067</td>\n",
       "      <td>0.037785</td>\n",
       "      <td>0.011776</td>\n",
       "      <td>-0.047578</td>\n",
       "      <td>0.015064</td>\n",
       "      <td>0.028240</td>\n",
       "      <td>-0.062973</td>\n",
       "      <td>-0.054368</td>\n",
       "      <td>-0.022483</td>\n",
       "      <td>-0.006284</td>\n",
       "      <td>...</td>\n",
       "      <td>0.067068</td>\n",
       "      <td>0.085839</td>\n",
       "      <td>0.020366</td>\n",
       "      <td>-0.041587</td>\n",
       "      <td>0.010774</td>\n",
       "      <td>-0.005794</td>\n",
       "      <td>-0.024723</td>\n",
       "      <td>0.006877</td>\n",
       "      <td>0.036390</td>\n",
       "      <td>0.039373</td>\n",
       "    </tr>\n",
       "    <tr>\n",
       "      <th>2020-11-02</th>\n",
       "      <td>0.025563</td>\n",
       "      <td>0.011142</td>\n",
       "      <td>-0.022540</td>\n",
       "      <td>0.001555</td>\n",
       "      <td>0.011857</td>\n",
       "      <td>-0.038987</td>\n",
       "      <td>-0.044005</td>\n",
       "      <td>-0.098718</td>\n",
       "      <td>0.034100</td>\n",
       "      <td>-0.042169</td>\n",
       "      <td>...</td>\n",
       "      <td>0.010163</td>\n",
       "      <td>-0.010813</td>\n",
       "      <td>0.045747</td>\n",
       "      <td>-0.058214</td>\n",
       "      <td>0.047828</td>\n",
       "      <td>0.026835</td>\n",
       "      <td>0.013925</td>\n",
       "      <td>0.075218</td>\n",
       "      <td>0.046598</td>\n",
       "      <td>-0.034837</td>\n",
       "    </tr>\n",
       "    <tr>\n",
       "      <th>2020-11-03</th>\n",
       "      <td>-0.023018</td>\n",
       "      <td>-0.007916</td>\n",
       "      <td>-0.003426</td>\n",
       "      <td>0.072159</td>\n",
       "      <td>0.010060</td>\n",
       "      <td>0.007936</td>\n",
       "      <td>0.004051</td>\n",
       "      <td>0.010885</td>\n",
       "      <td>-0.031226</td>\n",
       "      <td>-0.037603</td>\n",
       "      <td>...</td>\n",
       "      <td>0.004590</td>\n",
       "      <td>0.020509</td>\n",
       "      <td>0.005819</td>\n",
       "      <td>0.026686</td>\n",
       "      <td>0.081662</td>\n",
       "      <td>0.014099</td>\n",
       "      <td>0.018160</td>\n",
       "      <td>0.045294</td>\n",
       "      <td>0.017130</td>\n",
       "      <td>-0.012916</td>\n",
       "    </tr>\n",
       "    <tr>\n",
       "      <th>2020-11-04</th>\n",
       "      <td>0.013757</td>\n",
       "      <td>-0.003904</td>\n",
       "      <td>-0.005159</td>\n",
       "      <td>-0.006465</td>\n",
       "      <td>0.030675</td>\n",
       "      <td>0.034280</td>\n",
       "      <td>-0.016877</td>\n",
       "      <td>0.040926</td>\n",
       "      <td>-0.015789</td>\n",
       "      <td>0.017550</td>\n",
       "      <td>...</td>\n",
       "      <td>-0.059821</td>\n",
       "      <td>0.043916</td>\n",
       "      <td>0.036065</td>\n",
       "      <td>0.024736</td>\n",
       "      <td>0.082457</td>\n",
       "      <td>-0.002049</td>\n",
       "      <td>0.045089</td>\n",
       "      <td>0.004175</td>\n",
       "      <td>0.034712</td>\n",
       "      <td>-0.015185</td>\n",
       "    </tr>\n",
       "    <tr>\n",
       "      <th>...</th>\n",
       "      <td>...</td>\n",
       "      <td>...</td>\n",
       "      <td>...</td>\n",
       "      <td>...</td>\n",
       "      <td>...</td>\n",
       "      <td>...</td>\n",
       "      <td>...</td>\n",
       "      <td>...</td>\n",
       "      <td>...</td>\n",
       "      <td>...</td>\n",
       "      <td>...</td>\n",
       "      <td>...</td>\n",
       "      <td>...</td>\n",
       "      <td>...</td>\n",
       "      <td>...</td>\n",
       "      <td>...</td>\n",
       "      <td>...</td>\n",
       "      <td>...</td>\n",
       "      <td>...</td>\n",
       "      <td>...</td>\n",
       "      <td>...</td>\n",
       "    </tr>\n",
       "    <tr>\n",
       "      <th>2021-10-26</th>\n",
       "      <td>0.012466</td>\n",
       "      <td>0.036468</td>\n",
       "      <td>0.076136</td>\n",
       "      <td>0.020916</td>\n",
       "      <td>0.023481</td>\n",
       "      <td>-0.028445</td>\n",
       "      <td>0.059934</td>\n",
       "      <td>-0.057500</td>\n",
       "      <td>-0.024417</td>\n",
       "      <td>0.027706</td>\n",
       "      <td>...</td>\n",
       "      <td>0.018691</td>\n",
       "      <td>0.054091</td>\n",
       "      <td>0.060251</td>\n",
       "      <td>0.008482</td>\n",
       "      <td>0.006376</td>\n",
       "      <td>-0.075558</td>\n",
       "      <td>0.003572</td>\n",
       "      <td>-0.008324</td>\n",
       "      <td>-0.001730</td>\n",
       "      <td>-0.073892</td>\n",
       "    </tr>\n",
       "    <tr>\n",
       "      <th>2021-10-27</th>\n",
       "      <td>-0.038460</td>\n",
       "      <td>0.115322</td>\n",
       "      <td>0.053571</td>\n",
       "      <td>-0.012855</td>\n",
       "      <td>0.010065</td>\n",
       "      <td>-0.000641</td>\n",
       "      <td>-0.003968</td>\n",
       "      <td>-0.027580</td>\n",
       "      <td>0.024965</td>\n",
       "      <td>0.035530</td>\n",
       "      <td>...</td>\n",
       "      <td>-0.061144</td>\n",
       "      <td>0.034614</td>\n",
       "      <td>0.049734</td>\n",
       "      <td>-0.048393</td>\n",
       "      <td>-0.017965</td>\n",
       "      <td>0.008177</td>\n",
       "      <td>0.026818</td>\n",
       "      <td>-0.006542</td>\n",
       "      <td>0.002816</td>\n",
       "      <td>0.024121</td>\n",
       "    </tr>\n",
       "    <tr>\n",
       "      <th>2021-10-28</th>\n",
       "      <td>-0.004979</td>\n",
       "      <td>-0.028752</td>\n",
       "      <td>-0.008430</td>\n",
       "      <td>0.057772</td>\n",
       "      <td>-0.020347</td>\n",
       "      <td>-0.014025</td>\n",
       "      <td>-0.015919</td>\n",
       "      <td>0.026015</td>\n",
       "      <td>0.019504</td>\n",
       "      <td>-0.012304</td>\n",
       "      <td>...</td>\n",
       "      <td>0.098347</td>\n",
       "      <td>-0.042090</td>\n",
       "      <td>-0.040380</td>\n",
       "      <td>-0.003325</td>\n",
       "      <td>0.041784</td>\n",
       "      <td>-0.019126</td>\n",
       "      <td>-0.010262</td>\n",
       "      <td>0.019932</td>\n",
       "      <td>-0.026736</td>\n",
       "      <td>-0.004145</td>\n",
       "    </tr>\n",
       "    <tr>\n",
       "      <th>2021-10-29</th>\n",
       "      <td>-0.011844</td>\n",
       "      <td>0.012467</td>\n",
       "      <td>0.002775</td>\n",
       "      <td>-0.021787</td>\n",
       "      <td>0.016766</td>\n",
       "      <td>-0.058238</td>\n",
       "      <td>0.003318</td>\n",
       "      <td>-0.046073</td>\n",
       "      <td>0.021208</td>\n",
       "      <td>0.007215</td>\n",
       "      <td>...</td>\n",
       "      <td>-0.014998</td>\n",
       "      <td>0.079604</td>\n",
       "      <td>-0.040204</td>\n",
       "      <td>0.038371</td>\n",
       "      <td>-0.031343</td>\n",
       "      <td>0.013387</td>\n",
       "      <td>0.004675</td>\n",
       "      <td>0.033949</td>\n",
       "      <td>0.031223</td>\n",
       "      <td>-0.026314</td>\n",
       "    </tr>\n",
       "    <tr>\n",
       "      <th>2021-10-30</th>\n",
       "      <td>0.021953</td>\n",
       "      <td>0.004158</td>\n",
       "      <td>-0.045183</td>\n",
       "      <td>-0.051262</td>\n",
       "      <td>0.008599</td>\n",
       "      <td>0.013389</td>\n",
       "      <td>0.020056</td>\n",
       "      <td>-0.004711</td>\n",
       "      <td>0.021107</td>\n",
       "      <td>-0.009033</td>\n",
       "      <td>...</td>\n",
       "      <td>0.001971</td>\n",
       "      <td>-0.014030</td>\n",
       "      <td>0.015930</td>\n",
       "      <td>-0.024428</td>\n",
       "      <td>0.053344</td>\n",
       "      <td>-0.034865</td>\n",
       "      <td>-0.007348</td>\n",
       "      <td>0.067150</td>\n",
       "      <td>-0.024997</td>\n",
       "      <td>0.040389</td>\n",
       "    </tr>\n",
       "  </tbody>\n",
       "</table>\n",
       "<p>365 rows × 100000 columns</p>\n",
       "</div>"
      ],
      "text/plain": [
       "               0         1         2         3         4         5      \\\n",
       "2020-10-31  0.015202 -0.003510 -0.001950  0.004968  0.003215 -0.046205   \n",
       "2020-11-01 -0.044067  0.037785  0.011776 -0.047578  0.015064  0.028240   \n",
       "2020-11-02  0.025563  0.011142 -0.022540  0.001555  0.011857 -0.038987   \n",
       "2020-11-03 -0.023018 -0.007916 -0.003426  0.072159  0.010060  0.007936   \n",
       "2020-11-04  0.013757 -0.003904 -0.005159 -0.006465  0.030675  0.034280   \n",
       "...              ...       ...       ...       ...       ...       ...   \n",
       "2021-10-26  0.012466  0.036468  0.076136  0.020916  0.023481 -0.028445   \n",
       "2021-10-27 -0.038460  0.115322  0.053571 -0.012855  0.010065 -0.000641   \n",
       "2021-10-28 -0.004979 -0.028752 -0.008430  0.057772 -0.020347 -0.014025   \n",
       "2021-10-29 -0.011844  0.012467  0.002775 -0.021787  0.016766 -0.058238   \n",
       "2021-10-30  0.021953  0.004158 -0.045183 -0.051262  0.008599  0.013389   \n",
       "\n",
       "               6         7         8         9      ...     99990     99991  \\\n",
       "2020-10-31  0.018642  0.036421 -0.097629 -0.008048  ... -0.040432  0.019476   \n",
       "2020-11-01 -0.062973 -0.054368 -0.022483 -0.006284  ...  0.067068  0.085839   \n",
       "2020-11-02 -0.044005 -0.098718  0.034100 -0.042169  ...  0.010163 -0.010813   \n",
       "2020-11-03  0.004051  0.010885 -0.031226 -0.037603  ...  0.004590  0.020509   \n",
       "2020-11-04 -0.016877  0.040926 -0.015789  0.017550  ... -0.059821  0.043916   \n",
       "...              ...       ...       ...       ...  ...       ...       ...   \n",
       "2021-10-26  0.059934 -0.057500 -0.024417  0.027706  ...  0.018691  0.054091   \n",
       "2021-10-27 -0.003968 -0.027580  0.024965  0.035530  ... -0.061144  0.034614   \n",
       "2021-10-28 -0.015919  0.026015  0.019504 -0.012304  ...  0.098347 -0.042090   \n",
       "2021-10-29  0.003318 -0.046073  0.021208  0.007215  ... -0.014998  0.079604   \n",
       "2021-10-30  0.020056 -0.004711  0.021107 -0.009033  ...  0.001971 -0.014030   \n",
       "\n",
       "               99992     99993     99994     99995     99996     99997  \\\n",
       "2020-10-31 -0.026047  0.023618  0.029941  0.031203 -0.026202  0.040231   \n",
       "2020-11-01  0.020366 -0.041587  0.010774 -0.005794 -0.024723  0.006877   \n",
       "2020-11-02  0.045747 -0.058214  0.047828  0.026835  0.013925  0.075218   \n",
       "2020-11-03  0.005819  0.026686  0.081662  0.014099  0.018160  0.045294   \n",
       "2020-11-04  0.036065  0.024736  0.082457 -0.002049  0.045089  0.004175   \n",
       "...              ...       ...       ...       ...       ...       ...   \n",
       "2021-10-26  0.060251  0.008482  0.006376 -0.075558  0.003572 -0.008324   \n",
       "2021-10-27  0.049734 -0.048393 -0.017965  0.008177  0.026818 -0.006542   \n",
       "2021-10-28 -0.040380 -0.003325  0.041784 -0.019126 -0.010262  0.019932   \n",
       "2021-10-29 -0.040204  0.038371 -0.031343  0.013387  0.004675  0.033949   \n",
       "2021-10-30  0.015930 -0.024428  0.053344 -0.034865 -0.007348  0.067150   \n",
       "\n",
       "               99998     99999  \n",
       "2020-10-31  0.023711 -0.060261  \n",
       "2020-11-01  0.036390  0.039373  \n",
       "2020-11-02  0.046598 -0.034837  \n",
       "2020-11-03  0.017130 -0.012916  \n",
       "2020-11-04  0.034712 -0.015185  \n",
       "...              ...       ...  \n",
       "2021-10-26 -0.001730 -0.073892  \n",
       "2021-10-27  0.002816  0.024121  \n",
       "2021-10-28 -0.026736 -0.004145  \n",
       "2021-10-29  0.031223 -0.026314  \n",
       "2021-10-30 -0.024997  0.040389  \n",
       "\n",
       "[365 rows x 100000 columns]"
      ]
     },
     "execution_count": 73,
     "metadata": {},
     "output_type": "execute_result"
    }
   ],
   "source": [
    "rM_simulados"
   ]
  },
  {
   "cell_type": "code",
   "execution_count": 74,
   "metadata": {},
   "outputs": [
    {
     "data": {
      "text/html": [
       "<div>\n",
       "<style scoped>\n",
       "    .dataframe tbody tr th:only-of-type {\n",
       "        vertical-align: middle;\n",
       "    }\n",
       "\n",
       "    .dataframe tbody tr th {\n",
       "        vertical-align: top;\n",
       "    }\n",
       "\n",
       "    .dataframe thead th {\n",
       "        text-align: right;\n",
       "    }\n",
       "</style>\n",
       "<table border=\"1\" class=\"dataframe\">\n",
       "  <thead>\n",
       "    <tr style=\"text-align: right;\">\n",
       "      <th></th>\n",
       "      <th>0</th>\n",
       "      <th>1</th>\n",
       "      <th>2</th>\n",
       "      <th>3</th>\n",
       "      <th>4</th>\n",
       "      <th>5</th>\n",
       "      <th>6</th>\n",
       "      <th>7</th>\n",
       "      <th>8</th>\n",
       "      <th>9</th>\n",
       "      <th>...</th>\n",
       "      <th>99990</th>\n",
       "      <th>99991</th>\n",
       "      <th>99992</th>\n",
       "      <th>99993</th>\n",
       "      <th>99994</th>\n",
       "      <th>99995</th>\n",
       "      <th>99996</th>\n",
       "      <th>99997</th>\n",
       "      <th>99998</th>\n",
       "      <th>99999</th>\n",
       "    </tr>\n",
       "  </thead>\n",
       "  <tbody>\n",
       "    <tr>\n",
       "      <th>2020-10-31</th>\n",
       "      <td>0.004670</td>\n",
       "      <td>0.060067</td>\n",
       "      <td>-0.067643</td>\n",
       "      <td>-0.044607</td>\n",
       "      <td>-0.006514</td>\n",
       "      <td>0.040692</td>\n",
       "      <td>-0.016081</td>\n",
       "      <td>0.010080</td>\n",
       "      <td>0.015702</td>\n",
       "      <td>0.044382</td>\n",
       "      <td>...</td>\n",
       "      <td>-0.048043</td>\n",
       "      <td>0.045528</td>\n",
       "      <td>-0.048653</td>\n",
       "      <td>-0.012112</td>\n",
       "      <td>0.082436</td>\n",
       "      <td>-0.014388</td>\n",
       "      <td>-0.029417</td>\n",
       "      <td>0.011684</td>\n",
       "      <td>0.041783</td>\n",
       "      <td>0.026046</td>\n",
       "    </tr>\n",
       "    <tr>\n",
       "      <th>2020-11-01</th>\n",
       "      <td>-0.003752</td>\n",
       "      <td>0.002341</td>\n",
       "      <td>0.007251</td>\n",
       "      <td>0.016062</td>\n",
       "      <td>-0.044308</td>\n",
       "      <td>0.084770</td>\n",
       "      <td>-0.042763</td>\n",
       "      <td>0.063227</td>\n",
       "      <td>0.068383</td>\n",
       "      <td>-0.007236</td>\n",
       "      <td>...</td>\n",
       "      <td>0.023799</td>\n",
       "      <td>-0.002217</td>\n",
       "      <td>-0.024615</td>\n",
       "      <td>-0.004034</td>\n",
       "      <td>-0.040523</td>\n",
       "      <td>0.021790</td>\n",
       "      <td>-0.080052</td>\n",
       "      <td>-0.015969</td>\n",
       "      <td>0.008291</td>\n",
       "      <td>0.061917</td>\n",
       "    </tr>\n",
       "    <tr>\n",
       "      <th>2020-11-02</th>\n",
       "      <td>0.039642</td>\n",
       "      <td>0.024937</td>\n",
       "      <td>0.027370</td>\n",
       "      <td>0.062545</td>\n",
       "      <td>0.010166</td>\n",
       "      <td>0.035445</td>\n",
       "      <td>0.001696</td>\n",
       "      <td>0.033270</td>\n",
       "      <td>0.042779</td>\n",
       "      <td>0.033720</td>\n",
       "      <td>...</td>\n",
       "      <td>0.056594</td>\n",
       "      <td>-0.014259</td>\n",
       "      <td>-0.058963</td>\n",
       "      <td>0.005006</td>\n",
       "      <td>0.017883</td>\n",
       "      <td>0.017235</td>\n",
       "      <td>0.020359</td>\n",
       "      <td>0.007369</td>\n",
       "      <td>-0.033528</td>\n",
       "      <td>0.019192</td>\n",
       "    </tr>\n",
       "    <tr>\n",
       "      <th>2020-11-03</th>\n",
       "      <td>-0.043840</td>\n",
       "      <td>-0.039588</td>\n",
       "      <td>-0.029075</td>\n",
       "      <td>0.006057</td>\n",
       "      <td>-0.024888</td>\n",
       "      <td>0.019292</td>\n",
       "      <td>0.062521</td>\n",
       "      <td>0.050952</td>\n",
       "      <td>-0.006725</td>\n",
       "      <td>0.064308</td>\n",
       "      <td>...</td>\n",
       "      <td>0.047198</td>\n",
       "      <td>0.074353</td>\n",
       "      <td>0.016821</td>\n",
       "      <td>0.001842</td>\n",
       "      <td>0.006246</td>\n",
       "      <td>-0.009005</td>\n",
       "      <td>0.047425</td>\n",
       "      <td>-0.007097</td>\n",
       "      <td>-0.022105</td>\n",
       "      <td>0.065798</td>\n",
       "    </tr>\n",
       "    <tr>\n",
       "      <th>2020-11-04</th>\n",
       "      <td>0.041873</td>\n",
       "      <td>0.019114</td>\n",
       "      <td>-0.029112</td>\n",
       "      <td>0.038931</td>\n",
       "      <td>0.024954</td>\n",
       "      <td>-0.009906</td>\n",
       "      <td>0.006202</td>\n",
       "      <td>0.035644</td>\n",
       "      <td>-0.032758</td>\n",
       "      <td>0.007653</td>\n",
       "      <td>...</td>\n",
       "      <td>0.023397</td>\n",
       "      <td>0.008398</td>\n",
       "      <td>-0.020852</td>\n",
       "      <td>-0.007111</td>\n",
       "      <td>-0.083847</td>\n",
       "      <td>-0.038433</td>\n",
       "      <td>0.047815</td>\n",
       "      <td>0.018875</td>\n",
       "      <td>0.008883</td>\n",
       "      <td>0.005412</td>\n",
       "    </tr>\n",
       "    <tr>\n",
       "      <th>...</th>\n",
       "      <td>...</td>\n",
       "      <td>...</td>\n",
       "      <td>...</td>\n",
       "      <td>...</td>\n",
       "      <td>...</td>\n",
       "      <td>...</td>\n",
       "      <td>...</td>\n",
       "      <td>...</td>\n",
       "      <td>...</td>\n",
       "      <td>...</td>\n",
       "      <td>...</td>\n",
       "      <td>...</td>\n",
       "      <td>...</td>\n",
       "      <td>...</td>\n",
       "      <td>...</td>\n",
       "      <td>...</td>\n",
       "      <td>...</td>\n",
       "      <td>...</td>\n",
       "      <td>...</td>\n",
       "      <td>...</td>\n",
       "      <td>...</td>\n",
       "    </tr>\n",
       "    <tr>\n",
       "      <th>2021-10-26</th>\n",
       "      <td>-0.056312</td>\n",
       "      <td>0.048768</td>\n",
       "      <td>0.002411</td>\n",
       "      <td>0.019929</td>\n",
       "      <td>0.002270</td>\n",
       "      <td>-0.063851</td>\n",
       "      <td>-0.024535</td>\n",
       "      <td>-0.028666</td>\n",
       "      <td>-0.023245</td>\n",
       "      <td>0.039771</td>\n",
       "      <td>...</td>\n",
       "      <td>-0.049832</td>\n",
       "      <td>0.000549</td>\n",
       "      <td>-0.072776</td>\n",
       "      <td>-0.052799</td>\n",
       "      <td>0.030788</td>\n",
       "      <td>0.004259</td>\n",
       "      <td>-0.014157</td>\n",
       "      <td>0.011531</td>\n",
       "      <td>-0.026270</td>\n",
       "      <td>-0.009180</td>\n",
       "    </tr>\n",
       "    <tr>\n",
       "      <th>2021-10-27</th>\n",
       "      <td>-0.053128</td>\n",
       "      <td>0.007845</td>\n",
       "      <td>-0.011350</td>\n",
       "      <td>0.069857</td>\n",
       "      <td>0.012030</td>\n",
       "      <td>-0.006319</td>\n",
       "      <td>-0.024817</td>\n",
       "      <td>0.017885</td>\n",
       "      <td>0.011368</td>\n",
       "      <td>-0.002804</td>\n",
       "      <td>...</td>\n",
       "      <td>0.063655</td>\n",
       "      <td>-0.004027</td>\n",
       "      <td>0.007594</td>\n",
       "      <td>-0.010785</td>\n",
       "      <td>-0.008887</td>\n",
       "      <td>0.019829</td>\n",
       "      <td>-0.042710</td>\n",
       "      <td>0.007872</td>\n",
       "      <td>-0.012351</td>\n",
       "      <td>0.045246</td>\n",
       "    </tr>\n",
       "    <tr>\n",
       "      <th>2021-10-28</th>\n",
       "      <td>-0.033968</td>\n",
       "      <td>0.041616</td>\n",
       "      <td>0.078541</td>\n",
       "      <td>0.008266</td>\n",
       "      <td>0.064684</td>\n",
       "      <td>0.084350</td>\n",
       "      <td>0.025051</td>\n",
       "      <td>0.023693</td>\n",
       "      <td>0.018791</td>\n",
       "      <td>-0.040509</td>\n",
       "      <td>...</td>\n",
       "      <td>-0.015626</td>\n",
       "      <td>-0.033866</td>\n",
       "      <td>-0.039523</td>\n",
       "      <td>-0.057965</td>\n",
       "      <td>-0.020610</td>\n",
       "      <td>-0.012029</td>\n",
       "      <td>0.008009</td>\n",
       "      <td>0.035979</td>\n",
       "      <td>0.026734</td>\n",
       "      <td>-0.016857</td>\n",
       "    </tr>\n",
       "    <tr>\n",
       "      <th>2021-10-29</th>\n",
       "      <td>-0.009515</td>\n",
       "      <td>-0.116346</td>\n",
       "      <td>0.059302</td>\n",
       "      <td>-0.009269</td>\n",
       "      <td>-0.035935</td>\n",
       "      <td>-0.075297</td>\n",
       "      <td>0.020011</td>\n",
       "      <td>0.040665</td>\n",
       "      <td>0.039270</td>\n",
       "      <td>-0.005133</td>\n",
       "      <td>...</td>\n",
       "      <td>0.060792</td>\n",
       "      <td>0.020268</td>\n",
       "      <td>-0.012259</td>\n",
       "      <td>-0.004495</td>\n",
       "      <td>-0.085279</td>\n",
       "      <td>-0.007156</td>\n",
       "      <td>0.024961</td>\n",
       "      <td>-0.008266</td>\n",
       "      <td>-0.030483</td>\n",
       "      <td>-0.000434</td>\n",
       "    </tr>\n",
       "    <tr>\n",
       "      <th>2021-10-30</th>\n",
       "      <td>-0.020545</td>\n",
       "      <td>0.062792</td>\n",
       "      <td>0.017418</td>\n",
       "      <td>-0.018764</td>\n",
       "      <td>0.004577</td>\n",
       "      <td>-0.038500</td>\n",
       "      <td>0.057717</td>\n",
       "      <td>0.036199</td>\n",
       "      <td>0.021802</td>\n",
       "      <td>-0.027211</td>\n",
       "      <td>...</td>\n",
       "      <td>0.037435</td>\n",
       "      <td>-0.032543</td>\n",
       "      <td>-0.025583</td>\n",
       "      <td>0.059260</td>\n",
       "      <td>-0.015998</td>\n",
       "      <td>0.041818</td>\n",
       "      <td>-0.048314</td>\n",
       "      <td>0.004405</td>\n",
       "      <td>0.075276</td>\n",
       "      <td>-0.039891</td>\n",
       "    </tr>\n",
       "  </tbody>\n",
       "</table>\n",
       "<p>365 rows × 100000 columns</p>\n",
       "</div>"
      ],
      "text/plain": [
       "               0         1         2         3         4         5      \\\n",
       "2020-10-31  0.004670  0.060067 -0.067643 -0.044607 -0.006514  0.040692   \n",
       "2020-11-01 -0.003752  0.002341  0.007251  0.016062 -0.044308  0.084770   \n",
       "2020-11-02  0.039642  0.024937  0.027370  0.062545  0.010166  0.035445   \n",
       "2020-11-03 -0.043840 -0.039588 -0.029075  0.006057 -0.024888  0.019292   \n",
       "2020-11-04  0.041873  0.019114 -0.029112  0.038931  0.024954 -0.009906   \n",
       "...              ...       ...       ...       ...       ...       ...   \n",
       "2021-10-26 -0.056312  0.048768  0.002411  0.019929  0.002270 -0.063851   \n",
       "2021-10-27 -0.053128  0.007845 -0.011350  0.069857  0.012030 -0.006319   \n",
       "2021-10-28 -0.033968  0.041616  0.078541  0.008266  0.064684  0.084350   \n",
       "2021-10-29 -0.009515 -0.116346  0.059302 -0.009269 -0.035935 -0.075297   \n",
       "2021-10-30 -0.020545  0.062792  0.017418 -0.018764  0.004577 -0.038500   \n",
       "\n",
       "               6         7         8         9      ...     99990     99991  \\\n",
       "2020-10-31 -0.016081  0.010080  0.015702  0.044382  ... -0.048043  0.045528   \n",
       "2020-11-01 -0.042763  0.063227  0.068383 -0.007236  ...  0.023799 -0.002217   \n",
       "2020-11-02  0.001696  0.033270  0.042779  0.033720  ...  0.056594 -0.014259   \n",
       "2020-11-03  0.062521  0.050952 -0.006725  0.064308  ...  0.047198  0.074353   \n",
       "2020-11-04  0.006202  0.035644 -0.032758  0.007653  ...  0.023397  0.008398   \n",
       "...              ...       ...       ...       ...  ...       ...       ...   \n",
       "2021-10-26 -0.024535 -0.028666 -0.023245  0.039771  ... -0.049832  0.000549   \n",
       "2021-10-27 -0.024817  0.017885  0.011368 -0.002804  ...  0.063655 -0.004027   \n",
       "2021-10-28  0.025051  0.023693  0.018791 -0.040509  ... -0.015626 -0.033866   \n",
       "2021-10-29  0.020011  0.040665  0.039270 -0.005133  ...  0.060792  0.020268   \n",
       "2021-10-30  0.057717  0.036199  0.021802 -0.027211  ...  0.037435 -0.032543   \n",
       "\n",
       "               99992     99993     99994     99995     99996     99997  \\\n",
       "2020-10-31 -0.048653 -0.012112  0.082436 -0.014388 -0.029417  0.011684   \n",
       "2020-11-01 -0.024615 -0.004034 -0.040523  0.021790 -0.080052 -0.015969   \n",
       "2020-11-02 -0.058963  0.005006  0.017883  0.017235  0.020359  0.007369   \n",
       "2020-11-03  0.016821  0.001842  0.006246 -0.009005  0.047425 -0.007097   \n",
       "2020-11-04 -0.020852 -0.007111 -0.083847 -0.038433  0.047815  0.018875   \n",
       "...              ...       ...       ...       ...       ...       ...   \n",
       "2021-10-26 -0.072776 -0.052799  0.030788  0.004259 -0.014157  0.011531   \n",
       "2021-10-27  0.007594 -0.010785 -0.008887  0.019829 -0.042710  0.007872   \n",
       "2021-10-28 -0.039523 -0.057965 -0.020610 -0.012029  0.008009  0.035979   \n",
       "2021-10-29 -0.012259 -0.004495 -0.085279 -0.007156  0.024961 -0.008266   \n",
       "2021-10-30 -0.025583  0.059260 -0.015998  0.041818 -0.048314  0.004405   \n",
       "\n",
       "               99998     99999  \n",
       "2020-10-31  0.041783  0.026046  \n",
       "2020-11-01  0.008291  0.061917  \n",
       "2020-11-02 -0.033528  0.019192  \n",
       "2020-11-03 -0.022105  0.065798  \n",
       "2020-11-04  0.008883  0.005412  \n",
       "...              ...       ...  \n",
       "2021-10-26 -0.026270 -0.009180  \n",
       "2021-10-27 -0.012351  0.045246  \n",
       "2021-10-28  0.026734 -0.016857  \n",
       "2021-10-29 -0.030483 -0.000434  \n",
       "2021-10-30  0.075276 -0.039891  \n",
       "\n",
       "[365 rows x 100000 columns]"
      ]
     },
     "execution_count": 74,
     "metadata": {},
     "output_type": "execute_result"
    }
   ],
   "source": [
    "rS_simulados = sim_r (RS_mean, RS_std, \"2020-10-31\", 365, 100000)\n",
    "rS_simulados"
   ]
  },
  {
   "cell_type": "markdown",
   "metadata": {},
   "source": [
    "5. Calcule la media y desviación estandar de los rendimientos y simule 100000 escenarios de rendimientos desde el 31 de marzo de 2023 al 31 de julio de 2023."
   ]
  },
  {
   "cell_type": "code",
   "execution_count": 78,
   "metadata": {},
   "outputs": [],
   "source": [
    "rM_simulados = sim_r (RM_mean, RM_std, \"2023-03-31\", 120, 100000)"
   ]
  },
  {
   "cell_type": "code",
   "execution_count": 79,
   "metadata": {},
   "outputs": [
    {
     "data": {
      "text/html": [
       "<div>\n",
       "<style scoped>\n",
       "    .dataframe tbody tr th:only-of-type {\n",
       "        vertical-align: middle;\n",
       "    }\n",
       "\n",
       "    .dataframe tbody tr th {\n",
       "        vertical-align: top;\n",
       "    }\n",
       "\n",
       "    .dataframe thead th {\n",
       "        text-align: right;\n",
       "    }\n",
       "</style>\n",
       "<table border=\"1\" class=\"dataframe\">\n",
       "  <thead>\n",
       "    <tr style=\"text-align: right;\">\n",
       "      <th></th>\n",
       "      <th>0</th>\n",
       "      <th>1</th>\n",
       "      <th>2</th>\n",
       "      <th>3</th>\n",
       "      <th>4</th>\n",
       "      <th>5</th>\n",
       "      <th>6</th>\n",
       "      <th>7</th>\n",
       "      <th>8</th>\n",
       "      <th>9</th>\n",
       "      <th>...</th>\n",
       "      <th>99990</th>\n",
       "      <th>99991</th>\n",
       "      <th>99992</th>\n",
       "      <th>99993</th>\n",
       "      <th>99994</th>\n",
       "      <th>99995</th>\n",
       "      <th>99996</th>\n",
       "      <th>99997</th>\n",
       "      <th>99998</th>\n",
       "      <th>99999</th>\n",
       "    </tr>\n",
       "  </thead>\n",
       "  <tbody>\n",
       "    <tr>\n",
       "      <th>2023-03-31</th>\n",
       "      <td>0.006163</td>\n",
       "      <td>-0.062095</td>\n",
       "      <td>-0.012130</td>\n",
       "      <td>0.018080</td>\n",
       "      <td>0.006528</td>\n",
       "      <td>-0.000576</td>\n",
       "      <td>0.020042</td>\n",
       "      <td>-0.044221</td>\n",
       "      <td>-0.020525</td>\n",
       "      <td>0.014302</td>\n",
       "      <td>...</td>\n",
       "      <td>-0.032522</td>\n",
       "      <td>-0.010083</td>\n",
       "      <td>-0.028938</td>\n",
       "      <td>0.046714</td>\n",
       "      <td>0.029107</td>\n",
       "      <td>0.002822</td>\n",
       "      <td>0.010862</td>\n",
       "      <td>0.030640</td>\n",
       "      <td>-0.041194</td>\n",
       "      <td>-0.019089</td>\n",
       "    </tr>\n",
       "    <tr>\n",
       "      <th>2023-04-01</th>\n",
       "      <td>0.030188</td>\n",
       "      <td>0.029054</td>\n",
       "      <td>0.042701</td>\n",
       "      <td>-0.028088</td>\n",
       "      <td>0.051706</td>\n",
       "      <td>0.046314</td>\n",
       "      <td>0.018978</td>\n",
       "      <td>-0.002456</td>\n",
       "      <td>0.017729</td>\n",
       "      <td>0.054118</td>\n",
       "      <td>...</td>\n",
       "      <td>0.018635</td>\n",
       "      <td>-0.024969</td>\n",
       "      <td>-0.009982</td>\n",
       "      <td>0.045829</td>\n",
       "      <td>-0.082603</td>\n",
       "      <td>-0.043811</td>\n",
       "      <td>-0.028901</td>\n",
       "      <td>0.015902</td>\n",
       "      <td>0.049804</td>\n",
       "      <td>0.027336</td>\n",
       "    </tr>\n",
       "    <tr>\n",
       "      <th>2023-04-02</th>\n",
       "      <td>-0.010056</td>\n",
       "      <td>0.111060</td>\n",
       "      <td>0.008141</td>\n",
       "      <td>-0.022584</td>\n",
       "      <td>-0.017267</td>\n",
       "      <td>-0.055345</td>\n",
       "      <td>-0.040642</td>\n",
       "      <td>0.003851</td>\n",
       "      <td>0.035416</td>\n",
       "      <td>0.007830</td>\n",
       "      <td>...</td>\n",
       "      <td>0.002521</td>\n",
       "      <td>0.052050</td>\n",
       "      <td>0.007509</td>\n",
       "      <td>-0.061013</td>\n",
       "      <td>-0.003696</td>\n",
       "      <td>0.002123</td>\n",
       "      <td>-0.002651</td>\n",
       "      <td>-0.027001</td>\n",
       "      <td>-0.037429</td>\n",
       "      <td>-0.039023</td>\n",
       "    </tr>\n",
       "    <tr>\n",
       "      <th>2023-04-03</th>\n",
       "      <td>0.039031</td>\n",
       "      <td>-0.025726</td>\n",
       "      <td>0.009414</td>\n",
       "      <td>0.023692</td>\n",
       "      <td>-0.014176</td>\n",
       "      <td>0.038472</td>\n",
       "      <td>-0.022438</td>\n",
       "      <td>0.025154</td>\n",
       "      <td>0.000325</td>\n",
       "      <td>0.014522</td>\n",
       "      <td>...</td>\n",
       "      <td>0.004986</td>\n",
       "      <td>-0.016724</td>\n",
       "      <td>-0.006855</td>\n",
       "      <td>-0.069362</td>\n",
       "      <td>0.067703</td>\n",
       "      <td>0.002200</td>\n",
       "      <td>0.019172</td>\n",
       "      <td>0.020288</td>\n",
       "      <td>-0.059361</td>\n",
       "      <td>0.001253</td>\n",
       "    </tr>\n",
       "    <tr>\n",
       "      <th>2023-04-04</th>\n",
       "      <td>0.037481</td>\n",
       "      <td>0.001124</td>\n",
       "      <td>-0.017348</td>\n",
       "      <td>-0.066940</td>\n",
       "      <td>0.031748</td>\n",
       "      <td>0.025136</td>\n",
       "      <td>0.018957</td>\n",
       "      <td>-0.077049</td>\n",
       "      <td>0.068742</td>\n",
       "      <td>0.048934</td>\n",
       "      <td>...</td>\n",
       "      <td>0.035773</td>\n",
       "      <td>-0.031541</td>\n",
       "      <td>-0.047527</td>\n",
       "      <td>0.023847</td>\n",
       "      <td>0.037952</td>\n",
       "      <td>0.019164</td>\n",
       "      <td>0.012082</td>\n",
       "      <td>0.040479</td>\n",
       "      <td>0.006609</td>\n",
       "      <td>-0.010632</td>\n",
       "    </tr>\n",
       "    <tr>\n",
       "      <th>...</th>\n",
       "      <td>...</td>\n",
       "      <td>...</td>\n",
       "      <td>...</td>\n",
       "      <td>...</td>\n",
       "      <td>...</td>\n",
       "      <td>...</td>\n",
       "      <td>...</td>\n",
       "      <td>...</td>\n",
       "      <td>...</td>\n",
       "      <td>...</td>\n",
       "      <td>...</td>\n",
       "      <td>...</td>\n",
       "      <td>...</td>\n",
       "      <td>...</td>\n",
       "      <td>...</td>\n",
       "      <td>...</td>\n",
       "      <td>...</td>\n",
       "      <td>...</td>\n",
       "      <td>...</td>\n",
       "      <td>...</td>\n",
       "      <td>...</td>\n",
       "    </tr>\n",
       "    <tr>\n",
       "      <th>2023-07-24</th>\n",
       "      <td>0.045709</td>\n",
       "      <td>-0.035397</td>\n",
       "      <td>-0.032472</td>\n",
       "      <td>0.028027</td>\n",
       "      <td>0.011437</td>\n",
       "      <td>0.020218</td>\n",
       "      <td>-0.000128</td>\n",
       "      <td>-0.025679</td>\n",
       "      <td>0.085052</td>\n",
       "      <td>0.016033</td>\n",
       "      <td>...</td>\n",
       "      <td>0.065762</td>\n",
       "      <td>-0.054964</td>\n",
       "      <td>-0.002993</td>\n",
       "      <td>-0.072835</td>\n",
       "      <td>0.005197</td>\n",
       "      <td>0.070013</td>\n",
       "      <td>-0.026141</td>\n",
       "      <td>-0.045836</td>\n",
       "      <td>0.025363</td>\n",
       "      <td>0.011894</td>\n",
       "    </tr>\n",
       "    <tr>\n",
       "      <th>2023-07-25</th>\n",
       "      <td>0.059146</td>\n",
       "      <td>0.030452</td>\n",
       "      <td>0.021039</td>\n",
       "      <td>-0.022564</td>\n",
       "      <td>0.052776</td>\n",
       "      <td>-0.067466</td>\n",
       "      <td>0.010627</td>\n",
       "      <td>0.023357</td>\n",
       "      <td>-0.004300</td>\n",
       "      <td>0.044423</td>\n",
       "      <td>...</td>\n",
       "      <td>-0.025447</td>\n",
       "      <td>0.112036</td>\n",
       "      <td>-0.061860</td>\n",
       "      <td>0.019170</td>\n",
       "      <td>0.063478</td>\n",
       "      <td>-0.048530</td>\n",
       "      <td>0.008312</td>\n",
       "      <td>-0.011348</td>\n",
       "      <td>-0.018551</td>\n",
       "      <td>-0.000208</td>\n",
       "    </tr>\n",
       "    <tr>\n",
       "      <th>2023-07-26</th>\n",
       "      <td>-0.031804</td>\n",
       "      <td>0.030478</td>\n",
       "      <td>0.040326</td>\n",
       "      <td>-0.060552</td>\n",
       "      <td>0.025299</td>\n",
       "      <td>0.011540</td>\n",
       "      <td>0.017200</td>\n",
       "      <td>0.033943</td>\n",
       "      <td>-0.039448</td>\n",
       "      <td>-0.053178</td>\n",
       "      <td>...</td>\n",
       "      <td>0.002508</td>\n",
       "      <td>0.027548</td>\n",
       "      <td>0.030678</td>\n",
       "      <td>-0.003947</td>\n",
       "      <td>-0.029105</td>\n",
       "      <td>-0.033101</td>\n",
       "      <td>-0.064408</td>\n",
       "      <td>0.041555</td>\n",
       "      <td>0.042266</td>\n",
       "      <td>0.014061</td>\n",
       "    </tr>\n",
       "    <tr>\n",
       "      <th>2023-07-27</th>\n",
       "      <td>-0.026824</td>\n",
       "      <td>-0.044308</td>\n",
       "      <td>-0.053370</td>\n",
       "      <td>0.001005</td>\n",
       "      <td>-0.030973</td>\n",
       "      <td>-0.052763</td>\n",
       "      <td>0.014329</td>\n",
       "      <td>-0.020690</td>\n",
       "      <td>-0.011599</td>\n",
       "      <td>-0.014083</td>\n",
       "      <td>...</td>\n",
       "      <td>0.048141</td>\n",
       "      <td>-0.026613</td>\n",
       "      <td>-0.020572</td>\n",
       "      <td>-0.018368</td>\n",
       "      <td>0.039947</td>\n",
       "      <td>0.055235</td>\n",
       "      <td>-0.034039</td>\n",
       "      <td>-0.051503</td>\n",
       "      <td>-0.073335</td>\n",
       "      <td>-0.044776</td>\n",
       "    </tr>\n",
       "    <tr>\n",
       "      <th>2023-07-28</th>\n",
       "      <td>0.001018</td>\n",
       "      <td>-0.030921</td>\n",
       "      <td>0.011018</td>\n",
       "      <td>0.047555</td>\n",
       "      <td>0.023634</td>\n",
       "      <td>-0.003412</td>\n",
       "      <td>0.010900</td>\n",
       "      <td>0.011353</td>\n",
       "      <td>0.016466</td>\n",
       "      <td>0.028581</td>\n",
       "      <td>...</td>\n",
       "      <td>-0.008013</td>\n",
       "      <td>-0.021993</td>\n",
       "      <td>-0.082753</td>\n",
       "      <td>0.024534</td>\n",
       "      <td>0.024663</td>\n",
       "      <td>-0.009318</td>\n",
       "      <td>-0.004267</td>\n",
       "      <td>0.007180</td>\n",
       "      <td>0.006985</td>\n",
       "      <td>0.052294</td>\n",
       "    </tr>\n",
       "  </tbody>\n",
       "</table>\n",
       "<p>120 rows × 100000 columns</p>\n",
       "</div>"
      ],
      "text/plain": [
       "               0         1         2         3         4         5      \\\n",
       "2023-03-31  0.006163 -0.062095 -0.012130  0.018080  0.006528 -0.000576   \n",
       "2023-04-01  0.030188  0.029054  0.042701 -0.028088  0.051706  0.046314   \n",
       "2023-04-02 -0.010056  0.111060  0.008141 -0.022584 -0.017267 -0.055345   \n",
       "2023-04-03  0.039031 -0.025726  0.009414  0.023692 -0.014176  0.038472   \n",
       "2023-04-04  0.037481  0.001124 -0.017348 -0.066940  0.031748  0.025136   \n",
       "...              ...       ...       ...       ...       ...       ...   \n",
       "2023-07-24  0.045709 -0.035397 -0.032472  0.028027  0.011437  0.020218   \n",
       "2023-07-25  0.059146  0.030452  0.021039 -0.022564  0.052776 -0.067466   \n",
       "2023-07-26 -0.031804  0.030478  0.040326 -0.060552  0.025299  0.011540   \n",
       "2023-07-27 -0.026824 -0.044308 -0.053370  0.001005 -0.030973 -0.052763   \n",
       "2023-07-28  0.001018 -0.030921  0.011018  0.047555  0.023634 -0.003412   \n",
       "\n",
       "               6         7         8         9      ...     99990     99991  \\\n",
       "2023-03-31  0.020042 -0.044221 -0.020525  0.014302  ... -0.032522 -0.010083   \n",
       "2023-04-01  0.018978 -0.002456  0.017729  0.054118  ...  0.018635 -0.024969   \n",
       "2023-04-02 -0.040642  0.003851  0.035416  0.007830  ...  0.002521  0.052050   \n",
       "2023-04-03 -0.022438  0.025154  0.000325  0.014522  ...  0.004986 -0.016724   \n",
       "2023-04-04  0.018957 -0.077049  0.068742  0.048934  ...  0.035773 -0.031541   \n",
       "...              ...       ...       ...       ...  ...       ...       ...   \n",
       "2023-07-24 -0.000128 -0.025679  0.085052  0.016033  ...  0.065762 -0.054964   \n",
       "2023-07-25  0.010627  0.023357 -0.004300  0.044423  ... -0.025447  0.112036   \n",
       "2023-07-26  0.017200  0.033943 -0.039448 -0.053178  ...  0.002508  0.027548   \n",
       "2023-07-27  0.014329 -0.020690 -0.011599 -0.014083  ...  0.048141 -0.026613   \n",
       "2023-07-28  0.010900  0.011353  0.016466  0.028581  ... -0.008013 -0.021993   \n",
       "\n",
       "               99992     99993     99994     99995     99996     99997  \\\n",
       "2023-03-31 -0.028938  0.046714  0.029107  0.002822  0.010862  0.030640   \n",
       "2023-04-01 -0.009982  0.045829 -0.082603 -0.043811 -0.028901  0.015902   \n",
       "2023-04-02  0.007509 -0.061013 -0.003696  0.002123 -0.002651 -0.027001   \n",
       "2023-04-03 -0.006855 -0.069362  0.067703  0.002200  0.019172  0.020288   \n",
       "2023-04-04 -0.047527  0.023847  0.037952  0.019164  0.012082  0.040479   \n",
       "...              ...       ...       ...       ...       ...       ...   \n",
       "2023-07-24 -0.002993 -0.072835  0.005197  0.070013 -0.026141 -0.045836   \n",
       "2023-07-25 -0.061860  0.019170  0.063478 -0.048530  0.008312 -0.011348   \n",
       "2023-07-26  0.030678 -0.003947 -0.029105 -0.033101 -0.064408  0.041555   \n",
       "2023-07-27 -0.020572 -0.018368  0.039947  0.055235 -0.034039 -0.051503   \n",
       "2023-07-28 -0.082753  0.024534  0.024663 -0.009318 -0.004267  0.007180   \n",
       "\n",
       "               99998     99999  \n",
       "2023-03-31 -0.041194 -0.019089  \n",
       "2023-04-01  0.049804  0.027336  \n",
       "2023-04-02 -0.037429 -0.039023  \n",
       "2023-04-03 -0.059361  0.001253  \n",
       "2023-04-04  0.006609 -0.010632  \n",
       "...              ...       ...  \n",
       "2023-07-24  0.025363  0.011894  \n",
       "2023-07-25 -0.018551 -0.000208  \n",
       "2023-07-26  0.042266  0.014061  \n",
       "2023-07-27 -0.073335 -0.044776  \n",
       "2023-07-28  0.006985  0.052294  \n",
       "\n",
       "[120 rows x 100000 columns]"
      ]
     },
     "execution_count": 79,
     "metadata": {},
     "output_type": "execute_result"
    }
   ],
   "source": [
    "rM_simulados"
   ]
  },
  {
   "cell_type": "code",
   "execution_count": 80,
   "metadata": {},
   "outputs": [
    {
     "data": {
      "text/html": [
       "<div>\n",
       "<style scoped>\n",
       "    .dataframe tbody tr th:only-of-type {\n",
       "        vertical-align: middle;\n",
       "    }\n",
       "\n",
       "    .dataframe tbody tr th {\n",
       "        vertical-align: top;\n",
       "    }\n",
       "\n",
       "    .dataframe thead th {\n",
       "        text-align: right;\n",
       "    }\n",
       "</style>\n",
       "<table border=\"1\" class=\"dataframe\">\n",
       "  <thead>\n",
       "    <tr style=\"text-align: right;\">\n",
       "      <th></th>\n",
       "      <th>0</th>\n",
       "      <th>1</th>\n",
       "      <th>2</th>\n",
       "      <th>3</th>\n",
       "      <th>4</th>\n",
       "      <th>5</th>\n",
       "      <th>6</th>\n",
       "      <th>7</th>\n",
       "      <th>8</th>\n",
       "      <th>9</th>\n",
       "      <th>...</th>\n",
       "      <th>99990</th>\n",
       "      <th>99991</th>\n",
       "      <th>99992</th>\n",
       "      <th>99993</th>\n",
       "      <th>99994</th>\n",
       "      <th>99995</th>\n",
       "      <th>99996</th>\n",
       "      <th>99997</th>\n",
       "      <th>99998</th>\n",
       "      <th>99999</th>\n",
       "    </tr>\n",
       "  </thead>\n",
       "  <tbody>\n",
       "    <tr>\n",
       "      <th>2023-03-31</th>\n",
       "      <td>0.050618</td>\n",
       "      <td>-0.027277</td>\n",
       "      <td>0.034403</td>\n",
       "      <td>-0.018813</td>\n",
       "      <td>-0.031098</td>\n",
       "      <td>-0.064520</td>\n",
       "      <td>0.069546</td>\n",
       "      <td>-0.003384</td>\n",
       "      <td>-0.034862</td>\n",
       "      <td>-0.072453</td>\n",
       "      <td>...</td>\n",
       "      <td>0.013112</td>\n",
       "      <td>-0.042089</td>\n",
       "      <td>-0.014661</td>\n",
       "      <td>-0.046738</td>\n",
       "      <td>0.000090</td>\n",
       "      <td>-0.070594</td>\n",
       "      <td>0.026985</td>\n",
       "      <td>-0.042170</td>\n",
       "      <td>-0.032751</td>\n",
       "      <td>-0.002032</td>\n",
       "    </tr>\n",
       "    <tr>\n",
       "      <th>2023-04-01</th>\n",
       "      <td>-0.011367</td>\n",
       "      <td>-0.044119</td>\n",
       "      <td>0.035418</td>\n",
       "      <td>-0.001048</td>\n",
       "      <td>-0.019832</td>\n",
       "      <td>-0.027715</td>\n",
       "      <td>0.054231</td>\n",
       "      <td>-0.027185</td>\n",
       "      <td>0.046394</td>\n",
       "      <td>0.021639</td>\n",
       "      <td>...</td>\n",
       "      <td>-0.047985</td>\n",
       "      <td>0.045424</td>\n",
       "      <td>0.017010</td>\n",
       "      <td>-0.051967</td>\n",
       "      <td>0.001850</td>\n",
       "      <td>-0.027151</td>\n",
       "      <td>0.017044</td>\n",
       "      <td>0.039488</td>\n",
       "      <td>0.010271</td>\n",
       "      <td>0.017632</td>\n",
       "    </tr>\n",
       "    <tr>\n",
       "      <th>2023-04-02</th>\n",
       "      <td>0.060104</td>\n",
       "      <td>-0.068922</td>\n",
       "      <td>-0.025801</td>\n",
       "      <td>0.084836</td>\n",
       "      <td>-0.003075</td>\n",
       "      <td>0.020536</td>\n",
       "      <td>-0.015098</td>\n",
       "      <td>-0.018977</td>\n",
       "      <td>-0.060772</td>\n",
       "      <td>0.047075</td>\n",
       "      <td>...</td>\n",
       "      <td>0.082510</td>\n",
       "      <td>0.022964</td>\n",
       "      <td>-0.057789</td>\n",
       "      <td>0.009556</td>\n",
       "      <td>0.026067</td>\n",
       "      <td>0.005279</td>\n",
       "      <td>-0.044234</td>\n",
       "      <td>0.040336</td>\n",
       "      <td>-0.044533</td>\n",
       "      <td>0.050615</td>\n",
       "    </tr>\n",
       "    <tr>\n",
       "      <th>2023-04-03</th>\n",
       "      <td>-0.050828</td>\n",
       "      <td>0.074815</td>\n",
       "      <td>0.026517</td>\n",
       "      <td>0.040168</td>\n",
       "      <td>0.003666</td>\n",
       "      <td>-0.009994</td>\n",
       "      <td>0.033734</td>\n",
       "      <td>-0.009091</td>\n",
       "      <td>-0.002601</td>\n",
       "      <td>-0.080100</td>\n",
       "      <td>...</td>\n",
       "      <td>0.048552</td>\n",
       "      <td>0.002102</td>\n",
       "      <td>-0.040547</td>\n",
       "      <td>0.035818</td>\n",
       "      <td>0.070070</td>\n",
       "      <td>-0.008054</td>\n",
       "      <td>-0.002579</td>\n",
       "      <td>0.027484</td>\n",
       "      <td>0.019361</td>\n",
       "      <td>-0.008556</td>\n",
       "    </tr>\n",
       "    <tr>\n",
       "      <th>2023-04-04</th>\n",
       "      <td>-0.042906</td>\n",
       "      <td>-0.021486</td>\n",
       "      <td>-0.004640</td>\n",
       "      <td>0.013588</td>\n",
       "      <td>-0.001930</td>\n",
       "      <td>-0.033425</td>\n",
       "      <td>-0.004141</td>\n",
       "      <td>0.004688</td>\n",
       "      <td>-0.045314</td>\n",
       "      <td>-0.019036</td>\n",
       "      <td>...</td>\n",
       "      <td>0.013334</td>\n",
       "      <td>-0.022035</td>\n",
       "      <td>0.023699</td>\n",
       "      <td>-0.014164</td>\n",
       "      <td>0.030810</td>\n",
       "      <td>-0.001765</td>\n",
       "      <td>-0.023964</td>\n",
       "      <td>-0.024014</td>\n",
       "      <td>-0.037537</td>\n",
       "      <td>0.004600</td>\n",
       "    </tr>\n",
       "    <tr>\n",
       "      <th>...</th>\n",
       "      <td>...</td>\n",
       "      <td>...</td>\n",
       "      <td>...</td>\n",
       "      <td>...</td>\n",
       "      <td>...</td>\n",
       "      <td>...</td>\n",
       "      <td>...</td>\n",
       "      <td>...</td>\n",
       "      <td>...</td>\n",
       "      <td>...</td>\n",
       "      <td>...</td>\n",
       "      <td>...</td>\n",
       "      <td>...</td>\n",
       "      <td>...</td>\n",
       "      <td>...</td>\n",
       "      <td>...</td>\n",
       "      <td>...</td>\n",
       "      <td>...</td>\n",
       "      <td>...</td>\n",
       "      <td>...</td>\n",
       "      <td>...</td>\n",
       "    </tr>\n",
       "    <tr>\n",
       "      <th>2023-07-24</th>\n",
       "      <td>-0.003526</td>\n",
       "      <td>0.056039</td>\n",
       "      <td>-0.028917</td>\n",
       "      <td>0.018625</td>\n",
       "      <td>0.020784</td>\n",
       "      <td>-0.019649</td>\n",
       "      <td>0.035327</td>\n",
       "      <td>-0.000169</td>\n",
       "      <td>-0.012812</td>\n",
       "      <td>-0.042649</td>\n",
       "      <td>...</td>\n",
       "      <td>0.048960</td>\n",
       "      <td>0.023976</td>\n",
       "      <td>-0.029276</td>\n",
       "      <td>0.019560</td>\n",
       "      <td>-0.033957</td>\n",
       "      <td>-0.016733</td>\n",
       "      <td>0.024222</td>\n",
       "      <td>0.063095</td>\n",
       "      <td>-0.073218</td>\n",
       "      <td>-0.002938</td>\n",
       "    </tr>\n",
       "    <tr>\n",
       "      <th>2023-07-25</th>\n",
       "      <td>-0.003447</td>\n",
       "      <td>-0.052552</td>\n",
       "      <td>0.032554</td>\n",
       "      <td>0.022153</td>\n",
       "      <td>-0.049774</td>\n",
       "      <td>-0.016449</td>\n",
       "      <td>-0.062173</td>\n",
       "      <td>-0.033416</td>\n",
       "      <td>-0.032195</td>\n",
       "      <td>-0.003916</td>\n",
       "      <td>...</td>\n",
       "      <td>0.009912</td>\n",
       "      <td>-0.044237</td>\n",
       "      <td>-0.028940</td>\n",
       "      <td>0.065583</td>\n",
       "      <td>0.025341</td>\n",
       "      <td>0.021120</td>\n",
       "      <td>0.011022</td>\n",
       "      <td>-0.036664</td>\n",
       "      <td>-0.008033</td>\n",
       "      <td>0.070459</td>\n",
       "    </tr>\n",
       "    <tr>\n",
       "      <th>2023-07-26</th>\n",
       "      <td>-0.027236</td>\n",
       "      <td>0.028014</td>\n",
       "      <td>0.004491</td>\n",
       "      <td>0.017631</td>\n",
       "      <td>0.085258</td>\n",
       "      <td>0.002921</td>\n",
       "      <td>-0.036643</td>\n",
       "      <td>0.005324</td>\n",
       "      <td>0.001867</td>\n",
       "      <td>-0.021094</td>\n",
       "      <td>...</td>\n",
       "      <td>-0.024936</td>\n",
       "      <td>0.051365</td>\n",
       "      <td>0.005457</td>\n",
       "      <td>-0.011884</td>\n",
       "      <td>-0.028312</td>\n",
       "      <td>-0.065010</td>\n",
       "      <td>-0.016140</td>\n",
       "      <td>0.004235</td>\n",
       "      <td>-0.040712</td>\n",
       "      <td>-0.004970</td>\n",
       "    </tr>\n",
       "    <tr>\n",
       "      <th>2023-07-27</th>\n",
       "      <td>-0.047560</td>\n",
       "      <td>0.057176</td>\n",
       "      <td>-0.026390</td>\n",
       "      <td>0.058640</td>\n",
       "      <td>-0.006295</td>\n",
       "      <td>0.030593</td>\n",
       "      <td>0.016511</td>\n",
       "      <td>-0.041767</td>\n",
       "      <td>-0.054717</td>\n",
       "      <td>0.007315</td>\n",
       "      <td>...</td>\n",
       "      <td>0.066416</td>\n",
       "      <td>-0.032830</td>\n",
       "      <td>0.040655</td>\n",
       "      <td>0.029420</td>\n",
       "      <td>0.004492</td>\n",
       "      <td>-0.081046</td>\n",
       "      <td>0.071389</td>\n",
       "      <td>0.005838</td>\n",
       "      <td>0.007029</td>\n",
       "      <td>-0.035177</td>\n",
       "    </tr>\n",
       "    <tr>\n",
       "      <th>2023-07-28</th>\n",
       "      <td>0.015543</td>\n",
       "      <td>0.009631</td>\n",
       "      <td>-0.034173</td>\n",
       "      <td>-0.023928</td>\n",
       "      <td>-0.042203</td>\n",
       "      <td>-0.045250</td>\n",
       "      <td>0.073993</td>\n",
       "      <td>-0.063083</td>\n",
       "      <td>-0.012096</td>\n",
       "      <td>-0.009069</td>\n",
       "      <td>...</td>\n",
       "      <td>0.098529</td>\n",
       "      <td>0.032685</td>\n",
       "      <td>-0.053524</td>\n",
       "      <td>-0.006638</td>\n",
       "      <td>-0.052475</td>\n",
       "      <td>0.046586</td>\n",
       "      <td>-0.051894</td>\n",
       "      <td>-0.009816</td>\n",
       "      <td>0.007956</td>\n",
       "      <td>-0.040148</td>\n",
       "    </tr>\n",
       "  </tbody>\n",
       "</table>\n",
       "<p>120 rows × 100000 columns</p>\n",
       "</div>"
      ],
      "text/plain": [
       "               0         1         2         3         4         5      \\\n",
       "2023-03-31  0.050618 -0.027277  0.034403 -0.018813 -0.031098 -0.064520   \n",
       "2023-04-01 -0.011367 -0.044119  0.035418 -0.001048 -0.019832 -0.027715   \n",
       "2023-04-02  0.060104 -0.068922 -0.025801  0.084836 -0.003075  0.020536   \n",
       "2023-04-03 -0.050828  0.074815  0.026517  0.040168  0.003666 -0.009994   \n",
       "2023-04-04 -0.042906 -0.021486 -0.004640  0.013588 -0.001930 -0.033425   \n",
       "...              ...       ...       ...       ...       ...       ...   \n",
       "2023-07-24 -0.003526  0.056039 -0.028917  0.018625  0.020784 -0.019649   \n",
       "2023-07-25 -0.003447 -0.052552  0.032554  0.022153 -0.049774 -0.016449   \n",
       "2023-07-26 -0.027236  0.028014  0.004491  0.017631  0.085258  0.002921   \n",
       "2023-07-27 -0.047560  0.057176 -0.026390  0.058640 -0.006295  0.030593   \n",
       "2023-07-28  0.015543  0.009631 -0.034173 -0.023928 -0.042203 -0.045250   \n",
       "\n",
       "               6         7         8         9      ...     99990     99991  \\\n",
       "2023-03-31  0.069546 -0.003384 -0.034862 -0.072453  ...  0.013112 -0.042089   \n",
       "2023-04-01  0.054231 -0.027185  0.046394  0.021639  ... -0.047985  0.045424   \n",
       "2023-04-02 -0.015098 -0.018977 -0.060772  0.047075  ...  0.082510  0.022964   \n",
       "2023-04-03  0.033734 -0.009091 -0.002601 -0.080100  ...  0.048552  0.002102   \n",
       "2023-04-04 -0.004141  0.004688 -0.045314 -0.019036  ...  0.013334 -0.022035   \n",
       "...              ...       ...       ...       ...  ...       ...       ...   \n",
       "2023-07-24  0.035327 -0.000169 -0.012812 -0.042649  ...  0.048960  0.023976   \n",
       "2023-07-25 -0.062173 -0.033416 -0.032195 -0.003916  ...  0.009912 -0.044237   \n",
       "2023-07-26 -0.036643  0.005324  0.001867 -0.021094  ... -0.024936  0.051365   \n",
       "2023-07-27  0.016511 -0.041767 -0.054717  0.007315  ...  0.066416 -0.032830   \n",
       "2023-07-28  0.073993 -0.063083 -0.012096 -0.009069  ...  0.098529  0.032685   \n",
       "\n",
       "               99992     99993     99994     99995     99996     99997  \\\n",
       "2023-03-31 -0.014661 -0.046738  0.000090 -0.070594  0.026985 -0.042170   \n",
       "2023-04-01  0.017010 -0.051967  0.001850 -0.027151  0.017044  0.039488   \n",
       "2023-04-02 -0.057789  0.009556  0.026067  0.005279 -0.044234  0.040336   \n",
       "2023-04-03 -0.040547  0.035818  0.070070 -0.008054 -0.002579  0.027484   \n",
       "2023-04-04  0.023699 -0.014164  0.030810 -0.001765 -0.023964 -0.024014   \n",
       "...              ...       ...       ...       ...       ...       ...   \n",
       "2023-07-24 -0.029276  0.019560 -0.033957 -0.016733  0.024222  0.063095   \n",
       "2023-07-25 -0.028940  0.065583  0.025341  0.021120  0.011022 -0.036664   \n",
       "2023-07-26  0.005457 -0.011884 -0.028312 -0.065010 -0.016140  0.004235   \n",
       "2023-07-27  0.040655  0.029420  0.004492 -0.081046  0.071389  0.005838   \n",
       "2023-07-28 -0.053524 -0.006638 -0.052475  0.046586 -0.051894 -0.009816   \n",
       "\n",
       "               99998     99999  \n",
       "2023-03-31 -0.032751 -0.002032  \n",
       "2023-04-01  0.010271  0.017632  \n",
       "2023-04-02 -0.044533  0.050615  \n",
       "2023-04-03  0.019361 -0.008556  \n",
       "2023-04-04 -0.037537  0.004600  \n",
       "...              ...       ...  \n",
       "2023-07-24 -0.073218 -0.002938  \n",
       "2023-07-25 -0.008033  0.070459  \n",
       "2023-07-26 -0.040712 -0.004970  \n",
       "2023-07-27  0.007029 -0.035177  \n",
       "2023-07-28  0.007956 -0.040148  \n",
       "\n",
       "[120 rows x 100000 columns]"
      ]
     },
     "execution_count": 80,
     "metadata": {},
     "output_type": "execute_result"
    }
   ],
   "source": [
    "rS_simulados = sim_r (RS_mean, RM_std, \"2023-03-31\", 120, 100000)\n",
    "rS_simulados"
   ]
  },
  {
   "cell_type": "markdown",
   "metadata": {},
   "source": [
    "6. Use los datos de simulación para obtener los precios proyectados al cierre para ambas empresas en estos meses."
   ]
  },
  {
   "cell_type": "code",
   "execution_count": 81,
   "metadata": {},
   "outputs": [],
   "source": [
    "preciosS_simulados = (rS_simulados +1).cumprod()*data_spot[-1]\n",
    "preciosM_simulados = (rM_simulados +1).cumprod()*data_meli[-1]"
   ]
  },
  {
   "cell_type": "code",
   "execution_count": 82,
   "metadata": {},
   "outputs": [
    {
     "data": {
      "text/plain": [
       "<Axes: >"
      ]
     },
     "execution_count": 82,
     "metadata": {},
     "output_type": "execute_result"
    },
    {
     "data": {
      "image/png": "[encoded data removed]",
      "text/plain": [
       "<Figure size 640x480 with 1 Axes>"
      ]
     },
     "metadata": {},
     "output_type": "display_data"
    }
   ],
   "source": [
    "preciosS_simulados.mean(axis=1).plot()\n",
    "preciosM_simulados.mean(axis=1).plot()"
   ]
  },
  {
   "cell_type": "markdown",
   "metadata": {},
   "source": [
    "7. En un gráfico muestre la evolución de ambas probabilidades de obtener un retorno del 10%. ¿Cuál genera mayores expectativas?"
   ]
  },
  {
   "cell_type": "code",
   "execution_count": 85,
   "metadata": {},
   "outputs": [
    {
     "data": {
      "text/plain": [
       "2023-03-31    0.00606\n",
       "2023-04-01    0.03834\n",
       "2023-04-02    0.07165\n",
       "2023-04-03    0.09928\n",
       "2023-04-04    0.12127\n",
       "               ...   \n",
       "2023-07-24    0.21169\n",
       "2023-07-25    0.21158\n",
       "2023-07-26    0.21141\n",
       "2023-07-27    0.21123\n",
       "2023-07-28    0.21049\n",
       "Freq: D, Length: 120, dtype: float64"
      ]
     },
     "execution_count": 85,
     "metadata": {},
     "output_type": "execute_result"
    }
   ],
   "source": [
    "valorS_deseado = data_spot[-1]*1.10\n",
    "probabilidadS = (preciosS_simulados >= valorS_deseado).mean(axis=1)\n",
    "probabilidadS"
   ]
  },
  {
   "cell_type": "code",
   "execution_count": 86,
   "metadata": {},
   "outputs": [
    {
     "data": {
      "text/plain": [
       "2023-03-31    0.00715\n",
       "2023-04-01    0.04333\n",
       "2023-04-02    0.08193\n",
       "2023-04-03    0.11335\n",
       "2023-04-04    0.13919\n",
       "               ...   \n",
       "2023-07-24    0.34939\n",
       "2023-07-25    0.35015\n",
       "2023-07-26    0.35001\n",
       "2023-07-27    0.34948\n",
       "2023-07-28    0.35028\n",
       "Freq: D, Length: 120, dtype: float64"
      ]
     },
     "execution_count": 86,
     "metadata": {},
     "output_type": "execute_result"
    }
   ],
   "source": [
    "valorM_deseado = data_meli[-1]*1.10\n",
    "probabilidadM = (preciosM_simulados >= valorM_deseado).mean(axis=1)\n",
    "probabilidadM"
   ]
  },
  {
   "cell_type": "code",
   "execution_count": 87,
   "metadata": {},
   "outputs": [
    {
     "data": {
      "image/png": "[encoded data removed]",
      "text/plain": [
       "<Figure size 640x480 with 1 Axes>"
      ]
     },
     "metadata": {},
     "output_type": "display_data"
    }
   ],
   "source": [
    "plt.figure()\n",
    "probabilidadS.plot()\n",
    "probabilidadM.plot()\n",
    "plt.grid()"
   ]
  },
  {
   "cell_type": "markdown",
   "metadata": {},
   "source": [
    "#### Extra <font size='1'>(10 puntos)</font>"
   ]
  },
  {
   "cell_type": "markdown",
   "metadata": {},
   "source": [
    "Utiliza el rendimiento logarítimico y compara los resultados."
   ]
  },
  {
   "cell_type": "code",
   "execution_count": null,
   "metadata": {},
   "outputs": [],
   "source": []
  }
 ],
 "metadata": {
  "colab": {
   "name": "ExamenMontecarlo1.ipynb",
   "provenance": []
  },
  "kernelspec": {
   "display_name": "Python 3 (ipykernel)",
   "language": "python",
   "name": "python3"
  },
  "language_info": {
   "codemirror_mode": {
    "name": "ipython",
    "version": 3
   },
   "file_extension": ".py",
   "mimetype": "text/x-python",
   "name": "python",
   "nbconvert_exporter": "python",
   "pygments_lexer": "ipython3",
   "version": "3.9.13"
  }
 },
 "nbformat": 4,
 "nbformat_minor": 1
}
