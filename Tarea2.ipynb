{
 "cells": [
  {
   "cell_type": "markdown",
   "metadata": {},
   "source": [
    "# Tarea - Programación lineal"
   ]
  },
  {
   "cell_type": "markdown",
   "metadata": {},
   "source": [
    "### Diseño de la Dieta Óptima\n",
    "\n",
    "Se quiere producir comida para gatos de la manera más barata, no obstante se debe también asegurar que se cumplan los datos requeridos de analisis nutricional. Por lo que se quiere variar la cantidad de cada ingrediente para cumplir con los estandares nutricionales. Los requisitos que se tienen es que en $100$ gramos, se deben tener **por lo menos** $8$ gramos de proteína y $6$ gramos de grasa. Así mismo, no se debe tener más de $2$ gramos de fibra y $0.4$ gramos de sal.  \n",
    "\n",
    "Los datos nutricionales se pueden obtener de la siguiente tabla:\n",
    "\n",
    "Ingrediente|Proteína|Grasa|Fibra|Sal\n",
    ":----|----|----|----|----\n",
    "Pollo|  10.0%|08.0%|00.1%|00.2%\n",
    "Carne|  20.0%|10.0%|00.5%|00.5%\n",
    "Cordero|15.0%|11.0%|00.5%|00.7%\n",
    "Arroz|  00.0%|01.0%|10.0%|00.2%\n",
    "Trigo|  04.0%|01.0%|15.0%|00.8%\n",
    "Gel|    00.0%|00.0%|00.0%|00.0%\n",
    "\n",
    "Los costos de cada producto son:\n",
    "\n",
    "Ingrediente|Costo por gramo\n",
    ":----|----\n",
    "Pollo|$\\$$0.013\n",
    "Carne|$\\$$0.008\n",
    "Cordero|$\\$$0.010\n",
    "Arroz|$\\$$0.002\n",
    "Trigo|$\\$$0.005\n",
    "Gel|$\\$$0.001    \n",
    "\n",
    "Lo que se busca optimizar en este caso es la cantidad de productos que se debe utilizar en la comida de gato, minimizando el costo total. Para simplificar la notación use las siguientes variables: \n",
    "\n",
    "+ $x_1:$ Gramos de pollo  \n",
    "+ $x_2:$ Gramos de carne  \n",
    "+ $x_3:$ Gramos de cordero  \n",
    "+ $x_4:$ Gramos de arroz  \n",
    "+ $x_5:$ Gramos de trigo  \n",
    "+ $x_6:$ Gramos de gel\n",
    "\n",
    "La tarea consiste en plantear el problemade programación lineal que permita satisfacer las necesidades alimenticias del gato al tiempo que minimice el costo total y resolverlo con `linprog`."
   ]
  },
  {
   "cell_type": "markdown",
   "metadata": {},
   "source": [
    "RESTRICCIONES:\n",
    "- $x_{PP} + x_{PC} + X_{PCO} + X_{PA} + X_{PT} + X_{PG}\\geq 8$\n",
    "- $x_{GP} + x_{GC} + X_{GCO} + X_{GA} + X_{GT} + X_{GG}\\geq 6$\n",
    "- $x_{FP} + x_{FC} + X_{FCO} + X_{FA} + X_{FT} + X_{FG}\\leq 2$\n",
    "- $x_{SP} + x_{SC} + X_{SCO} + X_{SA} + X_{ST} + X_{SG}\\leq 0.4$\n",
    "\n",
    "\n",
    "$$\\min 0.013x_{P} + 0.08x_{C} + 0.010x_{CO} + 0.002x_{A} + 0.005x_{T} + 0.001x_{G}$$\n"
   ]
  },
  {
   "cell_type": "code",
   "execution_count": 10,
   "metadata": {},
   "outputs": [
    {
     "data": {
      "text/plain": [
       "           con: array([0.])\n",
       " crossover_nit: 0\n",
       "         eqlin:  marginals: array([0.001])\n",
       "  residual: array([0.])\n",
       "           fun: 0.5909090909090909\n",
       "       ineqlin:  marginals: array([-0.        , -0.08181818, -0.        , -0.        ])\n",
       "  residual: array([0.18181818, 0.        , 1.72727273, 0.01818182])\n",
       "         lower:  marginals: array([0.00545455, 0.07081818, 0.        , 0.00018182, 0.00318182,\n",
       "       0.        ])\n",
       "  residual: array([ 0.        ,  0.        , 54.54545455,  0.        ,  0.        ,\n",
       "       45.45454545])\n",
       "       message: 'Optimization terminated successfully. (HiGHS Status 7: Optimal)'\n",
       "           nit: 2\n",
       "         slack: array([0.18181818, 0.        , 1.72727273, 0.01818182])\n",
       "        status: 0\n",
       "       success: True\n",
       "         upper:  marginals: array([0., 0., 0., 0., 0., 0.])\n",
       "  residual: array([inf, inf, inf, inf, inf, inf])\n",
       "             x: array([ 0.        ,  0.        , 54.54545455,  0.        ,  0.        ,\n",
       "       45.45454545])"
      ]
     },
     "execution_count": 10,
     "metadata": {},
     "output_type": "execute_result"
    }
   ],
   "source": [
    "import numpy as np\n",
    "import scipy.optimize as opt\n",
    "\n",
    "c = np.array([0.013, \n",
    "              0.08, \n",
    "              0.010, \n",
    "              0.002, \n",
    "              0.005, \n",
    "              0.001])\n",
    "\n",
    "Aub = np.array([ [-0.10, -0.20, -0.15, 0, -0.04, 0],\n",
    "                 [-0.08, -0.10, -0.11, -0.01, -0.01, 0],\n",
    "                 [0.001, 0.005, 0.005, 0.10, 0.15, 0],\n",
    "                 [0.002, 0.005, 0.007, 0.002, 0.008, 0],\n",
    "               ])\n",
    "\n",
    "bub = np.array([-8,\n",
    "                -6,\n",
    "                 2,\n",
    "                 0.40])\n",
    "\n",
    "Aeq = np.array([[1,\n",
    "                1,\n",
    "                1,\n",
    "                1,\n",
    "                1,\n",
    "                1]])\n",
    "\n",
    "beq=np.array([\n",
    "            [100]\n",
    "])\n",
    "\n",
    "opt.linprog (c, Aub, bub, Aeq, beq)"
   ]
  },
  {
   "cell_type": "markdown",
   "metadata": {},
   "source": [
    "El costo total sería 0.00545 y los gramos serían de la siguientes: 0.        , 0.        , 54.545455 gramos, 0.        , 0.        ,45.45 gramos        "
   ]
  },
  {
   "cell_type": "code",
   "execution_count": null,
   "metadata": {},
   "outputs": [],
   "source": []
  },
  {
   "cell_type": "markdown",
   "metadata": {},
   "source": [
    "### Problema de distribución de energía eléctrica\n",
    "\n",
    "La Comisión Federal de Electricidad **(CFE)** dispone de cuatro plantas de generación para satisfacer la demanda diaria eléctrica en cuatro ciudades, Guadalajara, León y Morelia. Las plantas $1$, $2$ y $3$ pueden satisfacer $80$, $40$ y $60$ millones de KW al día respectivamente. Las necesidades de las ciudades de Guadalajara, León y Morelia son de $70$, $40$ y $70$ millones de Kw al día respectivamente. \n",
    "\n",
    "\n",
    "Los costos asociados al envío de suministro energético por cada millón de Kw entre cada planta y cada ciudad son los registrados en la siguiente tabla. \n",
    "\n",
    "-|Guadalajara|León|Morelia\n",
    ":----|----|----|----\n",
    "Planta 1|5|2|7\n",
    "Planta 2|3|6|6\n",
    "Planta 3|6|1|2\n",
    "\n",
    "Y por último, las restricciones del problema, van a estar dadas por las capacidades de oferta y demanda de cada planta (en millones de KW) y cada ciudad.\n",
    "\n",
    "Para simplificar la notación use las siguientes variables:\n",
    "\n",
    "+ $x_1$: Kw (en millones) distribuidos de la Planta 1 a Guadalajara\n",
    "+ $x_2$: Kw (en millones) distribuidos de la Planta 1 a León\n",
    "+ $x_3$: Kw (en millones) distribuidos de la Planta 1 a Morelia\n",
    "+ $x_4$: Kw (en millones) distribuidos de la Planta 2 a Guadalajara\n",
    "+ $x_5$: Kw (en millones) distribuidos de la Planta 2 a León\n",
    "+ $x_6$: Kw (en millones) distribuidos de la Planta 2 a Morelia\n",
    "+ $x_7$: Kw (en millones) distribuidos de la Planta 3 a Guadalajara\n",
    "+ $x_8$: Kw (en millones) distribuidos de la Planta 3 a León\n",
    "+ $x_9$: Kw (en millones) distribuidos de la Planta 3 a Morelia\n",
    "\n",
    "La tarea consiste en plantear el problema de programación lineal que permita satisfacer las necesidades de todas las ciudades al tiempo que minimice los costos asociados a la distribución y resolverlo con `linprog`."
   ]
  },
  {
   "cell_type": "markdown",
   "metadata": {},
   "source": [
    "Restricciones de producción:\n",
    "\n",
    "- $x_{1G} + x_{1L} + x_{1M} \\leq 80$\n",
    "- $x_{2G} + x_{2L} + x_{2M} \\leq 40$\n",
    "- $x_{3G} + x_{3L} + x_{3M} \\leq 60$\n",
    "\n",
    "Restricciones de consumo:\n",
    "\n",
    "- $x_{1G} + x_{2G} + X_{3G} = 70$\n",
    "- $x_{1L} + x_{2L} + X_{3L} = 40$\n",
    "- $x_{1M} + x_{2M} + X_{3M} = 70$\n",
    "\n",
    "La función mínima:\n",
    "\n",
    "$$\\min 5x_{1G} + 2x_{1L} + 7x_{1M} + 3x_{2G} + 6x_{2L} + 6x_{2M} + 6x_{3G} + 1x_{3L} + 2x_{3M}$$\n"
   ]
  },
  {
   "cell_type": "code",
   "execution_count": 1,
   "metadata": {},
   "outputs": [
    {
     "data": {
      "text/plain": [
       "           con: array([0., 0., 0.])\n",
       " crossover_nit: 0\n",
       "         eqlin:  marginals: array([5., 2., 7.])\n",
       "  residual: array([0., 0., 0.])\n",
       "           fun: 540.0\n",
       "       ineqlin:  marginals: array([-0., -2., -5.])\n",
       "  residual: array([0., 0., 0.])\n",
       "         lower:  marginals: array([0., 0., 0., 0., 6., 1., 6., 4., 0.])\n",
       "  residual: array([30., 40., 10., 40.,  0.,  0.,  0.,  0., 60.])\n",
       "       message: 'Optimization terminated successfully. (HiGHS Status 7: Optimal)'\n",
       "           nit: 6\n",
       "         slack: array([0., 0., 0.])\n",
       "        status: 0\n",
       "       success: True\n",
       "         upper:  marginals: array([0., 0., 0., 0., 0., 0., 0., 0., 0.])\n",
       "  residual: array([inf, inf, inf, inf, inf, inf, inf, inf, inf])\n",
       "             x: array([30., 40., 10., 40.,  0.,  0.,  0.,  0., 60.])"
      ]
     },
     "execution_count": 1,
     "metadata": {},
     "output_type": "execute_result"
    }
   ],
   "source": [
    "import numpy as np\n",
    "import scipy.optimize as opt\n",
    "\n",
    "c = np.array([5, \n",
    "              2, \n",
    "              7, \n",
    "              3, \n",
    "              6, \n",
    "              6,\n",
    "              6,\n",
    "              1,\n",
    "              2])\n",
    "\n",
    "Aub = np.array([\n",
    "    [1, 1, 1, 0, 0, 0, 0, 0, 0 ],\n",
    "    [0, 0, 0, 1, 1, 1, 0, 0, 0 ],\n",
    "    [0, 0, 0, 0, 0, 0, 1, 1, 1 ],\n",
    "               ])\n",
    "\n",
    "bub = np.array([\n",
    "                [80,\n",
    "                 40,\n",
    "                 60]\n",
    "               ])\n",
    "Aeq = np.array ([\n",
    "    [1, 0, 0, 1, 0, 0, 1, 0, 0 ],\n",
    "    [0, 1, 0, 0, 1, 0, 0, 1, 0],\n",
    "    [0, 0, 1, 0, 0, 1, 0, 0, 1]\n",
    "                ])\n",
    "\n",
    "beq = np.array ([\n",
    "                [70,\n",
    "                40,\n",
    "                70]\n",
    "                ])\n",
    "\n",
    "opt.linprog(c, Aub, bub, Aeq, beq)"
   ]
  },
  {
   "cell_type": "markdown",
   "metadata": {},
   "source": [
    "El gasto sería de 540 millones y la producción sería de la siguiente manera. De la planta 1 en Guadalajara, se van a producir 30 millones de KW, en León 40 millones y en Morelia 10 millones. De la planta 2 en Guadalajara, se van a producir 40 millones de KW, en León y en Morelia ninguna unidad. De la planta 3 en Guadalajara, no se van a producir ningun millón, en León tampoco y en Morelia 60 millones. "
   ]
  },
  {
   "cell_type": "code",
   "execution_count": null,
   "metadata": {},
   "outputs": [],
   "source": []
  }
 ],
 "metadata": {
  "kernelspec": {
   "display_name": "Python 3 (ipykernel)",
   "language": "python",
   "name": "python3"
  },
  "language_info": {
   "codemirror_mode": {
    "name": "ipython",
    "version": 3
   },
   "file_extension": ".py",
   "mimetype": "text/x-python",
   "name": "python",
   "nbconvert_exporter": "python",
   "pygments_lexer": "ipython3",
   "version": "3.9.13"
  }
 },
 "nbformat": 4,
 "nbformat_minor": 2
}
