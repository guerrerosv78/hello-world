{
 "cells": [
  {
   "cell_type": "markdown",
   "id": "c74fd9dc",
   "metadata": {},
   "source": [
    "## Repaso de estructuras básicas de programación"
   ]
  },
  {
   "cell_type": "markdown",
   "id": "b454d0d2",
   "metadata": {},
   "source": [
    "### Sintaxis y control de flujo"
   ]
  },
  {
   "cell_type": "code",
   "execution_count": 7,
   "id": "bed80660",
   "metadata": {},
   "outputs": [
    {
     "name": "stdout",
     "output_type": "stream",
     "text": [
      "2\n"
     ]
    }
   ],
   "source": [
    "print (a)"
   ]
  },
  {
   "cell_type": "code",
   "execution_count": null,
   "id": "d76ab141",
   "metadata": {},
   "outputs": [],
   "source": [
    "a = 2\n",
    "\n",
    "b= 3"
   ]
  },
  {
   "cell_type": "code",
   "execution_count": 5,
   "id": "b0b69b8e",
   "metadata": {},
   "outputs": [
    {
     "data": {
      "text/plain": [
       "2"
      ]
     },
     "execution_count": 5,
     "metadata": {},
     "output_type": "execute_result"
    }
   ],
   "source": [
    "a"
   ]
  },
  {
   "cell_type": "code",
   "execution_count": 6,
   "id": "14d5cdaa",
   "metadata": {},
   "outputs": [
    {
     "data": {
      "text/plain": [
       "3"
      ]
     },
     "execution_count": 6,
     "metadata": {},
     "output_type": "execute_result"
    }
   ],
   "source": [
    "b"
   ]
  },
  {
   "cell_type": "markdown",
   "id": "467b40da",
   "metadata": {},
   "source": [
    "### if - else"
   ]
  },
  {
   "cell_type": "code",
   "execution_count": 20,
   "id": "fae29450",
   "metadata": {},
   "outputs": [
    {
     "name": "stdout",
     "output_type": "stream",
     "text": [
      "Falso\n",
      "Hola\n"
     ]
    }
   ],
   "source": [
    "condicion = (a > b)\n",
    "\n",
    "a = 2\n",
    "b = 3\n",
    "#expresiones booleanas\n",
    "# | or\n",
    "# & and\n",
    "# == equal\n",
    "# != not equal\n",
    "if ((a > b) | (not (b == 3))) :\n",
    "    print(\"Verdadero\")\n",
    "else :\n",
    "    print(\"Falso\")\n",
    "    print(\"Hola\")"
   ]
  },
  {
   "cell_type": "markdown",
   "id": "70fd671d",
   "metadata": {},
   "source": [
    "### bucles - ciclos"
   ]
  },
  {
   "cell_type": "code",
   "execution_count": 23,
   "id": "0dc1926b",
   "metadata": {},
   "outputs": [
    {
     "name": "stdout",
     "output_type": "stream",
     "text": [
      "Estoy en la iteración 0\n",
      "Estoy en la iteración 1\n",
      "Estoy en la iteración 2\n",
      "Estoy en la iteración 3\n",
      "Estoy en la iteración 4\n",
      "Estoy en la iteración 5\n"
     ]
    }
   ],
   "source": [
    "contador = 0\n",
    "\n",
    "while (contador <= 5) :\n",
    "    print(\"Estoy en la iteración \" + str(contador))\n",
    "    contador += 1 # equivalente a contador = contador + 1"
   ]
  },
  {
   "cell_type": "code",
   "execution_count": 26,
   "id": "428f8551",
   "metadata": {},
   "outputs": [
    {
     "name": "stdout",
     "output_type": "stream",
     "text": [
      "2\n",
      "4\n",
      "6\n",
      "8\n",
      "10\n"
     ]
    }
   ],
   "source": [
    "lista = [1, 2, 3, 4, 5, 6, 7, 8, 9, 10]\n",
    "\n",
    "for elemento in lista :\n",
    "    if elemento%2 == 0 : #% te arroja el residuo\n",
    "        print(elemento)"
   ]
  },
  {
   "cell_type": "markdown",
   "id": "95e8a445",
   "metadata": {},
   "source": [
    "## Operadores"
   ]
  },
  {
   "cell_type": "markdown",
   "id": "7e9bb7d3",
   "metadata": {},
   "source": [
    "### Matemáticos"
   ]
  },
  {
   "cell_type": "code",
   "execution_count": 27,
   "id": "02d65beb",
   "metadata": {},
   "outputs": [
    {
     "data": {
      "text/plain": [
       "5"
      ]
     },
     "execution_count": 27,
     "metadata": {},
     "output_type": "execute_result"
    }
   ],
   "source": [
    "# Suma\n",
    "a + b"
   ]
  },
  {
   "cell_type": "code",
   "execution_count": 28,
   "id": "1a92332e",
   "metadata": {},
   "outputs": [
    {
     "data": {
      "text/plain": [
       "-1"
      ]
     },
     "execution_count": 28,
     "metadata": {},
     "output_type": "execute_result"
    }
   ],
   "source": [
    "# Resta\n",
    "a - b"
   ]
  },
  {
   "cell_type": "code",
   "execution_count": 29,
   "id": "da6edc98",
   "metadata": {},
   "outputs": [
    {
     "data": {
      "text/plain": [
       "6"
      ]
     },
     "execution_count": 29,
     "metadata": {},
     "output_type": "execute_result"
    }
   ],
   "source": [
    "# Multiplicación\n",
    "a * b"
   ]
  },
  {
   "cell_type": "code",
   "execution_count": 30,
   "id": "08f11420",
   "metadata": {},
   "outputs": [
    {
     "data": {
      "text/plain": [
       "0.6666666666666666"
      ]
     },
     "execution_count": 30,
     "metadata": {},
     "output_type": "execute_result"
    }
   ],
   "source": [
    "# División\n",
    "a / b"
   ]
  },
  {
   "cell_type": "code",
   "execution_count": 31,
   "id": "815a8b77",
   "metadata": {},
   "outputs": [
    {
     "data": {
      "text/plain": [
       "0"
      ]
     },
     "execution_count": 31,
     "metadata": {},
     "output_type": "execute_result"
    }
   ],
   "source": [
    "# División cortando la parte decimal\n",
    "a // b"
   ]
  },
  {
   "cell_type": "code",
   "execution_count": 32,
   "id": "aba76dbb",
   "metadata": {},
   "outputs": [
    {
     "data": {
      "text/plain": [
       "2"
      ]
     },
     "execution_count": 32,
     "metadata": {},
     "output_type": "execute_result"
    }
   ],
   "source": [
    "# Módulo\n",
    "a % b"
   ]
  },
  {
   "cell_type": "code",
   "execution_count": 33,
   "id": "9b7a4041",
   "metadata": {},
   "outputs": [
    {
     "data": {
      "text/plain": [
       "8"
      ]
     },
     "execution_count": 33,
     "metadata": {},
     "output_type": "execute_result"
    }
   ],
   "source": [
    "# Potencia\n",
    "a**b"
   ]
  },
  {
   "cell_type": "markdown",
   "id": "82d3edb4",
   "metadata": {},
   "source": [
    "## Lista"
   ]
  },
  {
   "cell_type": "code",
   "execution_count": null,
   "id": "94a1526d",
   "metadata": {},
   "outputs": [],
   "source": [
    "contador = 0\n",
    "a = [3,6,9]\n",
    "while (contador < 97):\n",
    "    a.append(a[-1] +3)\n",
    "    contador += 1"
   ]
  },
  {
   "cell_type": "code",
   "execution_count": 20,
   "id": "4513705a",
   "metadata": {},
   "outputs": [
    {
     "data": {
      "text/plain": [
       "[3,\n",
       " 6,\n",
       " 9,\n",
       " 12,\n",
       " 15,\n",
       " 18,\n",
       " 21,\n",
       " 24,\n",
       " 27,\n",
       " 30,\n",
       " 33,\n",
       " 36,\n",
       " 39,\n",
       " 42,\n",
       " 45,\n",
       " 48,\n",
       " 51,\n",
       " 54,\n",
       " 57,\n",
       " 60,\n",
       " 63,\n",
       " 66,\n",
       " 69,\n",
       " 72,\n",
       " 75,\n",
       " 78,\n",
       " 81,\n",
       " 84,\n",
       " 87,\n",
       " 90,\n",
       " 93,\n",
       " 96,\n",
       " 99,\n",
       " 102,\n",
       " 105,\n",
       " 108,\n",
       " 111,\n",
       " 114,\n",
       " 117,\n",
       " 120,\n",
       " 123,\n",
       " 126,\n",
       " 129,\n",
       " 132,\n",
       " 135,\n",
       " 138,\n",
       " 141,\n",
       " 144,\n",
       " 147,\n",
       " 150,\n",
       " 153,\n",
       " 156,\n",
       " 159,\n",
       " 162,\n",
       " 165,\n",
       " 168,\n",
       " 171,\n",
       " 174,\n",
       " 177,\n",
       " 180,\n",
       " 183,\n",
       " 186,\n",
       " 189,\n",
       " 192,\n",
       " 195,\n",
       " 198,\n",
       " 201,\n",
       " 204,\n",
       " 207,\n",
       " 210,\n",
       " 213,\n",
       " 216,\n",
       " 219,\n",
       " 222,\n",
       " 225,\n",
       " 228,\n",
       " 231,\n",
       " 234,\n",
       " 237,\n",
       " 240,\n",
       " 243,\n",
       " 246,\n",
       " 249,\n",
       " 252,\n",
       " 255,\n",
       " 258,\n",
       " 261,\n",
       " 264,\n",
       " 267,\n",
       " 270,\n",
       " 273,\n",
       " 276,\n",
       " 279,\n",
       " 282,\n",
       " 285,\n",
       " 288,\n",
       " 291,\n",
       " 294,\n",
       " 297,\n",
       " 300]"
      ]
     },
     "execution_count": 20,
     "metadata": {},
     "output_type": "execute_result"
    }
   ],
   "source": [
    "a"
   ]
  },
  {
   "cell_type": "markdown",
   "id": "8c1d06de",
   "metadata": {},
   "source": [
    "## Utilidad"
   ]
  },
  {
   "cell_type": "code",
   "execution_count": 21,
   "id": "97511516",
   "metadata": {},
   "outputs": [],
   "source": [
    "import pandas as pd\n",
    "data = pd.read_excel(\"datosPE.xlsx\")"
   ]
  },
  {
   "cell_type": "code",
   "execution_count": 23,
   "id": "3843ab15",
   "metadata": {},
   "outputs": [
    {
     "data": {
      "text/html": [
       "<div>\n",
       "<style scoped>\n",
       "    .dataframe tbody tr th:only-of-type {\n",
       "        vertical-align: middle;\n",
       "    }\n",
       "\n",
       "    .dataframe tbody tr th {\n",
       "        vertical-align: top;\n",
       "    }\n",
       "\n",
       "    .dataframe thead th {\n",
       "        text-align: right;\n",
       "    }\n",
       "</style>\n",
       "<table border=\"1\" class=\"dataframe\">\n",
       "  <thead>\n",
       "    <tr style=\"text-align: right;\">\n",
       "      <th></th>\n",
       "      <th>ID Persona</th>\n",
       "      <th>Peso</th>\n",
       "      <th>Estatura</th>\n",
       "      <th>Indice de masa corporal</th>\n",
       "    </tr>\n",
       "  </thead>\n",
       "  <tbody>\n",
       "    <tr>\n",
       "      <th>0</th>\n",
       "      <td>1</td>\n",
       "      <td>67</td>\n",
       "      <td>1.41</td>\n",
       "      <td>33.700518</td>\n",
       "    </tr>\n",
       "    <tr>\n",
       "      <th>1</th>\n",
       "      <td>2</td>\n",
       "      <td>99</td>\n",
       "      <td>1.83</td>\n",
       "      <td>29.561946</td>\n",
       "    </tr>\n",
       "    <tr>\n",
       "      <th>2</th>\n",
       "      <td>3</td>\n",
       "      <td>86</td>\n",
       "      <td>1.90</td>\n",
       "      <td>23.822715</td>\n",
       "    </tr>\n",
       "    <tr>\n",
       "      <th>3</th>\n",
       "      <td>4</td>\n",
       "      <td>118</td>\n",
       "      <td>1.65</td>\n",
       "      <td>43.342516</td>\n",
       "    </tr>\n",
       "    <tr>\n",
       "      <th>4</th>\n",
       "      <td>5</td>\n",
       "      <td>109</td>\n",
       "      <td>1.67</td>\n",
       "      <td>39.083510</td>\n",
       "    </tr>\n",
       "    <tr>\n",
       "      <th>...</th>\n",
       "      <td>...</td>\n",
       "      <td>...</td>\n",
       "      <td>...</td>\n",
       "      <td>...</td>\n",
       "    </tr>\n",
       "    <tr>\n",
       "      <th>95</th>\n",
       "      <td>96</td>\n",
       "      <td>88</td>\n",
       "      <td>1.49</td>\n",
       "      <td>39.637854</td>\n",
       "    </tr>\n",
       "    <tr>\n",
       "      <th>96</th>\n",
       "      <td>97</td>\n",
       "      <td>98</td>\n",
       "      <td>1.54</td>\n",
       "      <td>41.322314</td>\n",
       "    </tr>\n",
       "    <tr>\n",
       "      <th>97</th>\n",
       "      <td>98</td>\n",
       "      <td>95</td>\n",
       "      <td>1.57</td>\n",
       "      <td>38.541117</td>\n",
       "    </tr>\n",
       "    <tr>\n",
       "      <th>98</th>\n",
       "      <td>99</td>\n",
       "      <td>61</td>\n",
       "      <td>1.61</td>\n",
       "      <td>23.533043</td>\n",
       "    </tr>\n",
       "    <tr>\n",
       "      <th>99</th>\n",
       "      <td>100</td>\n",
       "      <td>107</td>\n",
       "      <td>1.62</td>\n",
       "      <td>40.771224</td>\n",
       "    </tr>\n",
       "  </tbody>\n",
       "</table>\n",
       "<p>100 rows × 4 columns</p>\n",
       "</div>"
      ],
      "text/plain": [
       "    ID Persona  Peso  Estatura  Indice de masa corporal\n",
       "0            1    67      1.41                33.700518\n",
       "1            2    99      1.83                29.561946\n",
       "2            3    86      1.90                23.822715\n",
       "3            4   118      1.65                43.342516\n",
       "4            5   109      1.67                39.083510\n",
       "..         ...   ...       ...                      ...\n",
       "95          96    88      1.49                39.637854\n",
       "96          97    98      1.54                41.322314\n",
       "97          98    95      1.57                38.541117\n",
       "98          99    61      1.61                23.533043\n",
       "99         100   107      1.62                40.771224\n",
       "\n",
       "[100 rows x 4 columns]"
      ]
     },
     "execution_count": 23,
     "metadata": {},
     "output_type": "execute_result"
    }
   ],
   "source": [
    "data[\"Indice de masa corporal\"] = data[\"Peso\"]/data[\"Estatura\"]**2\n",
    "data"
   ]
  },
  {
   "cell_type": "markdown",
   "id": "6f11c791",
   "metadata": {},
   "source": [
    "## Utilidad"
   ]
  },
  {
   "cell_type": "code",
   "execution_count": 26,
   "id": "0a478171",
   "metadata": {},
   "outputs": [],
   "source": [
    "import pandas as pd\n",
    "data = pd.read_excel(\"datosCT.xlsx\")"
   ]
  },
  {
   "cell_type": "code",
   "execution_count": 30,
   "id": "47be0bb5",
   "metadata": {},
   "outputs": [
    {
     "data": {
      "text/html": [
       "<div>\n",
       "<style scoped>\n",
       "    .dataframe tbody tr th:only-of-type {\n",
       "        vertical-align: middle;\n",
       "    }\n",
       "\n",
       "    .dataframe tbody tr th {\n",
       "        vertical-align: top;\n",
       "    }\n",
       "\n",
       "    .dataframe thead th {\n",
       "        text-align: right;\n",
       "    }\n",
       "</style>\n",
       "<table border=\"1\" class=\"dataframe\">\n",
       "  <thead>\n",
       "    <tr style=\"text-align: right;\">\n",
       "      <th></th>\n",
       "      <th>Unnamed: 0</th>\n",
       "      <th>Ingreso</th>\n",
       "      <th>Gasto</th>\n",
       "      <th>Promedio</th>\n",
       "    </tr>\n",
       "  </thead>\n",
       "  <tbody>\n",
       "    <tr>\n",
       "      <th>0</th>\n",
       "      <td>Enero</td>\n",
       "      <td>1340</td>\n",
       "      <td>1880</td>\n",
       "      <td>-540</td>\n",
       "    </tr>\n",
       "    <tr>\n",
       "      <th>1</th>\n",
       "      <td>Febrero</td>\n",
       "      <td>2590</td>\n",
       "      <td>3130</td>\n",
       "      <td>-540</td>\n",
       "    </tr>\n",
       "    <tr>\n",
       "      <th>2</th>\n",
       "      <td>Marzo</td>\n",
       "      <td>3570</td>\n",
       "      <td>2140</td>\n",
       "      <td>1430</td>\n",
       "    </tr>\n",
       "    <tr>\n",
       "      <th>3</th>\n",
       "      <td>Abril</td>\n",
       "      <td>4450</td>\n",
       "      <td>3370</td>\n",
       "      <td>1080</td>\n",
       "    </tr>\n",
       "    <tr>\n",
       "      <th>4</th>\n",
       "      <td>Mayo</td>\n",
       "      <td>1330</td>\n",
       "      <td>2990</td>\n",
       "      <td>-1660</td>\n",
       "    </tr>\n",
       "    <tr>\n",
       "      <th>5</th>\n",
       "      <td>Junio</td>\n",
       "      <td>1610</td>\n",
       "      <td>1970</td>\n",
       "      <td>-360</td>\n",
       "    </tr>\n",
       "    <tr>\n",
       "      <th>6</th>\n",
       "      <td>Julio</td>\n",
       "      <td>1500</td>\n",
       "      <td>2230</td>\n",
       "      <td>-730</td>\n",
       "    </tr>\n",
       "    <tr>\n",
       "      <th>7</th>\n",
       "      <td>Agosto</td>\n",
       "      <td>2270</td>\n",
       "      <td>1240</td>\n",
       "      <td>1030</td>\n",
       "    </tr>\n",
       "    <tr>\n",
       "      <th>8</th>\n",
       "      <td>Septiembre</td>\n",
       "      <td>1910</td>\n",
       "      <td>1470</td>\n",
       "      <td>440</td>\n",
       "    </tr>\n",
       "    <tr>\n",
       "      <th>9</th>\n",
       "      <td>Octubre</td>\n",
       "      <td>2120</td>\n",
       "      <td>2280</td>\n",
       "      <td>-160</td>\n",
       "    </tr>\n",
       "    <tr>\n",
       "      <th>10</th>\n",
       "      <td>Noviembre</td>\n",
       "      <td>3950</td>\n",
       "      <td>1870</td>\n",
       "      <td>2080</td>\n",
       "    </tr>\n",
       "    <tr>\n",
       "      <th>11</th>\n",
       "      <td>Diciembre</td>\n",
       "      <td>1380</td>\n",
       "      <td>3140</td>\n",
       "      <td>-1760</td>\n",
       "    </tr>\n",
       "  </tbody>\n",
       "</table>\n",
       "</div>"
      ],
      "text/plain": [
       "    Unnamed: 0  Ingreso  Gasto  Promedio\n",
       "0        Enero     1340   1880      -540\n",
       "1      Febrero     2590   3130      -540\n",
       "2        Marzo     3570   2140      1430\n",
       "3        Abril     4450   3370      1080\n",
       "4         Mayo     1330   2990     -1660\n",
       "5        Junio     1610   1970      -360\n",
       "6        Julio     1500   2230      -730\n",
       "7       Agosto     2270   1240      1030\n",
       "8   Septiembre     1910   1470       440\n",
       "9      Octubre     2120   2280      -160\n",
       "10   Noviembre     3950   1870      2080\n",
       "11   Diciembre     1380   3140     -1760"
      ]
     },
     "execution_count": 30,
     "metadata": {},
     "output_type": "execute_result"
    }
   ],
   "source": [
    "data[\"Utilidad\"] = data[\"Ingreso\"]-data[\"Gasto\"]\n",
    "\n",
    "data"
   ]
  },
  {
   "cell_type": "markdown",
   "id": "492f76d8",
   "metadata": {},
   "source": [
    "## Promedio"
   ]
  },
  {
   "cell_type": "code",
   "execution_count": 46,
   "id": "386add24",
   "metadata": {},
   "outputs": [
    {
     "data": {
      "text/html": [
       "<div>\n",
       "<style scoped>\n",
       "    .dataframe tbody tr th:only-of-type {\n",
       "        vertical-align: middle;\n",
       "    }\n",
       "\n",
       "    .dataframe tbody tr th {\n",
       "        vertical-align: top;\n",
       "    }\n",
       "\n",
       "    .dataframe thead th {\n",
       "        text-align: right;\n",
       "    }\n",
       "</style>\n",
       "<table border=\"1\" class=\"dataframe\">\n",
       "  <thead>\n",
       "    <tr style=\"text-align: right;\">\n",
       "      <th></th>\n",
       "      <th>Unnamed: 0</th>\n",
       "      <th>Ingreso</th>\n",
       "      <th>Gasto</th>\n",
       "      <th>Promedio</th>\n",
       "      <th>Ingresos totales</th>\n",
       "      <th>Promedio de gastos</th>\n",
       "    </tr>\n",
       "  </thead>\n",
       "  <tbody>\n",
       "    <tr>\n",
       "      <th>0</th>\n",
       "      <td>Enero</td>\n",
       "      <td>1340</td>\n",
       "      <td>1880</td>\n",
       "      <td>-540</td>\n",
       "      <td>28020</td>\n",
       "      <td>2517.142857</td>\n",
       "    </tr>\n",
       "    <tr>\n",
       "      <th>1</th>\n",
       "      <td>Febrero</td>\n",
       "      <td>2590</td>\n",
       "      <td>3130</td>\n",
       "      <td>-540</td>\n",
       "      <td>28020</td>\n",
       "      <td>2517.142857</td>\n",
       "    </tr>\n",
       "    <tr>\n",
       "      <th>2</th>\n",
       "      <td>Marzo</td>\n",
       "      <td>3570</td>\n",
       "      <td>2140</td>\n",
       "      <td>1430</td>\n",
       "      <td>28020</td>\n",
       "      <td>2517.142857</td>\n",
       "    </tr>\n",
       "    <tr>\n",
       "      <th>3</th>\n",
       "      <td>Abril</td>\n",
       "      <td>4450</td>\n",
       "      <td>3370</td>\n",
       "      <td>1080</td>\n",
       "      <td>28020</td>\n",
       "      <td>2517.142857</td>\n",
       "    </tr>\n",
       "    <tr>\n",
       "      <th>4</th>\n",
       "      <td>Mayo</td>\n",
       "      <td>1330</td>\n",
       "      <td>2990</td>\n",
       "      <td>-1660</td>\n",
       "      <td>28020</td>\n",
       "      <td>2517.142857</td>\n",
       "    </tr>\n",
       "    <tr>\n",
       "      <th>5</th>\n",
       "      <td>Junio</td>\n",
       "      <td>1610</td>\n",
       "      <td>1970</td>\n",
       "      <td>-360</td>\n",
       "      <td>28020</td>\n",
       "      <td>2517.142857</td>\n",
       "    </tr>\n",
       "    <tr>\n",
       "      <th>6</th>\n",
       "      <td>Julio</td>\n",
       "      <td>1500</td>\n",
       "      <td>2230</td>\n",
       "      <td>-730</td>\n",
       "      <td>28020</td>\n",
       "      <td>2517.142857</td>\n",
       "    </tr>\n",
       "    <tr>\n",
       "      <th>7</th>\n",
       "      <td>Agosto</td>\n",
       "      <td>2270</td>\n",
       "      <td>1240</td>\n",
       "      <td>1030</td>\n",
       "      <td>28020</td>\n",
       "      <td>2517.142857</td>\n",
       "    </tr>\n",
       "    <tr>\n",
       "      <th>8</th>\n",
       "      <td>Septiembre</td>\n",
       "      <td>1910</td>\n",
       "      <td>1470</td>\n",
       "      <td>440</td>\n",
       "      <td>28020</td>\n",
       "      <td>2517.142857</td>\n",
       "    </tr>\n",
       "    <tr>\n",
       "      <th>9</th>\n",
       "      <td>Octubre</td>\n",
       "      <td>2120</td>\n",
       "      <td>2280</td>\n",
       "      <td>-160</td>\n",
       "      <td>28020</td>\n",
       "      <td>2517.142857</td>\n",
       "    </tr>\n",
       "    <tr>\n",
       "      <th>10</th>\n",
       "      <td>Noviembre</td>\n",
       "      <td>3950</td>\n",
       "      <td>1870</td>\n",
       "      <td>2080</td>\n",
       "      <td>28020</td>\n",
       "      <td>2517.142857</td>\n",
       "    </tr>\n",
       "    <tr>\n",
       "      <th>11</th>\n",
       "      <td>Diciembre</td>\n",
       "      <td>1380</td>\n",
       "      <td>3140</td>\n",
       "      <td>-1760</td>\n",
       "      <td>28020</td>\n",
       "      <td>2517.142857</td>\n",
       "    </tr>\n",
       "  </tbody>\n",
       "</table>\n",
       "</div>"
      ],
      "text/plain": [
       "    Unnamed: 0  Ingreso  Gasto  Promedio  Ingresos totales  Promedio de gastos\n",
       "0        Enero     1340   1880      -540             28020         2517.142857\n",
       "1      Febrero     2590   3130      -540             28020         2517.142857\n",
       "2        Marzo     3570   2140      1430             28020         2517.142857\n",
       "3        Abril     4450   3370      1080             28020         2517.142857\n",
       "4         Mayo     1330   2990     -1660             28020         2517.142857\n",
       "5        Junio     1610   1970      -360             28020         2517.142857\n",
       "6        Julio     1500   2230      -730             28020         2517.142857\n",
       "7       Agosto     2270   1240      1030             28020         2517.142857\n",
       "8   Septiembre     1910   1470       440             28020         2517.142857\n",
       "9      Octubre     2120   2280      -160             28020         2517.142857\n",
       "10   Noviembre     3950   1870      2080             28020         2517.142857\n",
       "11   Diciembre     1380   3140     -1760             28020         2517.142857"
      ]
     },
     "execution_count": 46,
     "metadata": {},
     "output_type": "execute_result"
    }
   ],
   "source": [
    "data[\"Promedio de gastos\"]=((1880+3130+2990+1970+2230+2280+3140)/7)\n",
    "\n",
    "data"
   ]
  },
  {
   "cell_type": "markdown",
   "id": "6e771586",
   "metadata": {},
   "source": [
    "## Ingresos totales"
   ]
  },
  {
   "cell_type": "code",
   "execution_count": 47,
   "id": "61120447",
   "metadata": {},
   "outputs": [],
   "source": [
    "data[\"Ingresos totales\"]=data[\"Ingreso\"].sum()"
   ]
  },
  {
   "cell_type": "code",
   "execution_count": 48,
   "id": "2672103a",
   "metadata": {},
   "outputs": [
    {
     "data": {
      "text/html": [
       "<div>\n",
       "<style scoped>\n",
       "    .dataframe tbody tr th:only-of-type {\n",
       "        vertical-align: middle;\n",
       "    }\n",
       "\n",
       "    .dataframe tbody tr th {\n",
       "        vertical-align: top;\n",
       "    }\n",
       "\n",
       "    .dataframe thead th {\n",
       "        text-align: right;\n",
       "    }\n",
       "</style>\n",
       "<table border=\"1\" class=\"dataframe\">\n",
       "  <thead>\n",
       "    <tr style=\"text-align: right;\">\n",
       "      <th></th>\n",
       "      <th>Unnamed: 0</th>\n",
       "      <th>Ingreso</th>\n",
       "      <th>Gasto</th>\n",
       "      <th>Promedio</th>\n",
       "      <th>Ingresos totales</th>\n",
       "      <th>Promedio de gastos</th>\n",
       "    </tr>\n",
       "  </thead>\n",
       "  <tbody>\n",
       "    <tr>\n",
       "      <th>0</th>\n",
       "      <td>Enero</td>\n",
       "      <td>1340</td>\n",
       "      <td>1880</td>\n",
       "      <td>-540</td>\n",
       "      <td>28020</td>\n",
       "      <td>2517.142857</td>\n",
       "    </tr>\n",
       "    <tr>\n",
       "      <th>1</th>\n",
       "      <td>Febrero</td>\n",
       "      <td>2590</td>\n",
       "      <td>3130</td>\n",
       "      <td>-540</td>\n",
       "      <td>28020</td>\n",
       "      <td>2517.142857</td>\n",
       "    </tr>\n",
       "    <tr>\n",
       "      <th>2</th>\n",
       "      <td>Marzo</td>\n",
       "      <td>3570</td>\n",
       "      <td>2140</td>\n",
       "      <td>1430</td>\n",
       "      <td>28020</td>\n",
       "      <td>2517.142857</td>\n",
       "    </tr>\n",
       "    <tr>\n",
       "      <th>3</th>\n",
       "      <td>Abril</td>\n",
       "      <td>4450</td>\n",
       "      <td>3370</td>\n",
       "      <td>1080</td>\n",
       "      <td>28020</td>\n",
       "      <td>2517.142857</td>\n",
       "    </tr>\n",
       "    <tr>\n",
       "      <th>4</th>\n",
       "      <td>Mayo</td>\n",
       "      <td>1330</td>\n",
       "      <td>2990</td>\n",
       "      <td>-1660</td>\n",
       "      <td>28020</td>\n",
       "      <td>2517.142857</td>\n",
       "    </tr>\n",
       "    <tr>\n",
       "      <th>5</th>\n",
       "      <td>Junio</td>\n",
       "      <td>1610</td>\n",
       "      <td>1970</td>\n",
       "      <td>-360</td>\n",
       "      <td>28020</td>\n",
       "      <td>2517.142857</td>\n",
       "    </tr>\n",
       "    <tr>\n",
       "      <th>6</th>\n",
       "      <td>Julio</td>\n",
       "      <td>1500</td>\n",
       "      <td>2230</td>\n",
       "      <td>-730</td>\n",
       "      <td>28020</td>\n",
       "      <td>2517.142857</td>\n",
       "    </tr>\n",
       "    <tr>\n",
       "      <th>7</th>\n",
       "      <td>Agosto</td>\n",
       "      <td>2270</td>\n",
       "      <td>1240</td>\n",
       "      <td>1030</td>\n",
       "      <td>28020</td>\n",
       "      <td>2517.142857</td>\n",
       "    </tr>\n",
       "    <tr>\n",
       "      <th>8</th>\n",
       "      <td>Septiembre</td>\n",
       "      <td>1910</td>\n",
       "      <td>1470</td>\n",
       "      <td>440</td>\n",
       "      <td>28020</td>\n",
       "      <td>2517.142857</td>\n",
       "    </tr>\n",
       "    <tr>\n",
       "      <th>9</th>\n",
       "      <td>Octubre</td>\n",
       "      <td>2120</td>\n",
       "      <td>2280</td>\n",
       "      <td>-160</td>\n",
       "      <td>28020</td>\n",
       "      <td>2517.142857</td>\n",
       "    </tr>\n",
       "    <tr>\n",
       "      <th>10</th>\n",
       "      <td>Noviembre</td>\n",
       "      <td>3950</td>\n",
       "      <td>1870</td>\n",
       "      <td>2080</td>\n",
       "      <td>28020</td>\n",
       "      <td>2517.142857</td>\n",
       "    </tr>\n",
       "    <tr>\n",
       "      <th>11</th>\n",
       "      <td>Diciembre</td>\n",
       "      <td>1380</td>\n",
       "      <td>3140</td>\n",
       "      <td>-1760</td>\n",
       "      <td>28020</td>\n",
       "      <td>2517.142857</td>\n",
       "    </tr>\n",
       "  </tbody>\n",
       "</table>\n",
       "</div>"
      ],
      "text/plain": [
       "    Unnamed: 0  Ingreso  Gasto  Promedio  Ingresos totales  Promedio de gastos\n",
       "0        Enero     1340   1880      -540             28020         2517.142857\n",
       "1      Febrero     2590   3130      -540             28020         2517.142857\n",
       "2        Marzo     3570   2140      1430             28020         2517.142857\n",
       "3        Abril     4450   3370      1080             28020         2517.142857\n",
       "4         Mayo     1330   2990     -1660             28020         2517.142857\n",
       "5        Junio     1610   1970      -360             28020         2517.142857\n",
       "6        Julio     1500   2230      -730             28020         2517.142857\n",
       "7       Agosto     2270   1240      1030             28020         2517.142857\n",
       "8   Septiembre     1910   1470       440             28020         2517.142857\n",
       "9      Octubre     2120   2280      -160             28020         2517.142857\n",
       "10   Noviembre     3950   1870      2080             28020         2517.142857\n",
       "11   Diciembre     1380   3140     -1760             28020         2517.142857"
      ]
     },
     "execution_count": 48,
     "metadata": {},
     "output_type": "execute_result"
    }
   ],
   "source": [
    "data"
   ]
  },
  {
   "cell_type": "code",
   "execution_count": null,
   "id": "907591f5",
   "metadata": {},
   "outputs": [],
   "source": []
  }
 ],
 "metadata": {
  "kernelspec": {
   "display_name": "Python 3 (ipykernel)",
   "language": "python",
   "name": "python3"
  },
  "language_info": {
   "codemirror_mode": {
    "name": "ipython",
    "version": 3
   },
   "file_extension": ".py",
   "mimetype": "text/x-python",
   "name": "python",
   "nbconvert_exporter": "python",
   "pygments_lexer": "ipython3",
   "version": "3.9.12"
  }
 },
 "nbformat": 4,
 "nbformat_minor": 5
}
